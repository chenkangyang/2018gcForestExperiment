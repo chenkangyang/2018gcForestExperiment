{
 "cells": [
  {
   "cell_type": "code",
   "execution_count": 1,
   "metadata": {
    "collapsed": true
   },
   "outputs": [],
   "source": [
    "import pandas as pd\n",
    "import numpy as np\n",
    "\n",
    "from sklearn.model_selection import train_test_split\n",
    "from sklearn import preprocessing\n",
    "from sklearn.pipeline import Pipeline\n",
    "from sklearn.metrics import f1_score\n",
    "from sklearn.model_selection import StratifiedKFold\n",
    "from imblearn.over_sampling import SMOTE\n",
    "import pickle\n",
    "\n",
    "import sys\n",
    "sys.path.append(\"..\") \n",
    "from gcforest.gcforest import GCForest\n",
    "from gcforest.utils.config_utils import load_json"
   ]
  },
  {
   "cell_type": "code",
   "execution_count": 2,
   "metadata": {
    "collapsed": true
   },
   "outputs": [],
   "source": [
    "def Smoter(X, y, is_random=False):\n",
    "    if is_random == True:\n",
    "        # random_lst = list(np.random.randint(0, 1000, 4))\n",
    "        sm = SMOTE(random_state=random_seed)\n",
    "    elif is_random == False:\n",
    "        sm = SMOTE(random_state=0)\n",
    "\n",
    "    # sm = SMOTE(random_state=random_lst[2])\n",
    "    X_smote, y_smote = sm.fit_sample(X, y)\n",
    "\n",
    "    return X_smote, y_smote"
   ]
  },
  {
   "cell_type": "markdown",
   "metadata": {},
   "source": [
    "#### evaluate function"
   ]
  },
  {
   "cell_type": "code",
   "execution_count": 3,
   "metadata": {
    "collapsed": true
   },
   "outputs": [],
   "source": [
    "def evaluate(true, pred):\n",
    "    # compute accuracy, precision and recall\n",
    "    TP, FP, TN, FN = 0, 0, 0, 0\n",
    "\n",
    "    for i in range(0, len(pred)):\n",
    "        if pred[i] == true[i] and true[i] == 1:\n",
    "            TP += 1\n",
    "        elif pred[i] == true[i] and true[i] == 0:\n",
    "            TN += 1\n",
    "        elif pred[i] != true[i] and true[i] == 0:\n",
    "            FP += 1\n",
    "        elif pred[i] != true[i] and true[i] == 1:\n",
    "            FN += 1\n",
    "\n",
    "    precision = TP/(TP + FP)\n",
    "    recall = TP/(TP + FN)\n",
    "    accuracy = (TP+TN)/(TP+TN+FN+FP)\n",
    "    \n",
    "    print('TP=',TP,'FP=',FP,'TN=',TN,'FN=',FN)\n",
    "    F1 = 2*precision*recall / (precision + recall)\n",
    "    print(\"precision\", precision,\"\\nrecall\", recall,\"\\naccuracy\", accuracy)\n",
    "    print('F1=',F1)\n",
    "    return F1, accuracy, precision, recall"
   ]
  },
  {
   "cell_type": "markdown",
   "metadata": {},
   "source": [
    "#### Batch\n",
    "\n",
    "combine serveral datas‘ features together"
   ]
  },
  {
   "cell_type": "code",
   "execution_count": 4,
   "metadata": {
    "collapsed": true
   },
   "outputs": [],
   "source": [
    "def Batch(X, y, size):\n",
    "    batch_size = size\n",
    "\n",
    "    X_trim = X\n",
    "    y_trim = y\n",
    "\n",
    "    if len(X) % batch_size != 0:\n",
    "        extra_num = len(X) % batch_size\n",
    "        X_trim = np.delete(X, range(len(X) - extra_num, len(X)), axis = 0)\n",
    "        y_trim = np.delete(y, range(len(y) - extra_num, len(y)), axis = 0)\n",
    "\n",
    "    X_batch = np.split(X_trim, len(X_trim)/batch_size)\n",
    "    y_batch = np.split(y_trim, len(y_trim)/batch_size)\n",
    "\n",
    "    num_batch = 0\n",
    "\n",
    "    for each_batch in X_batch:\n",
    "        X_batch[num_batch] = np.reshape(X_batch[num_batch], (9*batch_size))\n",
    "        y_batch[num_batch] = y_batch[num_batch][-1]\n",
    "        num_batch += 1\n",
    "\n",
    "    X_batch = np.array(X_batch)\n",
    "    y_batch = np.array(y_batch)\n",
    "    return X_batch, y_batch"
   ]
  },
  {
   "cell_type": "markdown",
   "metadata": {},
   "source": [
    "#### gc_config"
   ]
  },
  {
   "cell_type": "code",
   "execution_count": 5,
   "metadata": {
    "collapsed": true
   },
   "outputs": [],
   "source": [
    "def get_toy_config():\n",
    "    config = {}\n",
    "    ca_config = {}\n",
    "    ca_config[\"random_state\"] = random_seed\n",
    "    ca_config[\"max_layers\"] = 10\n",
    "    ca_config[\"early_stopping_rounds\"] = 3\n",
    "    ca_config[\"n_classes\"] = 2\n",
    "    ca_config[\"estimators\"] = []\n",
    "    ca_config[\"estimators\"].append({\"n_folds\": 5, \"type\": \"RandomForestClassifier\", \"n_estimators\": 10, \"max_depth\": None, \"n_jobs\": -1})\n",
    "    ca_config[\"estimators\"].append({\"n_folds\": 5, \n",
    "                                    \"type\": \"XGBClassifier\", \n",
    "                                    \"n_estimators\": 1150, \n",
    "                                    \"learning_rate\": 0.1,\n",
    "                                    \"max_depth\":4,\n",
    "                                    \"gamma\":0,\n",
    "                                    \"subsample\":0.8,\n",
    "                                    \"colsample_bytree\":0.8,\n",
    "                                    \"objective\":'binary:logistic',\n",
    "                                    \"scale_pos_weight\":0.7999,\n",
    "                                    \"seed\":random_seed,\n",
    "                                    \"n_jobs\": -1})\n",
    "    ca_config[\"estimators\"].append({\"n_folds\": 5, \n",
    "                                    \"type\": \"XGBClassifier\", \n",
    "                                    \"n_estimators\": 1000, \n",
    "                                    \"max_depth\":4,\n",
    "                                    \"learning_rate\": 0.1,\n",
    "                                    \"gamma\":0,\n",
    "                                    \"subsample\":0.8,\n",
    "                                    \"colsample_bytree\":0.8,\n",
    "                                    \"objective\":'binary:logistic',\n",
    "                                    \"scale_pos_weight\":1,\n",
    "                                    \"seed\":random_seed,\n",
    "                                    \"n_jobs\": -1})\n",
    "    config[\"cascade\"] = ca_config\n",
    "    return config"
   ]
  },
  {
   "cell_type": "markdown",
   "metadata": {},
   "source": [
    "### HyperParameter"
   ]
  },
  {
   "cell_type": "code",
   "execution_count": 6,
   "metadata": {
    "collapsed": true
   },
   "outputs": [],
   "source": [
    "batch_size = 3\n",
    "test_size = 0.2\n",
    "random_seed = 42\n",
    "cv = 5"
   ]
  },
  {
   "cell_type": "markdown",
   "metadata": {},
   "source": [
    "# load train"
   ]
  },
  {
   "cell_type": "code",
   "execution_count": 7,
   "metadata": {
    "collapsed": true
   },
   "outputs": [],
   "source": [
    "data_all = pd.read_csv(\"../data/water/csv/train2019.csv\")\n",
    "\n",
    "X = data_all.values[:, 0:-1]\n",
    "y = data_all.values[:, -1]"
   ]
  },
  {
   "cell_type": "markdown",
   "metadata": {},
   "source": [
    "#### train_valid_split"
   ]
  },
  {
   "cell_type": "code",
   "execution_count": 8,
   "metadata": {},
   "outputs": [
    {
     "name": "stdout",
     "output_type": "stream",
     "text": [
      "============ train_valid_split ============\n",
      "train: 105769, valid: 26443\n"
     ]
    }
   ],
   "source": [
    "print(\"============ train_valid_split ============\")\n",
    "X_train, X_valid, y_train, y_valid = train_test_split(X, y,test_size=test_size, stratify=y, random_state=random_seed)\n",
    "print(\"train: %d, valid: %d\" %(X_train.shape[0], X_valid.shape[0]))"
   ]
  },
  {
   "cell_type": "markdown",
   "metadata": {},
   "source": [
    "### clean the data before somte\n",
    "\n",
    "fulfill the Na with median, then standardized the data, output type ndarray"
   ]
  },
  {
   "cell_type": "code",
   "execution_count": 9,
   "metadata": {},
   "outputs": [
    {
     "name": "stderr",
     "output_type": "stream",
     "text": [
      "C:\\Users\\80743\\AppData\\Roaming\\Python\\Python36\\site-packages\\sklearn\\utils\\deprecation.py:58: DeprecationWarning: Class Imputer is deprecated; Imputer was deprecated in version 0.20 and will be removed in 0.22. Import impute.SimpleImputer from sklearn instead.\n",
      "  warnings.warn(msg, category=DeprecationWarning)\n"
     ]
    }
   ],
   "source": [
    "clean_pipeline = Pipeline([('imputer', preprocessing.Imputer(missing_values='NaN',strategy=\"median\")),\n",
    "                           ('std_scaler', preprocessing.StandardScaler()),])\n",
    "X_train = clean_pipeline.fit_transform(X_train)\n",
    "# X_valid = clean_pipeline.fit_transform(X_valid)"
   ]
  },
  {
   "cell_type": "markdown",
   "metadata": {},
   "source": [
    "#### Do somte sampling on the train data to solve data imblance problem"
   ]
  },
  {
   "cell_type": "code",
   "execution_count": 10,
   "metadata": {
    "collapsed": true
   },
   "outputs": [],
   "source": [
    "# X_train_oversampled, y_train_oversampled = Smoter(X_train, y_train, is_random=True)\n",
    "# print(\"============ SMOTE ============\")\n",
    "# print(\"train: %d, contains %.4f of 0 , after SMOTE: train: %d contains %.4f of 1\" %(X_train.shape[0], (y_train == 0).sum()/y_train.shape[0], X_train_oversampled.shape[0], (y_train_oversampled == 0).sum()/y_train_oversampled.shape[0]))"
   ]
  },
  {
   "cell_type": "code",
   "execution_count": 11,
   "metadata": {
    "collapsed": true
   },
   "outputs": [],
   "source": [
    "# X_train_oversampled_batch, y_train_oversampled_batch = Batch(X_train_oversampled, y_train_oversampled, batch_size)\n",
    "# X_train_batch, y_train_batch = Batch(X_train, y_train, batch_size)\n",
    "# X_valid_batch, y_valid_batch = Batch(X_valid, y_valid, batch_size)"
   ]
  },
  {
   "cell_type": "markdown",
   "metadata": {},
   "source": [
    "# GcForest\n",
    "\n",
    "## test gc"
   ]
  },
  {
   "cell_type": "markdown",
   "metadata": {},
   "source": [
    "# load 2019 Test datasets"
   ]
  },
  {
   "cell_type": "code",
   "execution_count": 12,
   "metadata": {
    "collapsed": true
   },
   "outputs": [],
   "source": [
    "# test = pd.read_csv(\"../data/water/csv/test2018.csv\")\n",
    "\n",
    "# X_test = test.values[:, 0:-1]\n",
    "# y_test = test.values[:, -1]\n",
    "\n",
    "# X_test = clean_pipeline.fit_transform(X_test)"
   ]
  },
  {
   "cell_type": "code",
   "execution_count": 13,
   "metadata": {},
   "outputs": [
    {
     "name": "stderr",
     "output_type": "stream",
     "text": [
      "[ 2019-03-23 23:11:47,367][cascade_classifier.fit_transform] X_groups_train.shape=[(105769, 6)],y_train.shape=(105769,),X_groups_test.shape=[(26443, 6)],y_test.shape=(26443,)\n",
      "[ 2019-03-23 23:11:47,376][cascade_classifier.fit_transform] group_dims=[6]\n",
      "[ 2019-03-23 23:11:47,378][cascade_classifier.fit_transform] group_starts=[0]\n",
      "[ 2019-03-23 23:11:47,381][cascade_classifier.fit_transform] group_ends=[6]\n",
      "[ 2019-03-23 23:11:47,383][cascade_classifier.fit_transform] X_train.shape=(105769, 6),X_test.shape=(26443, 6)\n",
      "[ 2019-03-23 23:11:47,396][cascade_classifier.fit_transform] [layer=0] look_indexs=[0], X_cur_train.shape=(105769, 6), X_cur_test.shape=(26443, 6)\n",
      "[ 2019-03-23 23:11:48,493][kfold_wrapper.log_eval_metrics] F1 (layer_0 - estimator_0 - 5_folds.train_0.predict)=85.25%\n",
      "[ 2019-03-23 23:11:49,485][kfold_wrapper.log_eval_metrics] F1 (layer_0 - estimator_0 - 5_folds.train_1.predict)=83.33%\n",
      "[ 2019-03-23 23:11:50,322][kfold_wrapper.log_eval_metrics] F1 (layer_0 - estimator_0 - 5_folds.train_2.predict)=90.00%\n",
      "[ 2019-03-23 23:11:51,259][kfold_wrapper.log_eval_metrics] F1 (layer_0 - estimator_0 - 5_folds.train_3.predict)=88.89%\n",
      "[ 2019-03-23 23:11:52,106][kfold_wrapper.log_eval_metrics] F1 (layer_0 - estimator_0 - 5_folds.train_4.predict)=85.71%\n",
      "[ 2019-03-23 23:11:52,244][kfold_wrapper.log_eval_metrics] F1 (layer_0 - estimator_0 - 5_folds.train_cv.predict)=86.64%\n",
      "[ 2019-03-23 23:11:52,254][kfold_wrapper.log_eval_metrics] F1 (layer_0 - estimator_0 - 5_folds.test.predict)=0.32%\n",
      "[ 2019-03-23 23:12:30,424][kfold_wrapper.log_eval_metrics] F1 (layer_0 - estimator_1 - 5_folds.train_0.predict)=90.32%\n",
      "[ 2019-03-23 23:13:10,536][kfold_wrapper.log_eval_metrics] F1 (layer_0 - estimator_1 - 5_folds.train_1.predict)=93.94%\n",
      "[ 2019-03-23 23:13:48,335][kfold_wrapper.log_eval_metrics] F1 (layer_0 - estimator_1 - 5_folds.train_2.predict)=91.80%\n",
      "[ 2019-03-23 23:14:26,148][kfold_wrapper.log_eval_metrics] F1 (layer_0 - estimator_1 - 5_folds.train_3.predict)=88.89%\n",
      "[ 2019-03-23 23:15:03,701][kfold_wrapper.log_eval_metrics] F1 (layer_0 - estimator_1 - 5_folds.train_4.predict)=84.21%\n",
      "[ 2019-03-23 23:15:04,036][kfold_wrapper.log_eval_metrics] F1 (layer_0 - estimator_1 - 5_folds.train_cv.predict)=89.97%\n",
      "[ 2019-03-23 23:15:04,053][kfold_wrapper.log_eval_metrics] F1 (layer_0 - estimator_1 - 5_folds.test.predict)=0.32%\n",
      "[ 2019-03-23 23:15:37,974][kfold_wrapper.log_eval_metrics] F1 (layer_0 - estimator_2 - 5_folds.train_0.predict)=90.32%\n",
      "[ 2019-03-23 23:16:11,580][kfold_wrapper.log_eval_metrics] F1 (layer_0 - estimator_2 - 5_folds.train_1.predict)=92.06%\n",
      "[ 2019-03-23 23:16:44,892][kfold_wrapper.log_eval_metrics] F1 (layer_0 - estimator_2 - 5_folds.train_2.predict)=91.80%\n",
      "[ 2019-03-23 23:17:18,509][kfold_wrapper.log_eval_metrics] F1 (layer_0 - estimator_2 - 5_folds.train_3.predict)=95.24%\n",
      "[ 2019-03-23 23:17:52,105][kfold_wrapper.log_eval_metrics] F1 (layer_0 - estimator_2 - 5_folds.train_4.predict)=87.10%\n",
      "[ 2019-03-23 23:17:52,432][kfold_wrapper.log_eval_metrics] F1 (layer_0 - estimator_2 - 5_folds.train_cv.predict)=91.32%\n",
      "[ 2019-03-23 23:17:52,449][kfold_wrapper.log_eval_metrics] F1 (layer_0 - estimator_2 - 5_folds.test.predict)=0.32%\n",
      "[ 2019-03-23 23:17:52,484][cascade_classifier.calc_f1] F1 (layer_0 - train.classifier_average)=90.32%\n",
      "[ 2019-03-23 23:17:52,495][cascade_classifier.calc_f1] F1 (layer_0 - test.classifier_average)=0.32%\n",
      "[ 2019-03-23 23:17:52,515][cascade_classifier.fit_transform] [layer=1] look_indexs=[0], X_cur_train.shape=(105769, 12), X_cur_test.shape=(26443, 12)\n",
      "[ 2019-03-23 23:17:53,215][kfold_wrapper.log_eval_metrics] F1 (layer_1 - estimator_0 - 5_folds.train_0.predict)=92.06%\n",
      "[ 2019-03-23 23:17:53,955][kfold_wrapper.log_eval_metrics] F1 (layer_1 - estimator_0 - 5_folds.train_1.predict)=90.91%\n",
      "[ 2019-03-23 23:17:54,693][kfold_wrapper.log_eval_metrics] F1 (layer_1 - estimator_0 - 5_folds.train_2.predict)=94.12%\n",
      "[ 2019-03-23 23:17:55,536][kfold_wrapper.log_eval_metrics] F1 (layer_1 - estimator_0 - 5_folds.train_3.predict)=93.55%\n",
      "[ 2019-03-23 23:17:56,350][kfold_wrapper.log_eval_metrics] F1 (layer_1 - estimator_0 - 5_folds.train_4.predict)=93.75%\n",
      "[ 2019-03-23 23:17:56,487][kfold_wrapper.log_eval_metrics] F1 (layer_1 - estimator_0 - 5_folds.train_cv.predict)=92.88%\n",
      "[ 2019-03-23 23:17:56,496][kfold_wrapper.log_eval_metrics] F1 (layer_1 - estimator_0 - 5_folds.test.predict)=0.32%\n",
      "[ 2019-03-23 23:18:37,759][kfold_wrapper.log_eval_metrics] F1 (layer_1 - estimator_1 - 5_folds.train_0.predict)=90.62%\n",
      "[ 2019-03-23 23:19:19,613][kfold_wrapper.log_eval_metrics] F1 (layer_1 - estimator_1 - 5_folds.train_1.predict)=89.55%\n",
      "[ 2019-03-23 23:20:02,243][kfold_wrapper.log_eval_metrics] F1 (layer_1 - estimator_1 - 5_folds.train_2.predict)=93.75%\n",
      "[ 2019-03-23 23:20:44,521][kfold_wrapper.log_eval_metrics] F1 (layer_1 - estimator_1 - 5_folds.train_3.predict)=95.52%\n",
      "[ 2019-03-23 23:21:25,811][kfold_wrapper.log_eval_metrics] F1 (layer_1 - estimator_1 - 5_folds.train_4.predict)=87.50%\n",
      "[ 2019-03-23 23:21:26,102][kfold_wrapper.log_eval_metrics] F1 (layer_1 - estimator_1 - 5_folds.train_cv.predict)=91.41%\n",
      "[ 2019-03-23 23:21:26,120][kfold_wrapper.log_eval_metrics] F1 (layer_1 - estimator_1 - 5_folds.test.predict)=0.32%\n",
      "[ 2019-03-23 23:22:03,562][kfold_wrapper.log_eval_metrics] F1 (layer_1 - estimator_2 - 5_folds.train_0.predict)=92.75%\n",
      "[ 2019-03-23 23:22:41,249][kfold_wrapper.log_eval_metrics] F1 (layer_1 - estimator_2 - 5_folds.train_1.predict)=96.97%\n",
      "[ 2019-03-23 23:23:17,614][kfold_wrapper.log_eval_metrics] F1 (layer_1 - estimator_2 - 5_folds.train_2.predict)=88.52%\n",
      "[ 2019-03-23 23:23:56,801][kfold_wrapper.log_eval_metrics] F1 (layer_1 - estimator_2 - 5_folds.train_3.predict)=90.91%\n",
      "[ 2019-03-23 23:24:33,780][kfold_wrapper.log_eval_metrics] F1 (layer_1 - estimator_2 - 5_folds.train_4.predict)=90.62%\n",
      "[ 2019-03-23 23:24:34,060][kfold_wrapper.log_eval_metrics] F1 (layer_1 - estimator_2 - 5_folds.train_cv.predict)=92.02%\n",
      "[ 2019-03-23 23:24:34,077][kfold_wrapper.log_eval_metrics] F1 (layer_1 - estimator_2 - 5_folds.test.predict)=0.32%\n",
      "[ 2019-03-23 23:24:34,120][cascade_classifier.calc_f1] F1 (layer_1 - train.classifier_average)=92.02%\n",
      "[ 2019-03-23 23:24:34,129][cascade_classifier.calc_f1] F1 (layer_1 - test.classifier_average)=0.32%\n",
      "[ 2019-03-23 23:24:34,148][cascade_classifier.fit_transform] [layer=2] look_indexs=[0], X_cur_train.shape=(105769, 12), X_cur_test.shape=(26443, 12)\n",
      "[ 2019-03-23 23:24:34,805][kfold_wrapper.log_eval_metrics] F1 (layer_2 - estimator_0 - 5_folds.train_0.predict)=89.23%\n",
      "[ 2019-03-23 23:24:35,505][kfold_wrapper.log_eval_metrics] F1 (layer_2 - estimator_0 - 5_folds.train_1.predict)=92.06%\n",
      "[ 2019-03-23 23:24:36,222][kfold_wrapper.log_eval_metrics] F1 (layer_2 - estimator_0 - 5_folds.train_2.predict)=85.29%\n",
      "[ 2019-03-23 23:24:37,064][kfold_wrapper.log_eval_metrics] F1 (layer_2 - estimator_0 - 5_folds.train_3.predict)=96.97%\n",
      "[ 2019-03-23 23:24:39,912][kfold_wrapper.log_eval_metrics] F1 (layer_2 - estimator_0 - 5_folds.train_4.predict)=95.24%\n",
      "[ 2019-03-23 23:24:40,047][kfold_wrapper.log_eval_metrics] F1 (layer_2 - estimator_0 - 5_folds.train_cv.predict)=91.69%\n",
      "[ 2019-03-23 23:24:40,055][kfold_wrapper.log_eval_metrics] F1 (layer_2 - estimator_0 - 5_folds.test.predict)=0.32%\n",
      "[ 2019-03-23 23:25:24,660][kfold_wrapper.log_eval_metrics] F1 (layer_2 - estimator_1 - 5_folds.train_0.predict)=96.97%\n",
      "[ 2019-03-23 23:26:08,475][kfold_wrapper.log_eval_metrics] F1 (layer_2 - estimator_1 - 5_folds.train_1.predict)=91.18%\n",
      "[ 2019-03-23 23:26:52,772][kfold_wrapper.log_eval_metrics] F1 (layer_2 - estimator_1 - 5_folds.train_2.predict)=92.31%\n",
      "[ 2019-03-23 23:27:34,845][kfold_wrapper.log_eval_metrics] F1 (layer_2 - estimator_1 - 5_folds.train_3.predict)=87.10%\n",
      "[ 2019-03-23 23:28:18,413][kfold_wrapper.log_eval_metrics] F1 (layer_2 - estimator_1 - 5_folds.train_4.predict)=90.91%\n",
      "[ 2019-03-23 23:28:18,731][kfold_wrapper.log_eval_metrics] F1 (layer_2 - estimator_1 - 5_folds.train_cv.predict)=91.74%\n",
      "[ 2019-03-23 23:28:18,745][kfold_wrapper.log_eval_metrics] F1 (layer_2 - estimator_1 - 5_folds.test.predict)=0.32%\n",
      "[ 2019-03-23 23:28:58,309][kfold_wrapper.log_eval_metrics] F1 (layer_2 - estimator_2 - 5_folds.train_0.predict)=95.65%\n",
      "[ 2019-03-23 23:29:37,447][kfold_wrapper.log_eval_metrics] F1 (layer_2 - estimator_2 - 5_folds.train_1.predict)=92.54%\n"
     ]
    },
    {
     "name": "stderr",
     "output_type": "stream",
     "text": [
      "[ 2019-03-23 23:30:15,890][kfold_wrapper.log_eval_metrics] F1 (layer_2 - estimator_2 - 5_folds.train_2.predict)=85.71%\n",
      "[ 2019-03-23 23:30:55,392][kfold_wrapper.log_eval_metrics] F1 (layer_2 - estimator_2 - 5_folds.train_3.predict)=90.91%\n",
      "[ 2019-03-23 23:31:33,368][kfold_wrapper.log_eval_metrics] F1 (layer_2 - estimator_2 - 5_folds.train_4.predict)=91.80%\n",
      "[ 2019-03-23 23:31:33,657][kfold_wrapper.log_eval_metrics] F1 (layer_2 - estimator_2 - 5_folds.train_cv.predict)=91.41%\n",
      "[ 2019-03-23 23:31:33,675][kfold_wrapper.log_eval_metrics] F1 (layer_2 - estimator_2 - 5_folds.test.predict)=0.32%\n",
      "[ 2019-03-23 23:31:33,710][cascade_classifier.calc_f1] F1 (layer_2 - train.classifier_average)=91.69%\n",
      "[ 2019-03-23 23:31:33,719][cascade_classifier.calc_f1] F1 (layer_2 - test.classifier_average)=0.32%\n",
      "[ 2019-03-23 23:31:33,738][cascade_classifier.fit_transform] [layer=3] look_indexs=[0], X_cur_train.shape=(105769, 12), X_cur_test.shape=(26443, 12)\n",
      "[ 2019-03-23 23:31:34,500][kfold_wrapper.log_eval_metrics] F1 (layer_3 - estimator_0 - 5_folds.train_0.predict)=89.55%\n",
      "[ 2019-03-23 23:31:37,517][kfold_wrapper.log_eval_metrics] F1 (layer_3 - estimator_0 - 5_folds.train_1.predict)=93.75%\n",
      "[ 2019-03-23 23:31:38,258][kfold_wrapper.log_eval_metrics] F1 (layer_3 - estimator_0 - 5_folds.train_2.predict)=91.80%\n",
      "[ 2019-03-23 23:31:39,099][kfold_wrapper.log_eval_metrics] F1 (layer_3 - estimator_0 - 5_folds.train_3.predict)=92.54%\n",
      "[ 2019-03-23 23:31:39,939][kfold_wrapper.log_eval_metrics] F1 (layer_3 - estimator_0 - 5_folds.train_4.predict)=93.75%\n",
      "[ 2019-03-23 23:31:40,076][kfold_wrapper.log_eval_metrics] F1 (layer_3 - estimator_0 - 5_folds.train_cv.predict)=92.26%\n",
      "[ 2019-03-23 23:31:40,084][kfold_wrapper.log_eval_metrics] F1 (layer_3 - estimator_0 - 5_folds.test.predict)=0.32%\n",
      "[ 2019-03-23 23:32:24,274][kfold_wrapper.log_eval_metrics] F1 (layer_3 - estimator_1 - 5_folds.train_0.predict)=94.12%\n",
      "[ 2019-03-23 23:33:07,504][kfold_wrapper.log_eval_metrics] F1 (layer_3 - estimator_1 - 5_folds.train_1.predict)=84.38%\n",
      "[ 2019-03-23 23:33:52,908][kfold_wrapper.log_eval_metrics] F1 (layer_3 - estimator_1 - 5_folds.train_2.predict)=95.52%\n",
      "[ 2019-03-23 23:34:37,993][kfold_wrapper.log_eval_metrics] F1 (layer_3 - estimator_1 - 5_folds.train_3.predict)=95.38%\n",
      "[ 2019-03-23 23:35:21,800][kfold_wrapper.log_eval_metrics] F1 (layer_3 - estimator_1 - 5_folds.train_4.predict)=85.25%\n",
      "[ 2019-03-23 23:35:22,118][kfold_wrapper.log_eval_metrics] F1 (layer_3 - estimator_1 - 5_folds.train_cv.predict)=91.08%\n",
      "C:\\Users\\80743\\AppData\\Roaming\\Python\\Python36\\site-packages\\sklearn\\metrics\\classification.py:1143: UndefinedMetricWarning: F-score is ill-defined and being set to 0.0 due to no predicted samples.\n",
      "  'precision', 'predicted', average, warn_for)\n",
      "[ 2019-03-23 23:35:22,145][kfold_wrapper.log_eval_metrics] F1 (layer_3 - estimator_1 - 5_folds.test.predict)=0.00%\n",
      "[ 2019-03-23 23:36:01,750][kfold_wrapper.log_eval_metrics] F1 (layer_3 - estimator_2 - 5_folds.train_0.predict)=95.52%\n",
      "[ 2019-03-23 23:36:41,108][kfold_wrapper.log_eval_metrics] F1 (layer_3 - estimator_2 - 5_folds.train_1.predict)=92.31%\n",
      "[ 2019-03-23 23:37:20,137][kfold_wrapper.log_eval_metrics] F1 (layer_3 - estimator_2 - 5_folds.train_2.predict)=90.62%\n",
      "[ 2019-03-23 23:38:00,704][kfold_wrapper.log_eval_metrics] F1 (layer_3 - estimator_2 - 5_folds.train_3.predict)=95.65%\n",
      "[ 2019-03-23 23:38:36,948][kfold_wrapper.log_eval_metrics] F1 (layer_3 - estimator_2 - 5_folds.train_4.predict)=80.00%\n",
      "[ 2019-03-23 23:38:37,215][kfold_wrapper.log_eval_metrics] F1 (layer_3 - estimator_2 - 5_folds.train_cv.predict)=91.08%\n",
      "[ 2019-03-23 23:38:37,232][kfold_wrapper.log_eval_metrics] F1 (layer_3 - estimator_2 - 5_folds.test.predict)=1.21%\n",
      "[ 2019-03-23 23:38:37,266][cascade_classifier.calc_f1] F1 (layer_3 - train.classifier_average)=91.36%\n",
      "[ 2019-03-23 23:38:37,274][cascade_classifier.calc_f1] F1 (layer_3 - test.classifier_average)=0.00%\n",
      "[ 2019-03-23 23:38:37,292][cascade_classifier.fit_transform] [layer=4] look_indexs=[0], X_cur_train.shape=(105769, 12), X_cur_test.shape=(26443, 12)\n",
      "[ 2019-03-23 23:38:38,052][kfold_wrapper.log_eval_metrics] F1 (layer_4 - estimator_0 - 5_folds.train_0.predict)=87.88%\n",
      "[ 2019-03-23 23:38:38,988][kfold_wrapper.log_eval_metrics] F1 (layer_4 - estimator_0 - 5_folds.train_1.predict)=92.54%\n",
      "[ 2019-03-23 23:38:39,955][kfold_wrapper.log_eval_metrics] F1 (layer_4 - estimator_0 - 5_folds.train_2.predict)=95.38%\n",
      "[ 2019-03-23 23:38:43,102][kfold_wrapper.log_eval_metrics] F1 (layer_4 - estimator_0 - 5_folds.train_3.predict)=96.88%\n",
      "[ 2019-03-23 23:38:44,041][kfold_wrapper.log_eval_metrics] F1 (layer_4 - estimator_0 - 5_folds.train_4.predict)=88.52%\n",
      "[ 2019-03-23 23:38:44,180][kfold_wrapper.log_eval_metrics] F1 (layer_4 - estimator_0 - 5_folds.train_cv.predict)=92.26%\n",
      "[ 2019-03-23 23:38:44,188][kfold_wrapper.log_eval_metrics] F1 (layer_4 - estimator_0 - 5_folds.test.predict)=0.20%\n",
      "[ 2019-03-23 23:39:28,628][kfold_wrapper.log_eval_metrics] F1 (layer_4 - estimator_1 - 5_folds.train_0.predict)=90.62%\n",
      "[ 2019-03-23 23:40:14,136][kfold_wrapper.log_eval_metrics] F1 (layer_4 - estimator_1 - 5_folds.train_1.predict)=91.18%\n",
      "[ 2019-03-23 23:40:58,800][kfold_wrapper.log_eval_metrics] F1 (layer_4 - estimator_1 - 5_folds.train_2.predict)=87.10%\n",
      "[ 2019-03-23 23:41:42,768][kfold_wrapper.log_eval_metrics] F1 (layer_4 - estimator_1 - 5_folds.train_3.predict)=90.62%\n",
      "[ 2019-03-23 23:42:28,291][kfold_wrapper.log_eval_metrics] F1 (layer_4 - estimator_1 - 5_folds.train_4.predict)=96.88%\n",
      "[ 2019-03-23 23:42:28,622][kfold_wrapper.log_eval_metrics] F1 (layer_4 - estimator_1 - 5_folds.train_cv.predict)=91.30%\n",
      "C:\\Users\\80743\\AppData\\Roaming\\Python\\Python36\\site-packages\\sklearn\\metrics\\classification.py:1143: UndefinedMetricWarning: F-score is ill-defined and being set to 0.0 due to no predicted samples.\n",
      "  'precision', 'predicted', average, warn_for)\n",
      "[ 2019-03-23 23:42:28,636][kfold_wrapper.log_eval_metrics] F1 (layer_4 - estimator_1 - 5_folds.test.predict)=0.00%\n",
      "[ 2019-03-23 23:43:07,756][kfold_wrapper.log_eval_metrics] F1 (layer_4 - estimator_2 - 5_folds.train_0.predict)=92.31%\n",
      "[ 2019-03-23 23:43:47,241][kfold_wrapper.log_eval_metrics] F1 (layer_4 - estimator_2 - 5_folds.train_1.predict)=90.62%\n",
      "[ 2019-03-23 23:44:27,021][kfold_wrapper.log_eval_metrics] F1 (layer_4 - estimator_2 - 5_folds.train_2.predict)=90.62%\n",
      "[ 2019-03-23 23:45:07,687][kfold_wrapper.log_eval_metrics] F1 (layer_4 - estimator_2 - 5_folds.train_3.predict)=92.06%\n",
      "[ 2019-03-23 23:45:47,747][kfold_wrapper.log_eval_metrics] F1 (layer_4 - estimator_2 - 5_folds.train_4.predict)=94.12%\n",
      "[ 2019-03-23 23:45:48,110][kfold_wrapper.log_eval_metrics] F1 (layer_4 - estimator_2 - 5_folds.train_cv.predict)=91.98%\n",
      "C:\\Users\\80743\\AppData\\Roaming\\Python\\Python36\\site-packages\\sklearn\\metrics\\classification.py:1143: UndefinedMetricWarning: F-score is ill-defined and being set to 0.0 due to no predicted samples.\n",
      "  'precision', 'predicted', average, warn_for)\n",
      "[ 2019-03-23 23:45:48,122][kfold_wrapper.log_eval_metrics] F1 (layer_4 - estimator_2 - 5_folds.test.predict)=0.00%\n",
      "[ 2019-03-23 23:45:48,155][cascade_classifier.calc_f1] F1 (layer_4 - train.classifier_average)=91.93%\n",
      "[ 2019-03-23 23:45:48,164][cascade_classifier.calc_f1] F1 (layer_4 - test.classifier_average)=0.00%\n",
      "[ 2019-03-23 23:45:48,165][cascade_classifier.fit_transform] [Result][Optimal Level Detected] opt_layer_num=2, f1_train=92.02%, f1_test=0.32%\n"
     ]
    },
    {
     "data": {
      "text/plain": [
       "(array([[1.0000000e+00, 0.0000000e+00, 9.9999964e-01, 3.8453169e-07,\n",
       "         9.9999976e-01, 2.1194627e-07],\n",
       "        [1.0000000e+00, 0.0000000e+00, 9.9999845e-01, 1.5463777e-06,\n",
       "         9.9999458e-01, 5.4086931e-06],\n",
       "        [1.0000000e+00, 0.0000000e+00, 9.9998903e-01, 1.0966282e-05,\n",
       "         9.9999839e-01, 1.6241576e-06],\n",
       "        ...,\n",
       "        [1.0000000e+00, 0.0000000e+00, 9.9999940e-01, 5.6761570e-07,\n",
       "         9.9999183e-01, 8.1667431e-06],\n",
       "        [1.0000000e+00, 0.0000000e+00, 9.9999535e-01, 4.6226655e-06,\n",
       "         9.9998307e-01, 1.6925143e-05],\n",
       "        [1.0000000e+00, 0.0000000e+00, 9.9999970e-01, 3.1187909e-07,\n",
       "         9.9999934e-01, 6.6976378e-07]], dtype=float32),\n",
       " array([[0.48      , 0.52      , 0.97852594, 0.02147408, 0.9195851 ,\n",
       "         0.08041488],\n",
       "        [0.48      , 0.52      , 0.97852594, 0.02147408, 0.9195851 ,\n",
       "         0.08041488],\n",
       "        [0.48      , 0.52      , 0.97852594, 0.02147408, 0.9195851 ,\n",
       "         0.08041488],\n",
       "        ...,\n",
       "        [0.48      , 0.52      , 0.97852594, 0.02147408, 0.9195851 ,\n",
       "         0.08041488],\n",
       "        [0.48      , 0.52      , 0.97852594, 0.02147408, 0.9195851 ,\n",
       "         0.08041488],\n",
       "        [0.48      , 0.52      , 0.97852594, 0.02147408, 0.9195851 ,\n",
       "         0.08041488]], dtype=float32))"
      ]
     },
     "execution_count": 13,
     "metadata": {},
     "output_type": "execute_result"
    }
   ],
   "source": [
    "# X_train, X_valid, y_train, y_valid = train_test_split(X, y, test_size=test_size, stratify = y, random_state = random_seed)\n",
    "\n",
    "# X_train_oversampled, y_train_oversampled = Smoter(X_train, y_train, is_random=True)\n",
    "config = get_toy_config()\n",
    "gc = GCForest(config)\n",
    "\n",
    "gc.fit_transform(X_train, y_train, X_valid, y_valid)\n",
    "# y_valid_pred = gc.predict(X_valid)"
   ]
  },
  {
   "cell_type": "code",
   "execution_count": 13,
   "metadata": {
    "collapsed": true
   },
   "outputs": [],
   "source": [
    "# dump\n",
    "with open(\"../pkl/2019_gc.pkl\", \"wb\") as f:\n",
    "    pickle.dump(gc, f, pickle.HIGHEST_PROTOCOL)\n",
    "    \n",
    "# # load\n",
    "# with open(\"../pkl/2018_gc.pkl\", \"rb\") as f:\n",
    "#     gc = pickle.load(f)"
   ]
  },
  {
   "cell_type": "code",
   "execution_count": null,
   "metadata": {
    "collapsed": true
   },
   "outputs": [],
   "source": []
  }
 ],
 "metadata": {
  "kernelspec": {
   "display_name": "Python 3",
   "language": "python",
   "name": "python3"
  },
  "language_info": {
   "codemirror_mode": {
    "name": "ipython",
    "version": 3
   },
   "file_extension": ".py",
   "mimetype": "text/x-python",
   "name": "python",
   "nbconvert_exporter": "python",
   "pygments_lexer": "ipython3",
   "version": "3.6.1"
  }
 },
 "nbformat": 4,
 "nbformat_minor": 2
}
