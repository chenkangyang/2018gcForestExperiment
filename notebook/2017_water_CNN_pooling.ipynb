{
 "cells": [
  {
   "cell_type": "code",
   "execution_count": 1,
   "metadata": {},
   "outputs": [],
   "source": [
    "import pandas as pd\n",
    "import numpy as np\n",
    "from sklearn import preprocessing\n",
    "from sklearn.pipeline import Pipeline\n",
    "from imblearn.over_sampling import SMOTE\n",
    "import tensorflow as tf\n",
    "import matplotlib.pyplot as plt\n",
    "%matplotlib inline"
   ]
  },
  {
   "cell_type": "markdown",
   "metadata": {},
   "source": [
    "#### Layering: divide the data into N layers, make sure every layer has the same distribution of 0-1"
   ]
  },
  {
   "cell_type": "code",
   "execution_count": 2,
   "metadata": {},
   "outputs": [],
   "source": [
    "def Layering(df, N):\n",
    "    new_data=df.iloc[:,0:]\n",
    "\n",
    "    data_maj = new_data[new_data['EVENT']==0]\n",
    "    data_min = new_data[new_data['EVENT']==1]\n",
    "    n_maj=data_maj.iloc[:,0].size\n",
    "    n_min=data_min.iloc[:,0].size\n",
    "    M1=n_maj%N\n",
    "    M2=n_min%N\n",
    "    stepD=int(n_maj/10)\n",
    "    stepS=int(n_min/10)\n",
    "\n",
    "    maj_data = []\n",
    "    for i in range(N):\n",
    "        maj_data.append(data_maj.iloc[i*stepD:(i+1)*stepD])\n",
    "    for i in range(M1):\n",
    "        maj_data[i]=maj_data[i].append(data_maj.iloc[stepD*N+i:stepD*N+i+1])\n",
    "\n",
    "\n",
    "    min_data = []\n",
    "    for i in range(N):\n",
    "        min_data.append(data_min.iloc[i*stepS:(i+1)*stepS])\n",
    "    for i in range(M2):\n",
    "        min_data[i]=min_data[i].append(data_min.iloc[stepS*N+i:stepS*N+i+1])\n",
    "\n",
    "    Last_Data = pd.DataFrame()\n",
    "    for i in range(N):\n",
    "        Last_Data=Last_Data.append(maj_data[i].append(min_data[i]))\n",
    "    return Last_Data"
   ]
  },
  {
   "cell_type": "markdown",
   "metadata": {},
   "source": [
    "#### somte sampling"
   ]
  },
  {
   "cell_type": "code",
   "execution_count": 3,
   "metadata": {},
   "outputs": [],
   "source": [
    "def Smoter(X, y, is_random=False):\n",
    "    if is_random == True:\n",
    "        random_lst = list(np.random.randint(0, 1000, 4))\n",
    "    elif is_random == False:\n",
    "        random_lst = [0] * 4\n",
    "\n",
    "    sm = SMOTE(random_state=random_lst[2])\n",
    "    X_smote, y_smote = sm.fit_sample(X, y)\n",
    "    y_smote = y_smote[:,np.newaxis]\n",
    "    return X_smote, y_smote"
   ]
  },
  {
   "cell_type": "markdown",
   "metadata": {},
   "source": [
    "#### evaluate function"
   ]
  },
  {
   "cell_type": "code",
   "execution_count": 4,
   "metadata": {},
   "outputs": [],
   "source": [
    "def evaluate(v_xs, v_ys, sess):\n",
    "    global prediction\n",
    "    \n",
    "    predicted = tf.argmax(prediction, 1)\n",
    "    actual = np.argmax(v_ys, 1)\n",
    "\n",
    "    # Count true positives, true negatives, false positives and false negatives.\n",
    "    tp_op = tf.count_nonzero(predicted * actual)\n",
    "    tn_op = tf.count_nonzero((predicted - 1) * (actual - 1))\n",
    "    fp_op = tf.count_nonzero(predicted * (actual - 1))\n",
    "    fn_op = tf.count_nonzero((predicted - 1) * actual)\n",
    "\n",
    "    tp, tn, fp, fn = \\\n",
    "    sess.run(\n",
    "        [tp_op, tn_op, fp_op, fn_op], \n",
    "        feed_dict={xs: v_xs, ys: v_ys, keep_prob:1}\n",
    "    )\n",
    "#     print('TP=',tp,'FP=',fp,'TN=',tn,'FN=',fn)\n",
    "    # Calculate accuracy, precision, recall and F1 score.\n",
    "    accuracy = (tp + tn) / (tp + fp + fn + tn)\n",
    "    precision = tp / (tp + fp)\n",
    "    recall = tp / (tp + fn)\n",
    "    f1_score = (2 * precision * recall) / (precision + recall)\n",
    "#     print('Precision = ', precision)\n",
    "#     print('Recall = ', recall)\n",
    "#     print('F1 Score = ', f1_score)\n",
    "#     print('Accuracy = ', accuracy)\n",
    "    return precision, recall, f1_score, accuracy"
   ]
  },
  {
   "cell_type": "markdown",
   "metadata": {},
   "source": [
    "#### Batch"
   ]
  },
  {
   "cell_type": "code",
   "execution_count": 5,
   "metadata": {},
   "outputs": [],
   "source": [
    "def get_batches(X, y, batch_size = 100):\n",
    "    \"\"\" Return a generator for batches \"\"\"\n",
    "    n_batches = len(X) // batch_size\n",
    "    X, y = X[:n_batches*batch_size], y[:n_batches*batch_size]\n",
    "\n",
    "    # Loop over batches and yield\n",
    "    for b in range(0, len(X), batch_size):\n",
    "        yield X[b:b+batch_size], y[b:b+batch_size]"
   ]
  },
  {
   "cell_type": "code",
   "execution_count": 6,
   "metadata": {},
   "outputs": [],
   "source": [
    "def weight_variable(shape,name=None):\n",
    "    initial = tf.truncated_normal(shape, stddev=0.1)\n",
    "    if name is None:\n",
    "        return tf.Variable(initial)\n",
    "    else:\n",
    "        return tf.Variable(initial,name=name)"
   ]
  },
  {
   "cell_type": "code",
   "execution_count": 7,
   "metadata": {},
   "outputs": [],
   "source": [
    "def bias_variable(shape,name):\n",
    "    initial = tf.constant(0.1, shape=shape)\n",
    "    if name is None:\n",
    "        return tf.Variable(initial)\n",
    "    else:\n",
    "        return tf.Variable(initial,name=name)"
   ]
  },
  {
   "cell_type": "code",
   "execution_count": 8,
   "metadata": {},
   "outputs": [],
   "source": [
    "def conv1d(x, W):\n",
    "    return tf.nn.conv1d(x, W, stride=stride_num, padding='SAME')"
   ]
  },
  {
   "cell_type": "markdown",
   "metadata": {},
   "source": [
    "### HyperParameter"
   ]
  },
  {
   "cell_type": "code",
   "execution_count": 9,
   "metadata": {},
   "outputs": [],
   "source": [
    "kp = 1\n",
    "stride_num = 1\n",
    "pool_patch_size = 2\n",
    "kf = 100\n",
    "lr = 0.1\n",
    "max_iterations = 101\n",
    "hidden_cell_num = 64"
   ]
  },
  {
   "cell_type": "markdown",
   "metadata": {},
   "source": [
    "## load 2017 train"
   ]
  },
  {
   "cell_type": "code",
   "execution_count": 10,
   "metadata": {},
   "outputs": [],
   "source": [
    "df = pd.read_table('../data/water/txt/2017waterDataTraining.txt',delim_whitespace=True)"
   ]
  },
  {
   "cell_type": "code",
   "execution_count": 11,
   "metadata": {},
   "outputs": [],
   "source": [
    "df = df.reset_index()\n",
    "Time = np.zeros(df.shape[0]).astype(\"str\")\n",
    "for i in range(len(df)):\n",
    "    Time[i] = df['index'][i]+\" \"+ df['Time'][i]\n",
    "df['Time'] = Time\n",
    "df = df.drop(['index'], axis=1)"
   ]
  },
  {
   "cell_type": "markdown",
   "metadata": {},
   "source": [
    "## feature engineering\n",
    "\n",
    "\n",
    "It looks like we have 14 columns to help us predict our classification. We will drop fnlwgt and education and then convert our categorical features to dummy variables. We will also convert our label to 0 and 1 where 1 means the person made more than $50k\n",
    "\n"
   ]
  },
  {
   "cell_type": "code",
   "execution_count": 12,
   "metadata": {},
   "outputs": [],
   "source": [
    "drop_columns = ['Time']\n",
    "continuous_features = ['Tp', 'Cl', 'pH', 'Redox', 'Leit', 'Trueb', 'Cl_2', 'Fm', 'Fm_2']\n",
    "cat_features =[]"
   ]
  },
  {
   "cell_type": "code",
   "execution_count": 13,
   "metadata": {},
   "outputs": [],
   "source": [
    "all_df_dummies = pd.get_dummies(df, columns=cat_features)"
   ]
  },
  {
   "cell_type": "code",
   "execution_count": 14,
   "metadata": {},
   "outputs": [],
   "source": [
    "all_df_dummies.drop(drop_columns, 1, inplace=True)\n",
    "# delte NA datas\n",
    "all_df_dummies = all_df_dummies.dropna(axis=0)"
   ]
  },
  {
   "cell_type": "code",
   "execution_count": 15,
   "metadata": {},
   "outputs": [],
   "source": [
    "X_train = all_df_dummies.drop(['EVENT'], axis=1) # Series\n",
    "y_train = all_df_dummies['EVENT'].apply(lambda x: 0 if x == False else 1) # Series"
   ]
  },
  {
   "cell_type": "code",
   "execution_count": 16,
   "metadata": {},
   "outputs": [],
   "source": [
    "train = pd.concat([X_train,y_train], axis=1)"
   ]
  },
  {
   "cell_type": "code",
   "execution_count": 17,
   "metadata": {},
   "outputs": [
    {
     "data": {
      "text/html": [
       "<div>\n",
       "<style scoped>\n",
       "    .dataframe tbody tr th:only-of-type {\n",
       "        vertical-align: middle;\n",
       "    }\n",
       "\n",
       "    .dataframe tbody tr th {\n",
       "        vertical-align: top;\n",
       "    }\n",
       "\n",
       "    .dataframe thead th {\n",
       "        text-align: right;\n",
       "    }\n",
       "</style>\n",
       "<table border=\"1\" class=\"dataframe\">\n",
       "  <thead>\n",
       "    <tr style=\"text-align: right;\">\n",
       "      <th></th>\n",
       "      <th>Tp</th>\n",
       "      <th>Cl</th>\n",
       "      <th>pH</th>\n",
       "      <th>Redox</th>\n",
       "      <th>Leit</th>\n",
       "      <th>Trueb</th>\n",
       "      <th>Cl_2</th>\n",
       "      <th>Fm</th>\n",
       "      <th>Fm_2</th>\n",
       "      <th>EVENT</th>\n",
       "    </tr>\n",
       "  </thead>\n",
       "  <tbody>\n",
       "    <tr>\n",
       "      <th>0</th>\n",
       "      <td>4.4</td>\n",
       "      <td>0.14</td>\n",
       "      <td>8.38</td>\n",
       "      <td>755.0</td>\n",
       "      <td>232.0</td>\n",
       "      <td>0.009</td>\n",
       "      <td>0.110</td>\n",
       "      <td>1428.0</td>\n",
       "      <td>1020.0</td>\n",
       "      <td>0</td>\n",
       "    </tr>\n",
       "    <tr>\n",
       "      <th>1</th>\n",
       "      <td>4.4</td>\n",
       "      <td>0.14</td>\n",
       "      <td>8.38</td>\n",
       "      <td>755.0</td>\n",
       "      <td>232.0</td>\n",
       "      <td>0.009</td>\n",
       "      <td>0.111</td>\n",
       "      <td>1436.0</td>\n",
       "      <td>1018.0</td>\n",
       "      <td>0</td>\n",
       "    </tr>\n",
       "    <tr>\n",
       "      <th>2</th>\n",
       "      <td>4.4</td>\n",
       "      <td>0.14</td>\n",
       "      <td>8.38</td>\n",
       "      <td>755.0</td>\n",
       "      <td>232.0</td>\n",
       "      <td>0.014</td>\n",
       "      <td>0.113</td>\n",
       "      <td>1471.0</td>\n",
       "      <td>1019.0</td>\n",
       "      <td>0</td>\n",
       "    </tr>\n",
       "    <tr>\n",
       "      <th>3</th>\n",
       "      <td>4.4</td>\n",
       "      <td>0.14</td>\n",
       "      <td>8.37</td>\n",
       "      <td>755.0</td>\n",
       "      <td>232.0</td>\n",
       "      <td>0.015</td>\n",
       "      <td>0.111</td>\n",
       "      <td>1457.0</td>\n",
       "      <td>1015.0</td>\n",
       "      <td>0</td>\n",
       "    </tr>\n",
       "    <tr>\n",
       "      <th>4</th>\n",
       "      <td>4.4</td>\n",
       "      <td>0.14</td>\n",
       "      <td>8.38</td>\n",
       "      <td>755.0</td>\n",
       "      <td>232.0</td>\n",
       "      <td>0.013</td>\n",
       "      <td>0.111</td>\n",
       "      <td>1476.0</td>\n",
       "      <td>1019.0</td>\n",
       "      <td>0</td>\n",
       "    </tr>\n",
       "  </tbody>\n",
       "</table>\n",
       "</div>"
      ],
      "text/plain": [
       "    Tp    Cl    pH  Redox   Leit  Trueb   Cl_2      Fm    Fm_2  EVENT\n",
       "0  4.4  0.14  8.38  755.0  232.0  0.009  0.110  1428.0  1020.0      0\n",
       "1  4.4  0.14  8.38  755.0  232.0  0.009  0.111  1436.0  1018.0      0\n",
       "2  4.4  0.14  8.38  755.0  232.0  0.014  0.113  1471.0  1019.0      0\n",
       "3  4.4  0.14  8.37  755.0  232.0  0.015  0.111  1457.0  1015.0      0\n",
       "4  4.4  0.14  8.38  755.0  232.0  0.013  0.111  1476.0  1019.0      0"
      ]
     },
     "execution_count": 17,
     "metadata": {},
     "output_type": "execute_result"
    }
   ],
   "source": [
    "train.head()"
   ]
  },
  {
   "cell_type": "markdown",
   "metadata": {},
   "source": [
    "#### layer sampling"
   ]
  },
  {
   "cell_type": "code",
   "execution_count": 18,
   "metadata": {},
   "outputs": [
    {
     "name": "stdout",
     "output_type": "stream",
     "text": [
      "============ layer sampling ============\n"
     ]
    }
   ],
   "source": [
    "print(\"============ layer sampling ============\")\n",
    "train_layer = Layering(train, kf)\n",
    "array = train_layer.values\n",
    "X_train = array[:, 0:-1] # ndarray\n",
    "y_train = array[:, -1] # ndarray"
   ]
  },
  {
   "cell_type": "markdown",
   "metadata": {},
   "source": [
    "#### Do somte sampling on the train data to solve data imblance problem"
   ]
  },
  {
   "cell_type": "code",
   "execution_count": 19,
   "metadata": {},
   "outputs": [
    {
     "name": "stdout",
     "output_type": "stream",
     "text": [
      "============ SMOTE ============\n",
      "train: 110812, contains 0.9843 of 0 , after SMOTE: train: 218144 contains 0.5000 of 1\n"
     ]
    }
   ],
   "source": [
    "X_train_oversampled, y_train_oversampled = Smoter(X_train, y_train, is_random=True)\n",
    "print(\"============ SMOTE ============\")\n",
    "print(\"train: %d, contains %.4f of 0 , after SMOTE: train: %d contains %.4f of 1\" %(X_train.shape[0], (y_train == 0).sum()/y_train.shape[0], X_train_oversampled.shape[0], (y_train_oversampled == 0).sum()/y_train_oversampled.shape[0]))"
   ]
  },
  {
   "cell_type": "markdown",
   "metadata": {},
   "source": [
    "### clean the data before somte\n",
    "\n",
    "fulfill the Na with median, then standardized the data, output type ndarray"
   ]
  },
  {
   "cell_type": "code",
   "execution_count": 20,
   "metadata": {},
   "outputs": [],
   "source": [
    "clean_pipeline = Pipeline([('imputer', preprocessing.Imputer(missing_values='NaN',strategy=\"median\")),\n",
    "                           ('std_scaler', preprocessing.StandardScaler()),])\n",
    "X_train_oversampled = clean_pipeline.fit_transform(X_train_oversampled)"
   ]
  },
  {
   "cell_type": "markdown",
   "metadata": {},
   "source": [
    "### transfer y into probability vector"
   ]
  },
  {
   "cell_type": "code",
   "execution_count": 21,
   "metadata": {},
   "outputs": [],
   "source": [
    "y_train_oversampled_pro = np.zeros([y_train_oversampled.shape[0], 2])\n",
    "for i in range(len(y_train_oversampled)):\n",
    "    if y_train_oversampled[i] == 1:\n",
    "        y_train_oversampled_pro[i] = np.array([0, 1])\n",
    "    else:\n",
    "        y_train_oversampled_pro[i] = np.array([1, 0])\n",
    "y_train_oversampled = y_train_oversampled_pro        "
   ]
  },
  {
   "cell_type": "markdown",
   "metadata": {},
   "source": [
    "## load 2017 test"
   ]
  },
  {
   "cell_type": "code",
   "execution_count": 22,
   "metadata": {},
   "outputs": [],
   "source": [
    "lines = open(\"../data/water/txt/2017waterDataTesting.txt\").readlines()\n",
    "num_lines = len(lines) - 1\n",
    "\n",
    "X_test = np.ones((num_lines, 9))\n",
    "y_test = np.ones((num_lines, 1))\n",
    "flag = 0\n",
    "\n",
    "lines = np.delete(lines, 0, axis = 0)\n",
    "i = 0\n",
    "\n",
    "for line in lines:\n",
    "    data_line = line.split()\n",
    "    feature = data_line[3:12]\n",
    "    for k in range(9):\n",
    "        if feature[k] == 'NA':\n",
    "            flag = 1\n",
    "            break\n",
    "    if flag == 1:\n",
    "        flag = 0\n",
    "        continue    # jump out of the loop\n",
    "    X_test[i] = feature    \n",
    "    if data_line[12] == 'FALSE':\n",
    "        y_test[i] = 0\n",
    "    elif data_line[12] == 'TRUE':\n",
    "        y_test[i] = 1\n",
    "    i += 1\n",
    "\n",
    "\n",
    "X_test = clean_pipeline.transform(X_test) \n",
    "\n",
    "y_test_pro = np.zeros([y_test.shape[0], 2])\n",
    "for i in range(len(y_test)):\n",
    "    if y_test[i] == 1:\n",
    "        y_test_pro[i] = np.array([0, 1])\n",
    "    else:\n",
    "        y_test_pro[i] = np.array([1, 0])\n",
    "y_test = y_test_pro"
   ]
  },
  {
   "cell_type": "markdown",
   "metadata": {},
   "source": [
    "## 构造网络\n",
    "两个（卷积+最大池化），两个全联接层"
   ]
  },
  {
   "cell_type": "code",
   "execution_count": 23,
   "metadata": {},
   "outputs": [],
   "source": [
    "# # define placeholder for inputs to network\n",
    "# keep_prob = tf.placeholder(tf.float32)\n",
    "# xs = tf.placeholder(tf.float32, [None, 9])\n",
    "# ys = tf.placeholder(tf.float32, [None, 2])\n",
    "# learning_rate = tf.placeholder(tf.float32)\n",
    "# X_input = tf.reshape(xs,[-1,9,1]) # [n_samples, 9 ,1]    -1 具体是多少由导入数据决定（多少组数据） \n",
    "    \n",
    "# def my_cnn():\n",
    "    \n",
    "#     ## conv1 layer ##\n",
    "#     W_conv1 = weight_variable([3,1,6],name=\"W_conv1\") # patch: 3, in size 1(通道数), out size 6（feature_map数量，一个卷积核生成一个feature_map）\n",
    "#     b_conv1 = bias_variable([6],name=\"b_conv1\")\n",
    "#     h_conv1 = tf.nn.relu(conv1d(X_input, W_conv1) + b_conv1) # output size 1*9*6\n",
    "#     print(\"h_conv1\", h_conv1.shape)\n",
    "#     ## poo1 layer ##\n",
    "#     max_pool_1 = tf.layers.max_pooling1d(inputs=h_conv1, pool_size=pool_patch_size, strides=stride_num, padding='same')\n",
    "#     print(\"max_pool_1\", max_pool_1.shape)\n",
    "\n",
    "#     ## conv2 layer ##\n",
    "#     W_conv2 = weight_variable([3,6,12],name=\"W_conv2\") # patch: 3, in size 6，out size 12\n",
    "#     b_conv2 = bias_variable([12],name=\"b_conv2\")\n",
    "#     h_conv2 = tf.nn.relu(conv1d(max_pool_1, W_conv2) + b_conv2) # output size 1*9*12\n",
    "#     print(\"h_conv2\", h_conv2.shape)\n",
    "#     ## poo2 layer ##\n",
    "#     max_pool_2 = tf.layers.max_pooling1d(inputs=h_conv2, pool_size=pool_patch_size, strides=stride_num, padding='same')\n",
    "#     print(\"max_pool_2\", max_pool_2.shape)\n",
    "\n",
    "#     ## func1 layer ##\n",
    "#     W_fc1 = weight_variable([9*12,hidden_cell_num],name=\"W_fc1\")\n",
    "#     b_fc1 = bias_variable([hidden_cell_num],name=\"b_fc1\")\n",
    "\n",
    "#     max_pool_2_flat = tf.reshape(max_pool_2, [-1,9*12])\n",
    "#     h_fc1 = tf.nn.relu(tf.matmul(max_pool_2_flat, W_fc1)+b_fc1)\n",
    "#     h_fc1_drop = tf.nn.dropout(h_fc1, keep_prob)\n",
    "\n",
    "#     print(\"h_fc1_drop\", h_fc1_drop.shape)\n",
    "\n",
    "#     ## func2 layer ##\n",
    "#     W_fc2 = weight_variable([hidden_cell_num,2],name=\"W_fc2\")\n",
    "#     b_fc2 = bias_variable([1],name=\"b_fc2\")\n",
    "#     prediction = tf.nn.softmax(tf.matmul(h_fc1_drop, W_fc2) + b_fc2)\n",
    "#     print(\"prediction\", prediction.shape)\n",
    "\n",
    "#     var_dict = {'W_conv1': W_conv1, \n",
    "#                 'b_conv1': b_conv1, \n",
    "#                 'W_conv2': W_conv2, \n",
    "#                 'b_conv2': b_conv2, \n",
    "#                 'W_fc1': W_fc1, \n",
    "#                 'b_fc1': b_fc1,\n",
    "#                 'W_fc2': W_fc2,\n",
    "#                 'b_fc2': b_fc2}\n",
    "#     return prediction, var_dict"
   ]
  },
  {
   "cell_type": "code",
   "execution_count": 24,
   "metadata": {},
   "outputs": [],
   "source": [
    "# define placeholder for inputs to network\n",
    "keep_prob = tf.placeholder(tf.float32)\n",
    "xs = tf.placeholder(tf.float32, [None, 9])\n",
    "ys = tf.placeholder(tf.float32, [None, 2])\n",
    "learning_rate = tf.placeholder(tf.float32)\n",
    "X_input = tf.reshape(xs,[-1,9,1]) # [n_samples, 9 ,1]    -1 具体是多少由导入数据决定（多少组数据） \n",
    "    \n",
    "def my_cnn():\n",
    "    \n",
    "   ## conv1 layer ##\n",
    "    W_conv1 = weight_variable([3,1,6],name=\"W_conv1\") # patch: 3, in size 1(通道数), out size 6（feature_map数量，一个卷积核生成一个feature_map）\n",
    "    b_conv1 = bias_variable([6],name=\"b_conv1\")\n",
    "    h_conv1 = tf.nn.relu(conv1d(X_input, W_conv1) + b_conv1) # output size 1*9*6\n",
    "    print(h_conv1.shape)\n",
    "\n",
    "    ## conv2 layer ##\n",
    "    W_conv2 = weight_variable([3,6,12],name=\"W_conv2\") # patch: 3, in size 6，out size 12\n",
    "    b_conv2 = bias_variable([12],name=\"b_conv2\")\n",
    "    h_conv2 = tf.nn.relu(conv1d(h_conv1, W_conv2) + b_conv2) # output size 1*9*12\n",
    "    print(h_conv2.shape)\n",
    "\n",
    "    ## func1 layer ##\n",
    "    W_fc1 = weight_variable([9*12,hidden_cell_num],name=\"W_fc1\")\n",
    "    b_fc1 = bias_variable([hidden_cell_num],name=\"b_fc1\")\n",
    "\n",
    "    h_conv2_flat = tf.reshape(h_conv2, [-1,9*12])\n",
    "    h_fc1 = tf.nn.relu(tf.matmul(h_conv2_flat, W_fc1)+b_fc1)\n",
    "    h_fc1_drop = tf.nn.dropout(h_fc1, keep_prob)\n",
    "\n",
    "    print(h_fc1_drop.shape)\n",
    "\n",
    "    ## func2 layer ##\n",
    "    W_fc2 = weight_variable([hidden_cell_num,2],name=\"W_fc2\")\n",
    "    b_fc2 = bias_variable([1],name=\"b_fc2\")\n",
    "    prediction = tf.nn.softmax(tf.matmul(h_fc1_drop, W_fc2) + b_fc2)\n",
    "    print(prediction.shape)\n",
    "\n",
    "    var_dict = {'W_conv1': W_conv1, \n",
    "                'b_conv1': b_conv1, \n",
    "                'W_conv2': W_conv2, \n",
    "                'b_conv2': b_conv2, \n",
    "                'W_fc1': W_fc1, \n",
    "                'b_fc1': b_fc1,\n",
    "                'W_fc2': W_fc2,\n",
    "                'b_fc2': b_fc2}\n",
    "    return prediction, var_dict"
   ]
  },
  {
   "cell_type": "markdown",
   "metadata": {},
   "source": [
    "## loss"
   ]
  },
  {
   "cell_type": "code",
   "execution_count": 25,
   "metadata": {},
   "outputs": [
    {
     "name": "stdout",
     "output_type": "stream",
     "text": [
      "(?, 9, 6)\n",
      "(?, 9, 12)\n",
      "(?, 64)\n",
      "(?, 2)\n"
     ]
    }
   ],
   "source": [
    "prediction, var_dict = my_cnn()\n",
    "\n",
    "# the error between prediction and real data\n",
    "cost = tf.reduce_mean(tf.nn.softmax_cross_entropy_with_logits_v2(logits=prediction, labels=ys))\n",
    "train_op = tf.train.AdamOptimizer(learning_rate).minimize(cost)"
   ]
  },
  {
   "cell_type": "markdown",
   "metadata": {},
   "source": [
    "## train"
   ]
  },
  {
   "cell_type": "code",
   "execution_count": 26,
   "metadata": {},
   "outputs": [
    {
     "name": "stderr",
     "output_type": "stream",
     "text": [
      "/Users/alex/anaconda3/envs/gc/lib/python3.6/site-packages/ipykernel/__main__.py:20: RuntimeWarning: invalid value encountered in long_scalars\n"
     ]
    },
    {
     "name": "stdout",
     "output_type": "stream",
     "text": [
      "Iteration: 0/101 Train loss: 0.792068 Test loss: 0.568591 Test acc: 0.750887 Test f1: nan\n"
     ]
    },
    {
     "ename": "KeyboardInterrupt",
     "evalue": "",
     "output_type": "error",
     "traceback": [
      "\u001b[0;31m---------------------------------------------------------------------------\u001b[0m",
      "\u001b[0;31mKeyboardInterrupt\u001b[0m                         Traceback (most recent call last)",
      "\u001b[0;32m<ipython-input-26-d9b81a1f085e>\u001b[0m in \u001b[0;36m<module>\u001b[0;34m()\u001b[0m\n\u001b[1;32m     20\u001b[0m \u001b[0;34m\u001b[0m\u001b[0m\n\u001b[1;32m     21\u001b[0m         \u001b[0mloss\u001b[0m\u001b[0;34m,\u001b[0m \u001b[0m_\u001b[0m \u001b[0;34m=\u001b[0m \u001b[0msess\u001b[0m\u001b[0;34m.\u001b[0m\u001b[0mrun\u001b[0m\u001b[0;34m(\u001b[0m\u001b[0;34m[\u001b[0m\u001b[0mcost\u001b[0m\u001b[0;34m,\u001b[0m \u001b[0mtrain_op\u001b[0m\u001b[0;34m]\u001b[0m\u001b[0;34m,\u001b[0m \u001b[0mfeed_dict\u001b[0m\u001b[0;34m=\u001b[0m\u001b[0mfeed\u001b[0m\u001b[0;34m)\u001b[0m\u001b[0;34m\u001b[0m\u001b[0m\n\u001b[0;32m---> 22\u001b[0;31m         \u001b[0mprecision\u001b[0m\u001b[0;34m,\u001b[0m \u001b[0mrecall\u001b[0m\u001b[0;34m,\u001b[0m \u001b[0mf1_score\u001b[0m\u001b[0;34m,\u001b[0m \u001b[0maccuracy\u001b[0m \u001b[0;34m=\u001b[0m \u001b[0mevaluate\u001b[0m\u001b[0;34m(\u001b[0m\u001b[0mX_train_oversampled\u001b[0m\u001b[0;34m,\u001b[0m \u001b[0my_train_oversampled\u001b[0m\u001b[0;34m,\u001b[0m \u001b[0msess\u001b[0m\u001b[0;34m)\u001b[0m\u001b[0;34m\u001b[0m\u001b[0m\n\u001b[0m\u001b[1;32m     23\u001b[0m \u001b[0;34m\u001b[0m\u001b[0m\n\u001b[1;32m     24\u001b[0m         \u001b[0mtrain_loss\u001b[0m\u001b[0;34m.\u001b[0m\u001b[0mappend\u001b[0m\u001b[0;34m(\u001b[0m\u001b[0mloss\u001b[0m\u001b[0;34m)\u001b[0m\u001b[0;34m\u001b[0m\u001b[0m\n",
      "\u001b[0;32m<ipython-input-4-0d18e2b0f8f1>\u001b[0m in \u001b[0;36mevaluate\u001b[0;34m(v_xs, v_ys, sess)\u001b[0m\n\u001b[1;32m     13\u001b[0m     tp, tn, fp, fn =     sess.run(\n\u001b[1;32m     14\u001b[0m         \u001b[0;34m[\u001b[0m\u001b[0mtp_op\u001b[0m\u001b[0;34m,\u001b[0m \u001b[0mtn_op\u001b[0m\u001b[0;34m,\u001b[0m \u001b[0mfp_op\u001b[0m\u001b[0;34m,\u001b[0m \u001b[0mfn_op\u001b[0m\u001b[0;34m]\u001b[0m\u001b[0;34m,\u001b[0m\u001b[0;34m\u001b[0m\u001b[0m\n\u001b[0;32m---> 15\u001b[0;31m         \u001b[0mfeed_dict\u001b[0m\u001b[0;34m=\u001b[0m\u001b[0;34m{\u001b[0m\u001b[0mxs\u001b[0m\u001b[0;34m:\u001b[0m \u001b[0mv_xs\u001b[0m\u001b[0;34m,\u001b[0m \u001b[0mys\u001b[0m\u001b[0;34m:\u001b[0m \u001b[0mv_ys\u001b[0m\u001b[0;34m,\u001b[0m \u001b[0mkeep_prob\u001b[0m\u001b[0;34m:\u001b[0m\u001b[0;36m1\u001b[0m\u001b[0;34m}\u001b[0m\u001b[0;34m\u001b[0m\u001b[0m\n\u001b[0m\u001b[1;32m     16\u001b[0m     )\n\u001b[1;32m     17\u001b[0m \u001b[0;31m#     print('TP=',tp,'FP=',fp,'TN=',tn,'FN=',fn)\u001b[0m\u001b[0;34m\u001b[0m\u001b[0;34m\u001b[0m\u001b[0m\n",
      "\u001b[0;32m~/anaconda3/envs/gc/lib/python3.6/site-packages/tensorflow/python/client/session.py\u001b[0m in \u001b[0;36mrun\u001b[0;34m(self, fetches, feed_dict, options, run_metadata)\u001b[0m\n\u001b[1;32m    903\u001b[0m     \u001b[0;32mtry\u001b[0m\u001b[0;34m:\u001b[0m\u001b[0;34m\u001b[0m\u001b[0m\n\u001b[1;32m    904\u001b[0m       result = self._run(None, fetches, feed_dict, options_ptr,\n\u001b[0;32m--> 905\u001b[0;31m                          run_metadata_ptr)\n\u001b[0m\u001b[1;32m    906\u001b[0m       \u001b[0;32mif\u001b[0m \u001b[0mrun_metadata\u001b[0m\u001b[0;34m:\u001b[0m\u001b[0;34m\u001b[0m\u001b[0m\n\u001b[1;32m    907\u001b[0m         \u001b[0mproto_data\u001b[0m \u001b[0;34m=\u001b[0m \u001b[0mtf_session\u001b[0m\u001b[0;34m.\u001b[0m\u001b[0mTF_GetBuffer\u001b[0m\u001b[0;34m(\u001b[0m\u001b[0mrun_metadata_ptr\u001b[0m\u001b[0;34m)\u001b[0m\u001b[0;34m\u001b[0m\u001b[0m\n",
      "\u001b[0;32m~/anaconda3/envs/gc/lib/python3.6/site-packages/tensorflow/python/client/session.py\u001b[0m in \u001b[0;36m_run\u001b[0;34m(self, handle, fetches, feed_dict, options, run_metadata)\u001b[0m\n\u001b[1;32m   1135\u001b[0m     \u001b[0;32mif\u001b[0m \u001b[0mfinal_fetches\u001b[0m \u001b[0;32mor\u001b[0m \u001b[0mfinal_targets\u001b[0m \u001b[0;32mor\u001b[0m \u001b[0;34m(\u001b[0m\u001b[0mhandle\u001b[0m \u001b[0;32mand\u001b[0m \u001b[0mfeed_dict_tensor\u001b[0m\u001b[0;34m)\u001b[0m\u001b[0;34m:\u001b[0m\u001b[0;34m\u001b[0m\u001b[0m\n\u001b[1;32m   1136\u001b[0m       results = self._do_run(handle, final_targets, final_fetches,\n\u001b[0;32m-> 1137\u001b[0;31m                              feed_dict_tensor, options, run_metadata)\n\u001b[0m\u001b[1;32m   1138\u001b[0m     \u001b[0;32melse\u001b[0m\u001b[0;34m:\u001b[0m\u001b[0;34m\u001b[0m\u001b[0m\n\u001b[1;32m   1139\u001b[0m       \u001b[0mresults\u001b[0m \u001b[0;34m=\u001b[0m \u001b[0;34m[\u001b[0m\u001b[0;34m]\u001b[0m\u001b[0;34m\u001b[0m\u001b[0m\n",
      "\u001b[0;32m~/anaconda3/envs/gc/lib/python3.6/site-packages/tensorflow/python/client/session.py\u001b[0m in \u001b[0;36m_do_run\u001b[0;34m(self, handle, target_list, fetch_list, feed_dict, options, run_metadata)\u001b[0m\n\u001b[1;32m   1353\u001b[0m     \u001b[0;32mif\u001b[0m \u001b[0mhandle\u001b[0m \u001b[0;32mis\u001b[0m \u001b[0;32mNone\u001b[0m\u001b[0;34m:\u001b[0m\u001b[0;34m\u001b[0m\u001b[0m\n\u001b[1;32m   1354\u001b[0m       return self._do_call(_run_fn, self._session, feeds, fetches, targets,\n\u001b[0;32m-> 1355\u001b[0;31m                            options, run_metadata)\n\u001b[0m\u001b[1;32m   1356\u001b[0m     \u001b[0;32melse\u001b[0m\u001b[0;34m:\u001b[0m\u001b[0;34m\u001b[0m\u001b[0m\n\u001b[1;32m   1357\u001b[0m       \u001b[0;32mreturn\u001b[0m \u001b[0mself\u001b[0m\u001b[0;34m.\u001b[0m\u001b[0m_do_call\u001b[0m\u001b[0;34m(\u001b[0m\u001b[0m_prun_fn\u001b[0m\u001b[0;34m,\u001b[0m \u001b[0mself\u001b[0m\u001b[0;34m.\u001b[0m\u001b[0m_session\u001b[0m\u001b[0;34m,\u001b[0m \u001b[0mhandle\u001b[0m\u001b[0;34m,\u001b[0m \u001b[0mfeeds\u001b[0m\u001b[0;34m,\u001b[0m \u001b[0mfetches\u001b[0m\u001b[0;34m)\u001b[0m\u001b[0;34m\u001b[0m\u001b[0m\n",
      "\u001b[0;32m~/anaconda3/envs/gc/lib/python3.6/site-packages/tensorflow/python/client/session.py\u001b[0m in \u001b[0;36m_do_call\u001b[0;34m(self, fn, *args)\u001b[0m\n\u001b[1;32m   1359\u001b[0m   \u001b[0;32mdef\u001b[0m \u001b[0m_do_call\u001b[0m\u001b[0;34m(\u001b[0m\u001b[0mself\u001b[0m\u001b[0;34m,\u001b[0m \u001b[0mfn\u001b[0m\u001b[0;34m,\u001b[0m \u001b[0;34m*\u001b[0m\u001b[0margs\u001b[0m\u001b[0;34m)\u001b[0m\u001b[0;34m:\u001b[0m\u001b[0;34m\u001b[0m\u001b[0m\n\u001b[1;32m   1360\u001b[0m     \u001b[0;32mtry\u001b[0m\u001b[0;34m:\u001b[0m\u001b[0;34m\u001b[0m\u001b[0m\n\u001b[0;32m-> 1361\u001b[0;31m       \u001b[0;32mreturn\u001b[0m \u001b[0mfn\u001b[0m\u001b[0;34m(\u001b[0m\u001b[0;34m*\u001b[0m\u001b[0margs\u001b[0m\u001b[0;34m)\u001b[0m\u001b[0;34m\u001b[0m\u001b[0m\n\u001b[0m\u001b[1;32m   1362\u001b[0m     \u001b[0;32mexcept\u001b[0m \u001b[0merrors\u001b[0m\u001b[0;34m.\u001b[0m\u001b[0mOpError\u001b[0m \u001b[0;32mas\u001b[0m \u001b[0me\u001b[0m\u001b[0;34m:\u001b[0m\u001b[0;34m\u001b[0m\u001b[0m\n\u001b[1;32m   1363\u001b[0m       \u001b[0mmessage\u001b[0m \u001b[0;34m=\u001b[0m \u001b[0mcompat\u001b[0m\u001b[0;34m.\u001b[0m\u001b[0mas_text\u001b[0m\u001b[0;34m(\u001b[0m\u001b[0me\u001b[0m\u001b[0;34m.\u001b[0m\u001b[0mmessage\u001b[0m\u001b[0;34m)\u001b[0m\u001b[0;34m\u001b[0m\u001b[0m\n",
      "\u001b[0;32m~/anaconda3/envs/gc/lib/python3.6/site-packages/tensorflow/python/client/session.py\u001b[0m in \u001b[0;36m_run_fn\u001b[0;34m(session, feed_dict, fetch_list, target_list, options, run_metadata)\u001b[0m\n\u001b[1;32m   1330\u001b[0m                 run_metadata):\n\u001b[1;32m   1331\u001b[0m       \u001b[0;31m# Ensure any changes to the graph are reflected in the runtime.\u001b[0m\u001b[0;34m\u001b[0m\u001b[0;34m\u001b[0m\u001b[0m\n\u001b[0;32m-> 1332\u001b[0;31m       \u001b[0mself\u001b[0m\u001b[0;34m.\u001b[0m\u001b[0m_extend_graph\u001b[0m\u001b[0;34m(\u001b[0m\u001b[0;34m)\u001b[0m\u001b[0;34m\u001b[0m\u001b[0m\n\u001b[0m\u001b[1;32m   1333\u001b[0m       \u001b[0;32mwith\u001b[0m \u001b[0merrors\u001b[0m\u001b[0;34m.\u001b[0m\u001b[0mraise_exception_on_not_ok_status\u001b[0m\u001b[0;34m(\u001b[0m\u001b[0;34m)\u001b[0m \u001b[0;32mas\u001b[0m \u001b[0mstatus\u001b[0m\u001b[0;34m:\u001b[0m\u001b[0;34m\u001b[0m\u001b[0m\n\u001b[1;32m   1334\u001b[0m         \u001b[0;32mif\u001b[0m \u001b[0mself\u001b[0m\u001b[0;34m.\u001b[0m\u001b[0m_created_with_new_api\u001b[0m\u001b[0;34m:\u001b[0m\u001b[0;34m\u001b[0m\u001b[0m\n",
      "\u001b[0;32m~/anaconda3/envs/gc/lib/python3.6/site-packages/tensorflow/python/client/session.py\u001b[0m in \u001b[0;36m_extend_graph\u001b[0;34m(self)\u001b[0m\n\u001b[1;32m   1390\u001b[0m         \u001b[0;32mwith\u001b[0m \u001b[0merrors\u001b[0m\u001b[0;34m.\u001b[0m\u001b[0mraise_exception_on_not_ok_status\u001b[0m\u001b[0;34m(\u001b[0m\u001b[0;34m)\u001b[0m \u001b[0;32mas\u001b[0m \u001b[0mstatus\u001b[0m\u001b[0;34m:\u001b[0m\u001b[0;34m\u001b[0m\u001b[0m\n\u001b[1;32m   1391\u001b[0m           tf_session.TF_ExtendGraph(self._session,\n\u001b[0;32m-> 1392\u001b[0;31m                                     graph_def.SerializeToString(), status)\n\u001b[0m\u001b[1;32m   1393\u001b[0m         \u001b[0mself\u001b[0m\u001b[0;34m.\u001b[0m\u001b[0m_opened\u001b[0m \u001b[0;34m=\u001b[0m \u001b[0;32mTrue\u001b[0m\u001b[0;34m\u001b[0m\u001b[0m\n\u001b[1;32m   1394\u001b[0m \u001b[0;34m\u001b[0m\u001b[0m\n",
      "\u001b[0;31mKeyboardInterrupt\u001b[0m: "
     ]
    }
   ],
   "source": [
    "test_acc = []\n",
    "test_f1 = []\n",
    "test_loss = []\n",
    "\n",
    "train_acc = []\n",
    "train_f1 = []\n",
    "train_loss = []\n",
    "\n",
    "X_train_oversampled = np.array(X_train_oversampled, dtype=np.float32)\n",
    "y_train_oversampled = np.array(y_train_oversampled, dtype=np.float32)\n",
    "X_test = np.array(X_test, dtype=np.float32)\n",
    "y_test = np.array(y_test, dtype=np.float32)\n",
    "\n",
    "with tf.Session() as sess:\n",
    "    sess.run(tf.global_variables_initializer())\n",
    "            \n",
    "    for i in range(max_iterations):\n",
    "        feed = {xs : X_train_oversampled, ys : y_train_oversampled, keep_prob : kp, learning_rate : lr}\n",
    "        sess.run(train_op, feed_dict=feed)\n",
    "        \n",
    "        loss, _ = sess.run([cost, train_op], feed_dict=feed)\n",
    "        precision, recall, f1_score, accuracy = evaluate(X_train_oversampled, y_train_oversampled, sess)\n",
    "        \n",
    "        train_loss.append(loss) \n",
    "        train_f1.append(f1_score)\n",
    "        train_acc.append(accuracy)\n",
    "        if i % 50 ==0:\n",
    "            loss_t = sess.run(cost, feed_dict={xs:X_test , ys:y_test , keep_prob: kp})\n",
    "            test_loss.append(loss_t)\n",
    "            test_precision, test_recall, test_f1_score, test_accuracy = evaluate(X_test, y_test, sess)\n",
    "            test_f1.append(test_f1_score)\n",
    "            test_acc.append(test_accuracy)\n",
    "            print(\"Iteration: {}/{}\".format(i, max_iterations),\n",
    "                  \"Train loss: {:6f}\".format(loss),\n",
    "                  \"Test loss: {:6f}\".format(loss_t),\n",
    "                  \"Test acc: {:.6f}\".format(test_accuracy),\n",
    "                  \"Test f1: {:.6f}\".format(test_f1_score))\n",
    "            \n",
    "    saver = tf.train.Saver(var_dict)"
   ]
  },
  {
   "cell_type": "code",
   "execution_count": 28,
   "metadata": {},
   "outputs": [
    {
     "data": {
      "image/png": "[encoded data removed]",
      "text/plain": [
       "<Figure size 432x432 with 1 Axes>"
      ]
     },
     "metadata": {},
     "output_type": "display_data"
    }
   ],
   "source": [
    "# Plot training and test loss\n",
    "t = np.arange(max_iterations)\n",
    "\n",
    "plt.figure(figsize = (6,6))\n",
    "plt.plot(t, np.array(train_loss), 'r-', t[t % 50 == 0], np.array(test_loss), 'b*')\n",
    "plt.xlabel(\"iteration\")\n",
    "plt.ylabel(\"Loss\")\n",
    "plt.legend(['train', 'test'], loc='upper right')\n",
    "plt.show()"
   ]
  },
  {
   "cell_type": "code",
   "execution_count": null,
   "metadata": {},
   "outputs": [],
   "source": [
    "# Plot Accuracies\n",
    "plt.figure(figsize = (6,6))\n",
    "\n",
    "plt.plot(t, np.array(train_acc), 'r-', t[t % 50 == 0], test_acc, 'b*')\n",
    "plt.xlabel(\"iteration\")\n",
    "plt.ylabel(\"Accuray\")\n",
    "plt.legend(['train', 'test'], loc='upper right')\n",
    "plt.show()"
   ]
  },
  {
   "cell_type": "code",
   "execution_count": null,
   "metadata": {},
   "outputs": [],
   "source": [
    "# Plot F1\n",
    "plt.figure(figsize = (6,6))\n",
    "\n",
    "plt.plot(t, np.array(train_f1), 'r-', t[t % 50 == 0], test_f1, 'b*')\n",
    "plt.xlabel(\"iteration\")\n",
    "plt.ylabel(\"F1\")\n",
    "plt.legend(['train', 'test'], loc='upper right')\n",
    "plt.show()"
   ]
  },
  {
   "cell_type": "code",
   "execution_count": null,
   "metadata": {},
   "outputs": [],
   "source": [
    "# save_path = saver.save(sess,\"cnn_2017/2017_save_net.ckpt\")\n",
    "# print(\"Save to path:\", save_path)"
   ]
  },
  {
   "cell_type": "markdown",
   "metadata": {},
   "source": [
    "gggg"
   ]
  },
  {
   "cell_type": "code",
   "execution_count": 28,
   "metadata": {},
   "outputs": [
    {
     "name": "stdout",
     "output_type": "stream",
     "text": [
      "predicted [[1. 1.]\n",
      " [1. 1.]\n",
      " [1. 1.]\n",
      " ...\n",
      " [1. 1.]\n",
      " [1. 1.]\n",
      " [1. 1.]]\n",
      "actual [[1. 0.]\n",
      " [1. 0.]\n",
      " [1. 0.]\n",
      " ...\n",
      " [0. 1.]\n",
      " [0. 1.]\n",
      " [0. 1.]]\n",
      "TP= 218144 FP= 218144 TN= 0 FN= 0\n",
      "Precision =  0.5\n",
      "Recall =  1.0\n",
      "F1 Score =  0.6666666666666666\n",
      "Accuracy =  0.5\n"
     ]
    }
   ],
   "source": [
    "# predicted = tf.argmax(prediction, 1)\n",
    "# actual = tf.argmax(ys, 1)\n",
    "\n",
    "predicted = tf.round(tf.nn.sigmoid(prediction))\n",
    "actual = ys\n",
    "\n",
    "# Count true positives, true negatives, false positives and false negatives.\n",
    "tp_op = tf.count_nonzero(predicted * actual)\n",
    "tn_op = tf.count_nonzero((predicted - 1) * (actual - 1))\n",
    "fp_op = tf.count_nonzero(predicted * (actual - 1))\n",
    "fn_op = tf.count_nonzero((predicted - 1) * actual)\n",
    "\n",
    "\n",
    "\n",
    "with tf.Session() as sess:\n",
    "    sess.run(tf.global_variables_initializer())\n",
    "    feed = {xs : X_train_oversampled, ys : y_train_oversampled, keep_prob : 1, learning_rate : lr}\n",
    "    tp, tn, fp, fn, pr, ac= \\\n",
    "    sess.run(\n",
    "        [tp_op, tn_op, fp_op, fn_op, predicted, actual], \n",
    "        feed_dict=feed\n",
    "    )\n",
    "\n",
    "    print(\"predicted\", pr)\n",
    "    print(\"actual\", ac)\n",
    "    \n",
    "    print('TP=',tp,'FP=',fp,'TN=',tn,'FN=',fn)\n",
    "    \n",
    "    # Calculate accuracy, precision, recall and F1 score.\n",
    "    accuracy = (tp + tn) / (tp + fp + fn + tn)\n",
    "    precision = tp / (tp + fp)\n",
    "    recall = tp / (tp + fn)\n",
    "    f1_score = (2 * precision * recall) / (precision + recall)\n",
    "    print('Precision = ', precision)\n",
    "    print('Recall = ', recall)\n",
    "    print('F1 Score = ', f1_score)\n",
    "    print('Accuracy = ', accuracy)\n"
   ]
  },
  {
   "cell_type": "code",
   "execution_count": 29,
   "metadata": {},
   "outputs": [
    {
     "name": "stdout",
     "output_type": "stream",
     "text": [
      "predicted [1 1 1 ... 1 1 1]\n",
      "actual [0 0 0 ... 1 1 1]\n",
      "TP= 102635 FP= 109071 TN= 1 FN= 6437\n",
      "Precision =  0.4847996750210197\n",
      "Recall =  0.9409839372157841\n",
      "F1 Score =  0.6399129616120806\n",
      "Accuracy =  0.47049655273580754\n"
     ]
    }
   ],
   "source": [
    "predicted = tf.argmax(prediction, 1)\n",
    "actual = tf.argmax(ys, 1)\n",
    "\n",
    "\n",
    "# Count true positives, true negatives, false positives and false negatives.\n",
    "tp_op = tf.count_nonzero(predicted * actual)\n",
    "tn_op = tf.count_nonzero((predicted - 1) * (actual - 1))\n",
    "fp_op = tf.count_nonzero(predicted * (actual - 1))\n",
    "fn_op = tf.count_nonzero((predicted - 1) * actual)\n",
    "\n",
    "\n",
    "\n",
    "with tf.Session() as sess:\n",
    "    sess.run(tf.global_variables_initializer())\n",
    "    feed = {xs : X_train_oversampled, ys : y_train_oversampled, keep_prob : 1, learning_rate : lr}\n",
    "    tp, tn, fp, fn, pr, ac= \\\n",
    "    sess.run(\n",
    "        [tp_op, tn_op, fp_op, fn_op, predicted, actual], \n",
    "        feed_dict=feed\n",
    "    )\n",
    "\n",
    "    print(\"predicted\", pr)\n",
    "    print(\"actual\", ac)\n",
    "    \n",
    "    print('TP=',tp,'FP=',fp,'TN=',tn,'FN=',fn)\n",
    "    \n",
    "    # Calculate accuracy, precision, recall and F1 score.\n",
    "    accuracy = (tp + tn) / (tp + fp + fn + tn)\n",
    "    precision = tp / (tp + fp)\n",
    "    recall = tp / (tp + fn)\n",
    "    f1_score = (2 * precision * recall) / (precision + recall)\n",
    "    print('Precision = ', precision)\n",
    "    print('Recall = ', recall)\n",
    "    print('F1 Score = ', f1_score)\n",
    "    print('Accuracy = ', accuracy)\n"
   ]
  },
  {
   "cell_type": "code",
   "execution_count": null,
   "metadata": {},
   "outputs": [],
   "source": []
  }
 ],
 "metadata": {
  "kernelspec": {
   "display_name": "Python [conda env:gc]",
   "language": "python",
   "name": "conda-env-gc-py"
  },
  "language_info": {
   "codemirror_mode": {
    "name": "ipython",
    "version": 3
   },
   "file_extension": ".py",
   "mimetype": "text/x-python",
   "name": "python",
   "nbconvert_exporter": "python",
   "pygments_lexer": "ipython3",
   "version": "3.6.3"
  }
 },
 "nbformat": 4,
 "nbformat_minor": 2
}
