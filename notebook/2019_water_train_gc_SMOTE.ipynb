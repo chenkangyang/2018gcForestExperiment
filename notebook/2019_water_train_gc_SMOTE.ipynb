{
 "cells": [
  {
   "cell_type": "code",
   "execution_count": 1,
   "metadata": {
    "collapsed": true
   },
   "outputs": [],
   "source": [
    "import pandas as pd\n",
    "import numpy as np\n",
    "\n",
    "from sklearn.model_selection import train_test_split\n",
    "from sklearn import preprocessing\n",
    "from sklearn.pipeline import Pipeline\n",
    "from sklearn.metrics import f1_score\n",
    "from sklearn.model_selection import StratifiedKFold\n",
    "from imblearn.over_sampling import SMOTE\n",
    "import pickle\n",
    "\n",
    "import sys\n",
    "sys.path.append(\"..\") \n",
    "from gcforest.gcforest import GCForest\n",
    "from gcforest.utils.config_utils import load_json"
   ]
  },
  {
   "cell_type": "code",
   "execution_count": 2,
   "metadata": {
    "collapsed": true
   },
   "outputs": [],
   "source": [
    "def Smoter(X, y, is_random=False):\n",
    "    if is_random == True:\n",
    "        # random_lst = list(np.random.randint(0, 1000, 4))\n",
    "        sm = SMOTE(random_state=random_seed)\n",
    "    elif is_random == False:\n",
    "        sm = SMOTE(random_state=0)\n",
    "\n",
    "    # sm = SMOTE(random_state=random_lst[2])\n",
    "    X_smote, y_smote = sm.fit_sample(X, y)\n",
    "\n",
    "    return X_smote, y_smote"
   ]
  },
  {
   "cell_type": "markdown",
   "metadata": {},
   "source": [
    "#### evaluate function"
   ]
  },
  {
   "cell_type": "code",
   "execution_count": 3,
   "metadata": {
    "collapsed": true
   },
   "outputs": [],
   "source": [
    "def evaluate(true, pred):\n",
    "    # compute accuracy, precision and recall\n",
    "    TP, FP, TN, FN = 0, 0, 0, 0\n",
    "\n",
    "    for i in range(0, len(pred)):\n",
    "        if pred[i] == true[i] and true[i] == 1:\n",
    "            TP += 1\n",
    "        elif pred[i] == true[i] and true[i] == 0:\n",
    "            TN += 1\n",
    "        elif pred[i] != true[i] and true[i] == 0:\n",
    "            FP += 1\n",
    "        elif pred[i] != true[i] and true[i] == 1:\n",
    "            FN += 1\n",
    "\n",
    "    precision = TP/(TP + FP)\n",
    "    recall = TP/(TP + FN)\n",
    "    accuracy = (TP+TN)/(TP+TN+FN+FP)\n",
    "    \n",
    "    print('TP=',TP,'FP=',FP,'TN=',TN,'FN=',FN)\n",
    "    F1 = 2*precision*recall / (precision + recall)\n",
    "    print(\"precision\", precision,\"\\nrecall\", recall,\"\\naccuracy\", accuracy)\n",
    "    print('F1=',F1)\n",
    "    return F1, accuracy, precision, recall"
   ]
  },
  {
   "cell_type": "markdown",
   "metadata": {},
   "source": [
    "#### Batch\n",
    "\n",
    "combine serveral datas‘ features together"
   ]
  },
  {
   "cell_type": "code",
   "execution_count": 4,
   "metadata": {
    "collapsed": true
   },
   "outputs": [],
   "source": [
    "def Batch(X, y, size):\n",
    "    batch_size = size\n",
    "\n",
    "    X_trim = X\n",
    "    y_trim = y\n",
    "\n",
    "    if len(X) % batch_size != 0:\n",
    "        extra_num = len(X) % batch_size\n",
    "        X_trim = np.delete(X, range(len(X) - extra_num, len(X)), axis = 0)\n",
    "        y_trim = np.delete(y, range(len(y) - extra_num, len(y)), axis = 0)\n",
    "\n",
    "    X_batch = np.split(X_trim, len(X_trim)/batch_size)\n",
    "    y_batch = np.split(y_trim, len(y_trim)/batch_size)\n",
    "\n",
    "    num_batch = 0\n",
    "\n",
    "    for each_batch in X_batch:\n",
    "        X_batch[num_batch] = np.reshape(X_batch[num_batch], (9*batch_size))\n",
    "        y_batch[num_batch] = y_batch[num_batch][-1]\n",
    "        num_batch += 1\n",
    "\n",
    "    X_batch = np.array(X_batch)\n",
    "    y_batch = np.array(y_batch)\n",
    "    return X_batch, y_batch"
   ]
  },
  {
   "cell_type": "markdown",
   "metadata": {},
   "source": [
    "#### gc_config"
   ]
  },
  {
   "cell_type": "code",
   "execution_count": 5,
   "metadata": {
    "collapsed": true
   },
   "outputs": [],
   "source": [
    "def get_toy_config():\n",
    "    config = {}\n",
    "    ca_config = {}\n",
    "    ca_config[\"random_state\"] = random_seed\n",
    "    ca_config[\"max_layers\"] = 10\n",
    "    ca_config[\"early_stopping_rounds\"] = 3\n",
    "    ca_config[\"n_classes\"] = 2\n",
    "    ca_config[\"estimators\"] = []\n",
    "    ca_config[\"estimators\"].append({\"n_folds\": 5, \"type\": \"RandomForestClassifier\", \"n_estimators\": 10, \"max_depth\": None, \"n_jobs\": -1})\n",
    "    ca_config[\"estimators\"].append({\"n_folds\": 5, \n",
    "                                    \"type\": \"XGBClassifier\", \n",
    "                                    \"n_estimators\": 1150, \n",
    "                                    \"learning_rate\": 0.1,\n",
    "                                    \"max_depth\":4,\n",
    "                                    \"gamma\":0,\n",
    "                                    \"subsample\":0.8,\n",
    "                                    \"colsample_bytree\":0.8,\n",
    "                                    \"objective\":'binary:logistic',\n",
    "                                    \"scale_pos_weight\":0.7999,\n",
    "                                    \"seed\":random_seed,\n",
    "                                    \"n_jobs\": -1})\n",
    "    ca_config[\"estimators\"].append({\"n_folds\": 5, \n",
    "                                    \"type\": \"XGBClassifier\", \n",
    "                                    \"n_estimators\": 1000, \n",
    "                                    \"max_depth\":4,\n",
    "                                    \"learning_rate\": 0.1,\n",
    "                                    \"gamma\":0,\n",
    "                                    \"subsample\":0.8,\n",
    "                                    \"colsample_bytree\":0.8,\n",
    "                                    \"objective\":'binary:logistic',\n",
    "                                    \"scale_pos_weight\":1,\n",
    "                                    \"seed\":random_seed,\n",
    "                                    \"n_jobs\": -1})\n",
    "    config[\"cascade\"] = ca_config\n",
    "    return config"
   ]
  },
  {
   "cell_type": "markdown",
   "metadata": {},
   "source": [
    "### HyperParameter"
   ]
  },
  {
   "cell_type": "code",
   "execution_count": 6,
   "metadata": {
    "collapsed": true
   },
   "outputs": [],
   "source": [
    "batch_size = 3\n",
    "test_size = 0.2\n",
    "random_seed = 42\n",
    "cv = 5"
   ]
  },
  {
   "cell_type": "markdown",
   "metadata": {},
   "source": [
    "# load train"
   ]
  },
  {
   "cell_type": "code",
   "execution_count": 7,
   "metadata": {
    "collapsed": true
   },
   "outputs": [],
   "source": [
    "data_all = pd.read_csv(\"../data/water/csv/train2019.csv\")\n",
    "\n",
    "X = data_all.values[:, 0:-1]\n",
    "y = data_all.values[:, -1]"
   ]
  },
  {
   "cell_type": "markdown",
   "metadata": {},
   "source": [
    "#### train_valid_split"
   ]
  },
  {
   "cell_type": "code",
   "execution_count": 8,
   "metadata": {},
   "outputs": [
    {
     "name": "stdout",
     "output_type": "stream",
     "text": [
      "============ train_valid_split ============\n",
      "train: 105769, valid: 26443\n"
     ]
    }
   ],
   "source": [
    "print(\"============ train_valid_split ============\")\n",
    "X_train, X_valid, y_train, y_valid = train_test_split(X, y,test_size=test_size, stratify=y, random_state=random_seed)\n",
    "print(\"train: %d, valid: %d\" %(X_train.shape[0], X_valid.shape[0]))"
   ]
  },
  {
   "cell_type": "markdown",
   "metadata": {},
   "source": [
    "### clean the data before somte\n",
    "\n",
    "fulfill the Na with median, then standardized the data, output type ndarray"
   ]
  },
  {
   "cell_type": "code",
   "execution_count": 9,
   "metadata": {},
   "outputs": [
    {
     "name": "stderr",
     "output_type": "stream",
     "text": [
      "C:\\Users\\80743\\AppData\\Roaming\\Python\\Python36\\site-packages\\sklearn\\utils\\deprecation.py:58: DeprecationWarning: Class Imputer is deprecated; Imputer was deprecated in version 0.20 and will be removed in 0.22. Import impute.SimpleImputer from sklearn instead.\n",
      "  warnings.warn(msg, category=DeprecationWarning)\n"
     ]
    }
   ],
   "source": [
    "clean_pipeline = Pipeline([('imputer', preprocessing.Imputer(missing_values='NaN',strategy=\"median\")),\n",
    "                           ('std_scaler', preprocessing.StandardScaler()),])\n",
    "X_train = clean_pipeline.fit_transform(X_train)\n",
    "X_valid = clean_pipeline.fit_transform(X_valid)"
   ]
  },
  {
   "cell_type": "markdown",
   "metadata": {},
   "source": [
    "#### Do somte sampling on the train data to solve data imblance problem"
   ]
  },
  {
   "cell_type": "code",
   "execution_count": 10,
   "metadata": {},
   "outputs": [
    {
     "name": "stdout",
     "output_type": "stream",
     "text": [
      "============ SMOTE ============\n",
      "train: 105769, contains 0.9984 of 0 , after SMOTE: train: 211204 contains 0.5000 of 1\n"
     ]
    }
   ],
   "source": [
    "X_train_oversampled, y_train_oversampled = Smoter(X_train, y_train, is_random=True)\n",
    "print(\"============ SMOTE ============\")\n",
    "print(\"train: %d, contains %.4f of 0 , after SMOTE: train: %d contains %.4f of 1\" %(X_train.shape[0], (y_train == 0).sum()/y_train.shape[0], X_train_oversampled.shape[0], (y_train_oversampled == 0).sum()/y_train_oversampled.shape[0]))"
   ]
  },
  {
   "cell_type": "code",
   "execution_count": 11,
   "metadata": {
    "collapsed": true
   },
   "outputs": [],
   "source": [
    "# X_train_oversampled_batch, y_train_oversampled_batch = Batch(X_train_oversampled, y_train_oversampled, batch_size)\n",
    "# X_train_batch, y_train_batch = Batch(X_train, y_train, batch_size)\n",
    "# X_valid_batch, y_valid_batch = Batch(X_valid, y_valid, batch_size)"
   ]
  },
  {
   "cell_type": "markdown",
   "metadata": {},
   "source": [
    "# GcForest\n",
    "\n",
    "## test gc"
   ]
  },
  {
   "cell_type": "markdown",
   "metadata": {},
   "source": [
    "# load 2019 Test datasets"
   ]
  },
  {
   "cell_type": "code",
   "execution_count": 12,
   "metadata": {
    "collapsed": true
   },
   "outputs": [],
   "source": [
    "# test = pd.read_csv(\"../data/water/csv/test2018.csv\")\n",
    "\n",
    "# X_test = test.values[:, 0:-1]\n",
    "# y_test = test.values[:, -1]\n",
    "\n",
    "# X_test = clean_pipeline.fit_transform(X_test)"
   ]
  },
  {
   "cell_type": "code",
   "execution_count": 13,
   "metadata": {},
   "outputs": [
    {
     "name": "stderr",
     "output_type": "stream",
     "text": [
      "[ 2019-03-23 15:41:34,633][cascade_classifier.fit_transform] X_groups_train.shape=[(211204, 6)],y_train.shape=(211204,),X_groups_test.shape=[(26443, 6)],y_test.shape=(26443,)\n",
      "[ 2019-03-23 15:41:34,650][cascade_classifier.fit_transform] group_dims=[6]\n",
      "[ 2019-03-23 15:41:34,652][cascade_classifier.fit_transform] group_starts=[0]\n",
      "[ 2019-03-23 15:41:34,656][cascade_classifier.fit_transform] group_ends=[6]\n",
      "[ 2019-03-23 15:41:34,660][cascade_classifier.fit_transform] X_train.shape=(211204, 6),X_test.shape=(26443, 6)\n",
      "[ 2019-03-23 15:41:34,686][cascade_classifier.fit_transform] [layer=0] look_indexs=[0], X_cur_train.shape=(211204, 6), X_cur_test.shape=(26443, 6)\n",
      "[ 2019-03-23 15:41:37,152][kfold_wrapper.log_eval_metrics] F1 (layer_0 - estimator_0 - 5_folds.train_0.predict)=99.98%\n",
      "[ 2019-03-23 15:41:39,170][kfold_wrapper.log_eval_metrics] F1 (layer_0 - estimator_0 - 5_folds.train_1.predict)=99.99%\n",
      "[ 2019-03-23 15:41:41,222][kfold_wrapper.log_eval_metrics] F1 (layer_0 - estimator_0 - 5_folds.train_2.predict)=99.98%\n",
      "[ 2019-03-23 15:41:43,234][kfold_wrapper.log_eval_metrics] F1 (layer_0 - estimator_0 - 5_folds.train_3.predict)=99.96%\n",
      "[ 2019-03-23 15:41:45,269][kfold_wrapper.log_eval_metrics] F1 (layer_0 - estimator_0 - 5_folds.train_4.predict)=99.99%\n",
      "[ 2019-03-23 15:41:45,470][kfold_wrapper.log_eval_metrics] F1 (layer_0 - estimator_0 - 5_folds.train_cv.predict)=99.98%\n",
      "[ 2019-03-23 15:41:45,483][kfold_wrapper.log_eval_metrics] F1 (layer_0 - estimator_0 - 5_folds.test.predict)=66.67%\n",
      "D:\\Anaconda3\\lib\\site-packages\\xgboost\\sklearn.py:229: DeprecationWarning: The seed parameter is deprecated as of version .6.Please use random_state instead.seed is deprecated.\n",
      "  'seed is deprecated.', DeprecationWarning)\n",
      "[ 2019-03-23 15:44:03,499][kfold_wrapper.log_eval_metrics] F1 (layer_0 - estimator_1 - 5_folds.train_0.predict)=99.97%\n",
      "D:\\Anaconda3\\lib\\site-packages\\xgboost\\sklearn.py:229: DeprecationWarning: The seed parameter is deprecated as of version .6.Please use random_state instead.seed is deprecated.\n",
      "  'seed is deprecated.', DeprecationWarning)\n",
      "[ 2019-03-23 15:45:59,867][kfold_wrapper.log_eval_metrics] F1 (layer_0 - estimator_1 - 5_folds.train_1.predict)=99.97%\n",
      "D:\\Anaconda3\\lib\\site-packages\\xgboost\\sklearn.py:229: DeprecationWarning: The seed parameter is deprecated as of version .6.Please use random_state instead.seed is deprecated.\n",
      "  'seed is deprecated.', DeprecationWarning)\n",
      "[ 2019-03-23 15:47:31,753][kfold_wrapper.log_eval_metrics] F1 (layer_0 - estimator_1 - 5_folds.train_2.predict)=99.98%\n",
      "D:\\Anaconda3\\lib\\site-packages\\xgboost\\sklearn.py:229: DeprecationWarning: The seed parameter is deprecated as of version .6.Please use random_state instead.seed is deprecated.\n",
      "  'seed is deprecated.', DeprecationWarning)\n",
      "[ 2019-03-23 15:49:03,177][kfold_wrapper.log_eval_metrics] F1 (layer_0 - estimator_1 - 5_folds.train_3.predict)=99.98%\n",
      "D:\\Anaconda3\\lib\\site-packages\\xgboost\\sklearn.py:229: DeprecationWarning: The seed parameter is deprecated as of version .6.Please use random_state instead.seed is deprecated.\n",
      "  'seed is deprecated.', DeprecationWarning)\n",
      "[ 2019-03-23 15:50:35,491][kfold_wrapper.log_eval_metrics] F1 (layer_0 - estimator_1 - 5_folds.train_4.predict)=99.99%\n",
      "[ 2019-03-23 15:50:36,190][kfold_wrapper.log_eval_metrics] F1 (layer_0 - estimator_1 - 5_folds.train_cv.predict)=99.98%\n",
      "[ 2019-03-23 15:50:36,199][kfold_wrapper.log_eval_metrics] F1 (layer_0 - estimator_1 - 5_folds.test.predict)=62.40%\n",
      "D:\\Anaconda3\\lib\\site-packages\\xgboost\\sklearn.py:229: DeprecationWarning: The seed parameter is deprecated as of version .6.Please use random_state instead.seed is deprecated.\n",
      "  'seed is deprecated.', DeprecationWarning)\n",
      "[ 2019-03-23 15:51:58,161][kfold_wrapper.log_eval_metrics] F1 (layer_0 - estimator_2 - 5_folds.train_0.predict)=99.96%\n",
      "D:\\Anaconda3\\lib\\site-packages\\xgboost\\sklearn.py:229: DeprecationWarning: The seed parameter is deprecated as of version .6.Please use random_state instead.seed is deprecated.\n",
      "  'seed is deprecated.', DeprecationWarning)\n",
      "[ 2019-03-23 15:53:19,034][kfold_wrapper.log_eval_metrics] F1 (layer_0 - estimator_2 - 5_folds.train_1.predict)=99.99%\n",
      "D:\\Anaconda3\\lib\\site-packages\\xgboost\\sklearn.py:229: DeprecationWarning: The seed parameter is deprecated as of version .6.Please use random_state instead.seed is deprecated.\n",
      "  'seed is deprecated.', DeprecationWarning)\n",
      "[ 2019-03-23 15:54:40,009][kfold_wrapper.log_eval_metrics] F1 (layer_0 - estimator_2 - 5_folds.train_2.predict)=99.98%\n",
      "D:\\Anaconda3\\lib\\site-packages\\xgboost\\sklearn.py:229: DeprecationWarning: The seed parameter is deprecated as of version .6.Please use random_state instead.seed is deprecated.\n",
      "  'seed is deprecated.', DeprecationWarning)\n",
      "[ 2019-03-23 15:55:59,042][kfold_wrapper.log_eval_metrics] F1 (layer_0 - estimator_2 - 5_folds.train_3.predict)=99.98%\n",
      "D:\\Anaconda3\\lib\\site-packages\\xgboost\\sklearn.py:229: DeprecationWarning: The seed parameter is deprecated as of version .6.Please use random_state instead.seed is deprecated.\n",
      "  'seed is deprecated.', DeprecationWarning)\n",
      "[ 2019-03-23 15:57:18,867][kfold_wrapper.log_eval_metrics] F1 (layer_0 - estimator_2 - 5_folds.train_4.predict)=99.98%\n",
      "[ 2019-03-23 15:57:19,482][kfold_wrapper.log_eval_metrics] F1 (layer_0 - estimator_2 - 5_folds.train_cv.predict)=99.98%\n",
      "[ 2019-03-23 15:57:19,492][kfold_wrapper.log_eval_metrics] F1 (layer_0 - estimator_2 - 5_folds.test.predict)=61.90%\n",
      "[ 2019-03-23 15:57:19,577][cascade_classifier.calc_f1] F1 (layer_0 - train.classifier_average)=99.98%\n",
      "[ 2019-03-23 15:57:19,587][cascade_classifier.calc_f1] F1 (layer_0 - test.classifier_average)=63.93%\n",
      "[ 2019-03-23 15:57:19,625][cascade_classifier.fit_transform] [layer=1] look_indexs=[0], X_cur_train.shape=(211204, 12), X_cur_test.shape=(26443, 12)\n",
      "[ 2019-03-23 15:57:20,770][kfold_wrapper.log_eval_metrics] F1 (layer_1 - estimator_0 - 5_folds.train_0.predict)=100.00%\n",
      "[ 2019-03-23 15:57:23,223][kfold_wrapper.log_eval_metrics] F1 (layer_1 - estimator_0 - 5_folds.train_1.predict)=99.99%\n",
      "[ 2019-03-23 15:57:24,401][kfold_wrapper.log_eval_metrics] F1 (layer_1 - estimator_0 - 5_folds.train_2.predict)=99.99%\n",
      "[ 2019-03-23 15:57:25,688][kfold_wrapper.log_eval_metrics] F1 (layer_1 - estimator_0 - 5_folds.train_3.predict)=99.99%\n",
      "[ 2019-03-23 15:57:26,868][kfold_wrapper.log_eval_metrics] F1 (layer_1 - estimator_0 - 5_folds.train_4.predict)=99.99%\n",
      "[ 2019-03-23 15:57:27,051][kfold_wrapper.log_eval_metrics] F1 (layer_1 - estimator_0 - 5_folds.train_cv.predict)=99.99%\n",
      "[ 2019-03-23 15:57:27,060][kfold_wrapper.log_eval_metrics] F1 (layer_1 - estimator_0 - 5_folds.test.predict)=83.52%\n",
      "D:\\Anaconda3\\lib\\site-packages\\xgboost\\sklearn.py:229: DeprecationWarning: The seed parameter is deprecated as of version .6.Please use random_state instead.seed is deprecated.\n",
      "  'seed is deprecated.', DeprecationWarning)\n",
      "[ 2019-03-23 15:58:44,121][kfold_wrapper.log_eval_metrics] F1 (layer_1 - estimator_1 - 5_folds.train_0.predict)=99.99%\n",
      "D:\\Anaconda3\\lib\\site-packages\\xgboost\\sklearn.py:229: DeprecationWarning: The seed parameter is deprecated as of version .6.Please use random_state instead.seed is deprecated.\n",
      "  'seed is deprecated.', DeprecationWarning)\n",
      "[ 2019-03-23 16:00:03,314][kfold_wrapper.log_eval_metrics] F1 (layer_1 - estimator_1 - 5_folds.train_1.predict)=99.99%\n",
      "D:\\Anaconda3\\lib\\site-packages\\xgboost\\sklearn.py:229: DeprecationWarning: The seed parameter is deprecated as of version .6.Please use random_state instead.seed is deprecated.\n",
      "  'seed is deprecated.', DeprecationWarning)\n",
      "[ 2019-03-23 16:01:22,805][kfold_wrapper.log_eval_metrics] F1 (layer_1 - estimator_1 - 5_folds.train_2.predict)=100.00%\n",
      "D:\\Anaconda3\\lib\\site-packages\\xgboost\\sklearn.py:229: DeprecationWarning: The seed parameter is deprecated as of version .6.Please use random_state instead.seed is deprecated.\n",
      "  'seed is deprecated.', DeprecationWarning)\n",
      "[ 2019-03-23 16:02:42,210][kfold_wrapper.log_eval_metrics] F1 (layer_1 - estimator_1 - 5_folds.train_3.predict)=100.00%\n",
      "D:\\Anaconda3\\lib\\site-packages\\xgboost\\sklearn.py:229: DeprecationWarning: The seed parameter is deprecated as of version .6.Please use random_state instead.seed is deprecated.\n",
      "  'seed is deprecated.', DeprecationWarning)\n",
      "[ 2019-03-23 16:03:55,232][kfold_wrapper.log_eval_metrics] F1 (layer_1 - estimator_1 - 5_folds.train_4.predict)=99.99%\n"
     ]
    },
    {
     "name": "stderr",
     "output_type": "stream",
     "text": [
      "[ 2019-03-23 16:03:55,565][kfold_wrapper.log_eval_metrics] F1 (layer_1 - estimator_1 - 5_folds.train_cv.predict)=99.99%\n",
      "[ 2019-03-23 16:03:57,786][kfold_wrapper.log_eval_metrics] F1 (layer_1 - estimator_1 - 5_folds.test.predict)=83.72%\n",
      "D:\\Anaconda3\\lib\\site-packages\\xgboost\\sklearn.py:229: DeprecationWarning: The seed parameter is deprecated as of version .6.Please use random_state instead.seed is deprecated.\n",
      "  'seed is deprecated.', DeprecationWarning)\n",
      "[ 2019-03-23 16:05:07,192][kfold_wrapper.log_eval_metrics] F1 (layer_1 - estimator_2 - 5_folds.train_0.predict)=99.99%\n",
      "D:\\Anaconda3\\lib\\site-packages\\xgboost\\sklearn.py:229: DeprecationWarning: The seed parameter is deprecated as of version .6.Please use random_state instead.seed is deprecated.\n",
      "  'seed is deprecated.', DeprecationWarning)\n",
      "[ 2019-03-23 16:06:17,212][kfold_wrapper.log_eval_metrics] F1 (layer_1 - estimator_2 - 5_folds.train_1.predict)=99.99%\n",
      "D:\\Anaconda3\\lib\\site-packages\\xgboost\\sklearn.py:229: DeprecationWarning: The seed parameter is deprecated as of version .6.Please use random_state instead.seed is deprecated.\n",
      "  'seed is deprecated.', DeprecationWarning)\n",
      "[ 2019-03-23 16:07:26,595][kfold_wrapper.log_eval_metrics] F1 (layer_1 - estimator_2 - 5_folds.train_2.predict)=100.00%\n",
      "D:\\Anaconda3\\lib\\site-packages\\xgboost\\sklearn.py:229: DeprecationWarning: The seed parameter is deprecated as of version .6.Please use random_state instead.seed is deprecated.\n",
      "  'seed is deprecated.', DeprecationWarning)\n",
      "[ 2019-03-23 16:08:32,762][kfold_wrapper.log_eval_metrics] F1 (layer_1 - estimator_2 - 5_folds.train_3.predict)=99.99%\n",
      "D:\\Anaconda3\\lib\\site-packages\\xgboost\\sklearn.py:229: DeprecationWarning: The seed parameter is deprecated as of version .6.Please use random_state instead.seed is deprecated.\n",
      "  'seed is deprecated.', DeprecationWarning)\n",
      "[ 2019-03-23 16:09:41,437][kfold_wrapper.log_eval_metrics] F1 (layer_1 - estimator_2 - 5_folds.train_4.predict)=99.99%\n",
      "[ 2019-03-23 16:09:41,784][kfold_wrapper.log_eval_metrics] F1 (layer_1 - estimator_2 - 5_folds.train_cv.predict)=99.99%\n",
      "[ 2019-03-23 16:09:41,795][kfold_wrapper.log_eval_metrics] F1 (layer_1 - estimator_2 - 5_folds.test.predict)=83.72%\n",
      "[ 2019-03-23 16:09:41,878][cascade_classifier.calc_f1] F1 (layer_1 - train.classifier_average)=99.99%\n",
      "[ 2019-03-23 16:09:41,888][cascade_classifier.calc_f1] F1 (layer_1 - test.classifier_average)=83.15%\n",
      "[ 2019-03-23 16:09:41,922][cascade_classifier.fit_transform] [layer=2] look_indexs=[0], X_cur_train.shape=(211204, 12), X_cur_test.shape=(26443, 12)\n",
      "[ 2019-03-23 16:09:42,990][kfold_wrapper.log_eval_metrics] F1 (layer_2 - estimator_0 - 5_folds.train_0.predict)=99.99%\n",
      "[ 2019-03-23 16:09:46,057][kfold_wrapper.log_eval_metrics] F1 (layer_2 - estimator_0 - 5_folds.train_1.predict)=99.99%\n",
      "[ 2019-03-23 16:09:47,049][kfold_wrapper.log_eval_metrics] F1 (layer_2 - estimator_0 - 5_folds.train_2.predict)=99.99%\n",
      "[ 2019-03-23 16:09:48,127][kfold_wrapper.log_eval_metrics] F1 (layer_2 - estimator_0 - 5_folds.train_3.predict)=99.99%\n",
      "[ 2019-03-23 16:09:49,131][kfold_wrapper.log_eval_metrics] F1 (layer_2 - estimator_0 - 5_folds.train_4.predict)=100.00%\n",
      "[ 2019-03-23 16:09:49,313][kfold_wrapper.log_eval_metrics] F1 (layer_2 - estimator_0 - 5_folds.train_cv.predict)=99.99%\n",
      "[ 2019-03-23 16:09:49,321][kfold_wrapper.log_eval_metrics] F1 (layer_2 - estimator_0 - 5_folds.test.predict)=80.49%\n",
      "D:\\Anaconda3\\lib\\site-packages\\xgboost\\sklearn.py:229: DeprecationWarning: The seed parameter is deprecated as of version .6.Please use random_state instead.seed is deprecated.\n",
      "  'seed is deprecated.', DeprecationWarning)\n",
      "[ 2019-03-23 16:11:08,371][kfold_wrapper.log_eval_metrics] F1 (layer_2 - estimator_1 - 5_folds.train_0.predict)=99.99%\n",
      "D:\\Anaconda3\\lib\\site-packages\\xgboost\\sklearn.py:229: DeprecationWarning: The seed parameter is deprecated as of version .6.Please use random_state instead.seed is deprecated.\n",
      "  'seed is deprecated.', DeprecationWarning)\n",
      "[ 2019-03-23 16:12:27,650][kfold_wrapper.log_eval_metrics] F1 (layer_2 - estimator_1 - 5_folds.train_1.predict)=99.99%\n",
      "D:\\Anaconda3\\lib\\site-packages\\xgboost\\sklearn.py:229: DeprecationWarning: The seed parameter is deprecated as of version .6.Please use random_state instead.seed is deprecated.\n",
      "  'seed is deprecated.', DeprecationWarning)\n",
      "[ 2019-03-23 16:13:58,024][kfold_wrapper.log_eval_metrics] F1 (layer_2 - estimator_1 - 5_folds.train_2.predict)=99.99%\n",
      "D:\\Anaconda3\\lib\\site-packages\\xgboost\\sklearn.py:229: DeprecationWarning: The seed parameter is deprecated as of version .6.Please use random_state instead.seed is deprecated.\n",
      "  'seed is deprecated.', DeprecationWarning)\n",
      "[ 2019-03-23 16:15:21,146][kfold_wrapper.log_eval_metrics] F1 (layer_2 - estimator_1 - 5_folds.train_3.predict)=99.99%\n",
      "D:\\Anaconda3\\lib\\site-packages\\xgboost\\sklearn.py:229: DeprecationWarning: The seed parameter is deprecated as of version .6.Please use random_state instead.seed is deprecated.\n",
      "  'seed is deprecated.', DeprecationWarning)\n",
      "[ 2019-03-23 16:16:44,538][kfold_wrapper.log_eval_metrics] F1 (layer_2 - estimator_1 - 5_folds.train_4.predict)=100.00%\n",
      "[ 2019-03-23 16:16:44,942][kfold_wrapper.log_eval_metrics] F1 (layer_2 - estimator_1 - 5_folds.train_cv.predict)=99.99%\n",
      "[ 2019-03-23 16:16:45,289][kfold_wrapper.log_eval_metrics] F1 (layer_2 - estimator_1 - 5_folds.test.predict)=80.49%\n",
      "D:\\Anaconda3\\lib\\site-packages\\xgboost\\sklearn.py:229: DeprecationWarning: The seed parameter is deprecated as of version .6.Please use random_state instead.seed is deprecated.\n",
      "  'seed is deprecated.', DeprecationWarning)\n",
      "[ 2019-03-23 16:17:59,664][kfold_wrapper.log_eval_metrics] F1 (layer_2 - estimator_2 - 5_folds.train_0.predict)=100.00%\n",
      "D:\\Anaconda3\\lib\\site-packages\\xgboost\\sklearn.py:229: DeprecationWarning: The seed parameter is deprecated as of version .6.Please use random_state instead.seed is deprecated.\n",
      "  'seed is deprecated.', DeprecationWarning)\n",
      "[ 2019-03-23 16:19:13,014][kfold_wrapper.log_eval_metrics] F1 (layer_2 - estimator_2 - 5_folds.train_1.predict)=99.99%\n",
      "D:\\Anaconda3\\lib\\site-packages\\xgboost\\sklearn.py:229: DeprecationWarning: The seed parameter is deprecated as of version .6.Please use random_state instead.seed is deprecated.\n",
      "  'seed is deprecated.', DeprecationWarning)\n",
      "[ 2019-03-23 16:20:28,271][kfold_wrapper.log_eval_metrics] F1 (layer_2 - estimator_2 - 5_folds.train_2.predict)=99.99%\n",
      "D:\\Anaconda3\\lib\\site-packages\\xgboost\\sklearn.py:229: DeprecationWarning: The seed parameter is deprecated as of version .6.Please use random_state instead.seed is deprecated.\n",
      "  'seed is deprecated.', DeprecationWarning)\n",
      "[ 2019-03-23 16:21:44,464][kfold_wrapper.log_eval_metrics] F1 (layer_2 - estimator_2 - 5_folds.train_3.predict)=100.00%\n",
      "D:\\Anaconda3\\lib\\site-packages\\xgboost\\sklearn.py:229: DeprecationWarning: The seed parameter is deprecated as of version .6.Please use random_state instead.seed is deprecated.\n",
      "  'seed is deprecated.', DeprecationWarning)\n",
      "[ 2019-03-23 16:22:44,971][kfold_wrapper.log_eval_metrics] F1 (layer_2 - estimator_2 - 5_folds.train_4.predict)=99.98%\n",
      "[ 2019-03-23 16:22:45,252][kfold_wrapper.log_eval_metrics] F1 (layer_2 - estimator_2 - 5_folds.train_cv.predict)=99.99%\n",
      "[ 2019-03-23 16:22:45,261][kfold_wrapper.log_eval_metrics] F1 (layer_2 - estimator_2 - 5_folds.test.predict)=80.49%\n",
      "[ 2019-03-23 16:22:45,342][cascade_classifier.calc_f1] F1 (layer_2 - train.classifier_average)=99.99%\n",
      "[ 2019-03-23 16:22:45,351][cascade_classifier.calc_f1] F1 (layer_2 - test.classifier_average)=80.49%\n",
      "[ 2019-03-23 16:22:45,384][cascade_classifier.fit_transform] [layer=3] look_indexs=[0], X_cur_train.shape=(211204, 12), X_cur_test.shape=(26443, 12)\n",
      "[ 2019-03-23 16:22:46,540][kfold_wrapper.log_eval_metrics] F1 (layer_3 - estimator_0 - 5_folds.train_0.predict)=100.00%\n",
      "[ 2019-03-23 16:22:49,272][kfold_wrapper.log_eval_metrics] F1 (layer_3 - estimator_0 - 5_folds.train_1.predict)=99.99%\n",
      "[ 2019-03-23 16:22:50,451][kfold_wrapper.log_eval_metrics] F1 (layer_3 - estimator_0 - 5_folds.train_2.predict)=99.99%\n",
      "[ 2019-03-23 16:22:51,735][kfold_wrapper.log_eval_metrics] F1 (layer_3 - estimator_0 - 5_folds.train_3.predict)=99.99%\n",
      "[ 2019-03-23 16:22:52,870][kfold_wrapper.log_eval_metrics] F1 (layer_3 - estimator_0 - 5_folds.train_4.predict)=99.99%\n"
     ]
    },
    {
     "name": "stderr",
     "output_type": "stream",
     "text": [
      "[ 2019-03-23 16:22:53,051][kfold_wrapper.log_eval_metrics] F1 (layer_3 - estimator_0 - 5_folds.train_cv.predict)=99.99%\n",
      "[ 2019-03-23 16:22:53,059][kfold_wrapper.log_eval_metrics] F1 (layer_3 - estimator_0 - 5_folds.test.predict)=77.50%\n",
      "D:\\Anaconda3\\lib\\site-packages\\xgboost\\sklearn.py:229: DeprecationWarning: The seed parameter is deprecated as of version .6.Please use random_state instead.seed is deprecated.\n",
      "  'seed is deprecated.', DeprecationWarning)\n",
      "[ 2019-03-23 16:24:19,724][kfold_wrapper.log_eval_metrics] F1 (layer_3 - estimator_1 - 5_folds.train_0.predict)=99.99%\n",
      "D:\\Anaconda3\\lib\\site-packages\\xgboost\\sklearn.py:229: DeprecationWarning: The seed parameter is deprecated as of version .6.Please use random_state instead.seed is deprecated.\n",
      "  'seed is deprecated.', DeprecationWarning)\n",
      "[ 2019-03-23 16:25:49,927][kfold_wrapper.log_eval_metrics] F1 (layer_3 - estimator_1 - 5_folds.train_1.predict)=99.99%\n",
      "D:\\Anaconda3\\lib\\site-packages\\xgboost\\sklearn.py:229: DeprecationWarning: The seed parameter is deprecated as of version .6.Please use random_state instead.seed is deprecated.\n",
      "  'seed is deprecated.', DeprecationWarning)\n",
      "[ 2019-03-23 16:27:11,043][kfold_wrapper.log_eval_metrics] F1 (layer_3 - estimator_1 - 5_folds.train_2.predict)=99.99%\n",
      "D:\\Anaconda3\\lib\\site-packages\\xgboost\\sklearn.py:229: DeprecationWarning: The seed parameter is deprecated as of version .6.Please use random_state instead.seed is deprecated.\n",
      "  'seed is deprecated.', DeprecationWarning)\n",
      "[ 2019-03-23 16:28:43,236][kfold_wrapper.log_eval_metrics] F1 (layer_3 - estimator_1 - 5_folds.train_3.predict)=100.00%\n",
      "D:\\Anaconda3\\lib\\site-packages\\xgboost\\sklearn.py:229: DeprecationWarning: The seed parameter is deprecated as of version .6.Please use random_state instead.seed is deprecated.\n",
      "  'seed is deprecated.', DeprecationWarning)\n",
      "[ 2019-03-23 16:30:10,767][kfold_wrapper.log_eval_metrics] F1 (layer_3 - estimator_1 - 5_folds.train_4.predict)=99.99%\n",
      "[ 2019-03-23 16:30:11,189][kfold_wrapper.log_eval_metrics] F1 (layer_3 - estimator_1 - 5_folds.train_cv.predict)=99.99%\n",
      "[ 2019-03-23 16:30:11,199][kfold_wrapper.log_eval_metrics] F1 (layer_3 - estimator_1 - 5_folds.test.predict)=76.92%\n",
      "D:\\Anaconda3\\lib\\site-packages\\xgboost\\sklearn.py:229: DeprecationWarning: The seed parameter is deprecated as of version .6.Please use random_state instead.seed is deprecated.\n",
      "  'seed is deprecated.', DeprecationWarning)\n",
      "[ 2019-03-23 16:31:27,593][kfold_wrapper.log_eval_metrics] F1 (layer_3 - estimator_2 - 5_folds.train_0.predict)=99.99%\n",
      "D:\\Anaconda3\\lib\\site-packages\\xgboost\\sklearn.py:229: DeprecationWarning: The seed parameter is deprecated as of version .6.Please use random_state instead.seed is deprecated.\n",
      "  'seed is deprecated.', DeprecationWarning)\n",
      "[ 2019-03-23 16:32:42,322][kfold_wrapper.log_eval_metrics] F1 (layer_3 - estimator_2 - 5_folds.train_1.predict)=99.99%\n",
      "D:\\Anaconda3\\lib\\site-packages\\xgboost\\sklearn.py:229: DeprecationWarning: The seed parameter is deprecated as of version .6.Please use random_state instead.seed is deprecated.\n",
      "  'seed is deprecated.', DeprecationWarning)\n",
      "[ 2019-03-23 16:33:55,698][kfold_wrapper.log_eval_metrics] F1 (layer_3 - estimator_2 - 5_folds.train_2.predict)=99.98%\n",
      "D:\\Anaconda3\\lib\\site-packages\\xgboost\\sklearn.py:229: DeprecationWarning: The seed parameter is deprecated as of version .6.Please use random_state instead.seed is deprecated.\n",
      "  'seed is deprecated.', DeprecationWarning)\n",
      "[ 2019-03-23 16:35:15,553][kfold_wrapper.log_eval_metrics] F1 (layer_3 - estimator_2 - 5_folds.train_3.predict)=99.99%\n",
      "D:\\Anaconda3\\lib\\site-packages\\xgboost\\sklearn.py:229: DeprecationWarning: The seed parameter is deprecated as of version .6.Please use random_state instead.seed is deprecated.\n",
      "  'seed is deprecated.', DeprecationWarning)\n",
      "[ 2019-03-23 16:36:34,509][kfold_wrapper.log_eval_metrics] F1 (layer_3 - estimator_2 - 5_folds.train_4.predict)=99.99%\n",
      "[ 2019-03-23 16:36:34,903][kfold_wrapper.log_eval_metrics] F1 (layer_3 - estimator_2 - 5_folds.train_cv.predict)=99.99%\n",
      "[ 2019-03-23 16:36:34,912][kfold_wrapper.log_eval_metrics] F1 (layer_3 - estimator_2 - 5_folds.test.predict)=75.95%\n",
      "[ 2019-03-23 16:36:34,990][cascade_classifier.calc_f1] F1 (layer_3 - train.classifier_average)=99.99%\n",
      "[ 2019-03-23 16:36:34,999][cascade_classifier.calc_f1] F1 (layer_3 - test.classifier_average)=76.92%\n",
      "[ 2019-03-23 16:36:35,031][cascade_classifier.fit_transform] [layer=4] look_indexs=[0], X_cur_train.shape=(211204, 12), X_cur_test.shape=(26443, 12)\n",
      "[ 2019-03-23 16:36:36,326][kfold_wrapper.log_eval_metrics] F1 (layer_4 - estimator_0 - 5_folds.train_0.predict)=99.99%\n",
      "[ 2019-03-23 16:36:37,573][kfold_wrapper.log_eval_metrics] F1 (layer_4 - estimator_0 - 5_folds.train_1.predict)=99.99%\n",
      "[ 2019-03-23 16:36:39,146][kfold_wrapper.log_eval_metrics] F1 (layer_4 - estimator_0 - 5_folds.train_2.predict)=99.99%\n",
      "[ 2019-03-23 16:36:40,438][kfold_wrapper.log_eval_metrics] F1 (layer_4 - estimator_0 - 5_folds.train_3.predict)=99.99%\n",
      "[ 2019-03-23 16:36:41,514][kfold_wrapper.log_eval_metrics] F1 (layer_4 - estimator_0 - 5_folds.train_4.predict)=99.98%\n",
      "[ 2019-03-23 16:36:41,694][kfold_wrapper.log_eval_metrics] F1 (layer_4 - estimator_0 - 5_folds.train_cv.predict)=99.99%\n",
      "[ 2019-03-23 16:36:41,703][kfold_wrapper.log_eval_metrics] F1 (layer_4 - estimator_0 - 5_folds.test.predict)=75.95%\n",
      "D:\\Anaconda3\\lib\\site-packages\\xgboost\\sklearn.py:229: DeprecationWarning: The seed parameter is deprecated as of version .6.Please use random_state instead.seed is deprecated.\n",
      "  'seed is deprecated.', DeprecationWarning)\n",
      "[ 2019-03-23 16:38:05,900][kfold_wrapper.log_eval_metrics] F1 (layer_4 - estimator_1 - 5_folds.train_0.predict)=99.98%\n",
      "D:\\Anaconda3\\lib\\site-packages\\xgboost\\sklearn.py:229: DeprecationWarning: The seed parameter is deprecated as of version .6.Please use random_state instead.seed is deprecated.\n",
      "  'seed is deprecated.', DeprecationWarning)\n",
      "[ 2019-03-23 16:39:38,414][kfold_wrapper.log_eval_metrics] F1 (layer_4 - estimator_1 - 5_folds.train_1.predict)=100.00%\n",
      "D:\\Anaconda3\\lib\\site-packages\\xgboost\\sklearn.py:229: DeprecationWarning: The seed parameter is deprecated as of version .6.Please use random_state instead.seed is deprecated.\n",
      "  'seed is deprecated.', DeprecationWarning)\n",
      "[ 2019-03-23 16:41:05,777][kfold_wrapper.log_eval_metrics] F1 (layer_4 - estimator_1 - 5_folds.train_2.predict)=99.99%\n",
      "D:\\Anaconda3\\lib\\site-packages\\xgboost\\sklearn.py:229: DeprecationWarning: The seed parameter is deprecated as of version .6.Please use random_state instead.seed is deprecated.\n",
      "  'seed is deprecated.', DeprecationWarning)\n",
      "[ 2019-03-23 16:42:35,411][kfold_wrapper.log_eval_metrics] F1 (layer_4 - estimator_1 - 5_folds.train_3.predict)=99.99%\n",
      "D:\\Anaconda3\\lib\\site-packages\\xgboost\\sklearn.py:229: DeprecationWarning: The seed parameter is deprecated as of version .6.Please use random_state instead.seed is deprecated.\n",
      "  'seed is deprecated.', DeprecationWarning)\n",
      "[ 2019-03-23 16:44:05,493][kfold_wrapper.log_eval_metrics] F1 (layer_4 - estimator_1 - 5_folds.train_4.predict)=99.99%\n",
      "[ 2019-03-23 16:44:05,977][kfold_wrapper.log_eval_metrics] F1 (layer_4 - estimator_1 - 5_folds.train_cv.predict)=99.99%\n",
      "[ 2019-03-23 16:44:05,989][kfold_wrapper.log_eval_metrics] F1 (layer_4 - estimator_1 - 5_folds.test.predict)=72.29%\n",
      "D:\\Anaconda3\\lib\\site-packages\\xgboost\\sklearn.py:229: DeprecationWarning: The seed parameter is deprecated as of version .6.Please use random_state instead.seed is deprecated.\n",
      "  'seed is deprecated.', DeprecationWarning)\n",
      "[ 2019-03-23 16:45:23,383][kfold_wrapper.log_eval_metrics] F1 (layer_4 - estimator_2 - 5_folds.train_0.predict)=99.99%\n",
      "D:\\Anaconda3\\lib\\site-packages\\xgboost\\sklearn.py:229: DeprecationWarning: The seed parameter is deprecated as of version .6.Please use random_state instead.seed is deprecated.\n",
      "  'seed is deprecated.', DeprecationWarning)\n",
      "[ 2019-03-23 16:46:43,724][kfold_wrapper.log_eval_metrics] F1 (layer_4 - estimator_2 - 5_folds.train_1.predict)=100.00%\n",
      "D:\\Anaconda3\\lib\\site-packages\\xgboost\\sklearn.py:229: DeprecationWarning: The seed parameter is deprecated as of version .6.Please use random_state instead.seed is deprecated.\n",
      "  'seed is deprecated.', DeprecationWarning)\n",
      "[ 2019-03-23 16:48:02,887][kfold_wrapper.log_eval_metrics] F1 (layer_4 - estimator_2 - 5_folds.train_2.predict)=99.99%\n"
     ]
    },
    {
     "name": "stderr",
     "output_type": "stream",
     "text": [
      "D:\\Anaconda3\\lib\\site-packages\\xgboost\\sklearn.py:229: DeprecationWarning: The seed parameter is deprecated as of version .6.Please use random_state instead.seed is deprecated.\n",
      "  'seed is deprecated.', DeprecationWarning)\n",
      "[ 2019-03-23 16:49:21,943][kfold_wrapper.log_eval_metrics] F1 (layer_4 - estimator_2 - 5_folds.train_3.predict)=99.99%\n",
      "D:\\Anaconda3\\lib\\site-packages\\xgboost\\sklearn.py:229: DeprecationWarning: The seed parameter is deprecated as of version .6.Please use random_state instead.seed is deprecated.\n",
      "  'seed is deprecated.', DeprecationWarning)\n",
      "[ 2019-03-23 16:50:38,783][kfold_wrapper.log_eval_metrics] F1 (layer_4 - estimator_2 - 5_folds.train_4.predict)=99.99%\n",
      "[ 2019-03-23 16:50:39,174][kfold_wrapper.log_eval_metrics] F1 (layer_4 - estimator_2 - 5_folds.train_cv.predict)=99.99%\n",
      "[ 2019-03-23 16:50:39,182][kfold_wrapper.log_eval_metrics] F1 (layer_4 - estimator_2 - 5_folds.test.predict)=74.70%\n",
      "[ 2019-03-23 16:50:39,261][cascade_classifier.calc_f1] F1 (layer_4 - train.classifier_average)=99.99%\n",
      "[ 2019-03-23 16:50:39,270][cascade_classifier.calc_f1] F1 (layer_4 - test.classifier_average)=74.70%\n",
      "[ 2019-03-23 16:50:39,272][cascade_classifier.fit_transform] [Result][Optimal Level Detected] opt_layer_num=2, f1_train=99.99%, f1_test=83.15%\n"
     ]
    },
    {
     "data": {
      "text/plain": [
       "(array([[1.0000000e+00, 0.0000000e+00, 9.9999762e-01, 2.3572004e-06,\n",
       "         9.9999553e-01, 4.4722751e-06],\n",
       "        [1.0000000e+00, 0.0000000e+00, 9.9995077e-01, 4.9242321e-05,\n",
       "         9.9998266e-01, 1.7364351e-05],\n",
       "        [1.0000000e+00, 0.0000000e+00, 9.9999982e-01, 1.5563374e-07,\n",
       "         9.9999905e-01, 9.7724114e-07],\n",
       "        ...,\n",
       "        [0.0000000e+00, 1.0000000e+00, 4.7683716e-07, 9.9999952e-01,\n",
       "         1.5497208e-06, 9.9999845e-01],\n",
       "        [0.0000000e+00, 1.0000000e+00, 1.1920929e-06, 9.9999881e-01,\n",
       "         1.0728836e-06, 9.9999893e-01],\n",
       "        [0.0000000e+00, 1.0000000e+00, 2.0265579e-06, 9.9999797e-01,\n",
       "         9.5367432e-07, 9.9999905e-01]], dtype=float32),\n",
       " array([[1.00000000e+00, 0.00000000e+00, 9.99999881e-01, 1.08268885e-07,\n",
       "         9.99999821e-01, 1.86877656e-07],\n",
       "        [1.00000000e+00, 0.00000000e+00, 9.99997497e-01, 2.46044442e-06,\n",
       "         9.99997616e-01, 2.40211511e-06],\n",
       "        [1.00000000e+00, 0.00000000e+00, 9.99999404e-01, 6.25788005e-07,\n",
       "         9.99999642e-01, 4.44973296e-07],\n",
       "        ...,\n",
       "        [1.00000000e+00, 0.00000000e+00, 9.99999881e-01, 9.11115094e-08,\n",
       "         9.99999881e-01, 7.64742296e-08],\n",
       "        [1.00000000e+00, 0.00000000e+00, 9.99999046e-01, 9.23812706e-07,\n",
       "         9.99998868e-01, 1.12420366e-06],\n",
       "        [1.00000000e+00, 0.00000000e+00, 9.99999404e-01, 5.01025738e-07,\n",
       "         9.99998868e-01, 1.15627972e-06]], dtype=float32))"
      ]
     },
     "execution_count": 13,
     "metadata": {},
     "output_type": "execute_result"
    }
   ],
   "source": [
    "# X_train, X_valid, y_train, y_valid = train_test_split(X, y, test_size=test_size, stratify = y, random_state = random_seed)\n",
    "\n",
    "# X_train_oversampled, y_train_oversampled = Smoter(X_train, y_train, is_random=True)\n",
    "config = get_toy_config()\n",
    "gc = GCForest(config)\n",
    "\n",
    "gc.fit_transform(X_train_oversampled, y_train_oversampled, X_valid, y_valid)\n",
    "# y_valid_pred = gc.predict(X_valid)"
   ]
  },
  {
   "cell_type": "code",
   "execution_count": 13,
   "metadata": {
    "collapsed": true
   },
   "outputs": [],
   "source": [
    "# dump\n",
    "with open(\"../pkl/2019_gc.pkl\", \"wb\") as f:\n",
    "    pickle.dump(gc, f, pickle.HIGHEST_PROTOCOL)\n",
    "    \n",
    "# # load\n",
    "# with open(\"../pkl/2018_gc.pkl\", \"rb\") as f:\n",
    "#     gc = pickle.load(f)"
   ]
  },
  {
   "cell_type": "code",
   "execution_count": null,
   "metadata": {
    "collapsed": true
   },
   "outputs": [],
   "source": []
  }
 ],
 "metadata": {
  "kernelspec": {
   "display_name": "Python 3",
   "language": "python",
   "name": "python3"
  },
  "language_info": {
   "codemirror_mode": {
    "name": "ipython",
    "version": 3
   },
   "file_extension": ".py",
   "mimetype": "text/x-python",
   "name": "python",
   "nbconvert_exporter": "python",
   "pygments_lexer": "ipython3",
   "version": "3.6.1"
  }
 },
 "nbformat": 4,
 "nbformat_minor": 2
}
