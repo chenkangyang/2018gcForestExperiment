{
 "cells": [
  {
   "cell_type": "code",
   "execution_count": 1,
   "metadata": {},
   "outputs": [],
   "source": [
    "import pandas as pd\n",
    "import numpy as np\n",
    "from sklearn.model_selection import train_test_split\n",
    "from sklearn.linear_model import LogisticRegression\n",
    "from sklearn import preprocessing\n",
    "from sklearn.pipeline import Pipeline\n",
    "from imblearn.over_sampling import SMOTE\n",
    "import pickle\n",
    "\n",
    "import sys\n",
    "sys.path.append(\"..\") \n",
    "from gcforest.gcforest import GCForest\n",
    "from gcforest.utils.config_utils import load_json"
   ]
  },
  {
   "cell_type": "markdown",
   "metadata": {},
   "source": [
    "#### Layering: divide the data into N layers, make sure every layer has the same distribution of 0-1"
   ]
  },
  {
   "cell_type": "code",
   "execution_count": 2,
   "metadata": {},
   "outputs": [],
   "source": [
    "def Layering(df, N):\n",
    "    new_data=df.iloc[:,0:]\n",
    "\n",
    "    data_maj = new_data[new_data['EVENT']==0]\n",
    "    data_min = new_data[new_data['EVENT']==1]\n",
    "    n_maj=data_maj.iloc[:,0].size\n",
    "    n_min=data_min.iloc[:,0].size\n",
    "    M1=n_maj%N\n",
    "    M2=n_min%N\n",
    "    stepD=int(n_maj/10)\n",
    "    stepS=int(n_min/10)\n",
    "\n",
    "    maj_data = []\n",
    "    for i in range(N):\n",
    "        maj_data.append(data_maj.iloc[i*stepD:(i+1)*stepD])\n",
    "    for i in range(M1):\n",
    "        maj_data[i]=maj_data[i].append(data_maj.iloc[stepD*N+i:stepD*N+i+1])\n",
    "\n",
    "\n",
    "    min_data = []\n",
    "    for i in range(N):\n",
    "        min_data.append(data_min.iloc[i*stepS:(i+1)*stepS])\n",
    "    for i in range(M2):\n",
    "        min_data[i]=min_data[i].append(data_min.iloc[stepS*N+i:stepS*N+i+1])\n",
    "\n",
    "    Last_Data = pd.DataFrame()\n",
    "    for i in range(N):\n",
    "        Last_Data=Last_Data.append(maj_data[i].append(min_data[i]))\n",
    "    return Last_Data"
   ]
  },
  {
   "cell_type": "markdown",
   "metadata": {},
   "source": [
    "#### somte sampling"
   ]
  },
  {
   "cell_type": "code",
   "execution_count": 3,
   "metadata": {},
   "outputs": [],
   "source": [
    "def Smoter(X, y, is_random=False):\n",
    "    if is_random == True:\n",
    "        random_lst = list(np.random.randint(0, 1000, 4))\n",
    "    elif is_random == False:\n",
    "        random_lst = [0] * 4\n",
    "\n",
    "    print(\"rs:\", random_lst)\n",
    "    sm = SMOTE(random_state=random_lst[2], kind = 0.24)\n",
    "    X_smote, y_smote = sm.fit_sample(X, y)\n",
    "\n",
    "    return X_smote, y_smote"
   ]
  },
  {
   "cell_type": "markdown",
   "metadata": {},
   "source": [
    "#### evaluate function"
   ]
  },
  {
   "cell_type": "code",
   "execution_count": 4,
   "metadata": {},
   "outputs": [],
   "source": [
    "def evaluate(true, pred):\n",
    "    # compute accuracy, precision and recall\n",
    "    TP, FP, TN, FN = 0, 0, 0, 0\n",
    "\n",
    "    for i in range(0, len(pred)):\n",
    "        if pred[i] == true[i] and true[i] == 1:\n",
    "            TP += 1\n",
    "        elif pred[i] == true[i] and true[i] == 0:\n",
    "            TN += 1\n",
    "        elif pred[i] != true[i] and true[i] == 0:\n",
    "            FP += 1\n",
    "        elif pred[i] != true[i] and true[i] == 1:\n",
    "            FN += 1\n",
    "\n",
    "    precision = TP/(TP + FP)\n",
    "    recall = TP/(TP + FN)\n",
    "    accuracy = (TP+TN)/(TP+TN+FN+FP)\n",
    "    \n",
    "    print('TP=',TP,'FP=',FP,'TN=',TN,'FN=',FN)\n",
    "    F1 = 2*precision*recall / (precision + recall)\n",
    "    print(\"precision\", precision,\"\\nrecall\", recall,\"\\naccuracy\", accuracy)\n",
    "    print('F1=',F1)\n",
    "    return F1, accuracy, precision, recall"
   ]
  },
  {
   "cell_type": "markdown",
   "metadata": {},
   "source": [
    "#### Batch\n",
    "\n",
    "combine serveral datas‘ features together"
   ]
  },
  {
   "cell_type": "code",
   "execution_count": 5,
   "metadata": {},
   "outputs": [],
   "source": [
    "def Batch(X, y, size):\n",
    "    batch_size = size\n",
    "\n",
    "    X_trim = X\n",
    "    y_trim = y\n",
    "\n",
    "    if len(X) % batch_size != 0:\n",
    "        extra_num = len(X) % batch_size\n",
    "        X_trim = np.delete(X, range(len(X) - extra_num, len(X)), axis = 0)\n",
    "        y_trim = np.delete(y, range(len(y) - extra_num, len(y)), axis = 0)\n",
    "\n",
    "    X_batch = np.split(X_trim, len(X_trim)/batch_size)\n",
    "    y_batch = np.split(y_trim, len(y_trim)/batch_size)\n",
    "\n",
    "    num_batch = 0\n",
    "\n",
    "    for each_batch in X_batch:\n",
    "        X_batch[num_batch] = np.reshape(X_batch[num_batch], (9*batch_size))\n",
    "        y_batch[num_batch] = y_batch[num_batch][-1]\n",
    "        num_batch += 1\n",
    "\n",
    "    X_batch = np.array(X_batch)\n",
    "    y_batch = np.array(y_batch)\n",
    "    return X_batch, y_batch"
   ]
  },
  {
   "cell_type": "markdown",
   "metadata": {},
   "source": [
    "#### gc_config"
   ]
  },
  {
   "cell_type": "code",
   "execution_count": 6,
   "metadata": {},
   "outputs": [],
   "source": [
    "def get_toy_config():\n",
    "    config = {}\n",
    "    ca_config = {}\n",
    "    ca_config[\"random_state\"] = 42\n",
    "    ca_config[\"max_layers\"] = 10\n",
    "    ca_config[\"early_stopping_rounds\"] = 3\n",
    "    ca_config[\"n_classes\"] = 2\n",
    "    ca_config[\"estimators\"] = []\n",
    "    ca_config[\"estimators\"].append({\"n_folds\": 5, \"type\": \"RandomForestClassifier\", \"n_estimators\": 10, \"max_depth\": None, \"n_jobs\": -1})\n",
    "    ca_config[\"estimators\"].append({\"n_folds\": 5, \"type\": \"ExtraTreesClassifier\", \"n_estimators\": 10, \"max_depth\": None, \"n_jobs\": -1})\n",
    "    ca_config[\"estimators\"].append({\"n_folds\": 5, \"type\": \"LogisticRegression\"})\n",
    "    config[\"cascade\"] = ca_config\n",
    "    return config"
   ]
  },
  {
   "cell_type": "markdown",
   "metadata": {},
   "source": [
    "### HyperParameter"
   ]
  },
  {
   "cell_type": "code",
   "execution_count": 7,
   "metadata": {},
   "outputs": [],
   "source": [
    "batch_size = 3\n",
    "kf = 100\n",
    "valid_size = 0.33\n",
    "random_seed = 42"
   ]
  },
  {
   "cell_type": "markdown",
   "metadata": {},
   "source": [
    "# load 2017 Test datasets"
   ]
  },
  {
   "cell_type": "code",
   "execution_count": 8,
   "metadata": {},
   "outputs": [],
   "source": [
    "lines = open(\"../data/water/txt/2017waterDataTesting.txt\").readlines()\n",
    "num_lines = len(lines) - 1\n",
    "\n",
    "X_test = np.ones((num_lines, 9))\n",
    "y_test = np.ones((num_lines, 1))\n",
    "flag = 0\n",
    "\n",
    "lines = np.delete(lines, 0, axis = 0)\n",
    "i = 0\n",
    "\n",
    "for line in lines:\n",
    "    data_line = line.split()\n",
    "    feature = data_line[3:12]\n",
    "    for k in range(9):\n",
    "        if feature[k] == 'NA':\n",
    "            flag = 1\n",
    "            break\n",
    "    if flag == 1:\n",
    "        flag = 0\n",
    "        continue    # jump out of the loop\n",
    "    X_test[i] = feature    \n",
    "    if data_line[12] == 'FALSE':\n",
    "        y_test[i] = 0\n",
    "    elif data_line[12] == 'TRUE':\n",
    "        y_test[i] = 1\n",
    "    i += 1\n"
   ]
  },
  {
   "cell_type": "markdown",
   "metadata": {},
   "source": [
    "# load 2017 train"
   ]
  },
  {
   "cell_type": "code",
   "execution_count": 9,
   "metadata": {},
   "outputs": [],
   "source": [
    "df = pd.read_table('../data/water/txt/2018waterDataTraining.txt',delim_whitespace=True)"
   ]
  },
  {
   "cell_type": "code",
   "execution_count": 10,
   "metadata": {},
   "outputs": [],
   "source": [
    "df = df.reset_index()\n",
    "Time = np.zeros(df.shape[0]).astype(\"str\")\n",
    "for i in range(len(df)):\n",
    "    Time[i] = df['index'][i]+\" \"+ df['Time'][i]\n",
    "df['Time'] = Time\n",
    "df = df.drop(['index'], axis=1)"
   ]
  },
  {
   "cell_type": "markdown",
   "metadata": {},
   "source": [
    "## feature engineering on train data"
   ]
  },
  {
   "cell_type": "code",
   "execution_count": 11,
   "metadata": {},
   "outputs": [],
   "source": [
    "drop_columns = ['Time']\n",
    "continuous_features = ['Tp', 'Cl', 'pH', 'Redox', 'Leit', 'Trueb', 'Cl_2', 'Fm', 'Fm_2']\n",
    "cat_features =[]"
   ]
  },
  {
   "cell_type": "code",
   "execution_count": 12,
   "metadata": {},
   "outputs": [],
   "source": [
    "all_df_dummies = pd.get_dummies(df, columns=cat_features)"
   ]
  },
  {
   "cell_type": "code",
   "execution_count": 13,
   "metadata": {},
   "outputs": [],
   "source": [
    "all_df_dummies.drop(drop_columns, 1, inplace=True)\n",
    "# delte NA datas\n",
    "all_df_dummies = all_df_dummies.dropna(axis=0)"
   ]
  },
  {
   "cell_type": "code",
   "execution_count": 14,
   "metadata": {},
   "outputs": [],
   "source": [
    "X = all_df_dummies.drop(['EVENT'], axis=1) # Series\n",
    "y = all_df_dummies['EVENT'].apply(lambda x: 0 if x == False else 1) # Series"
   ]
  },
  {
   "cell_type": "code",
   "execution_count": 15,
   "metadata": {},
   "outputs": [],
   "source": [
    "data_all = pd.concat([X,y], axis=1)"
   ]
  },
  {
   "cell_type": "code",
   "execution_count": 16,
   "metadata": {},
   "outputs": [
    {
     "data": {
      "text/html": [
       "<div>\n",
       "<style scoped>\n",
       "    .dataframe tbody tr th:only-of-type {\n",
       "        vertical-align: middle;\n",
       "    }\n",
       "\n",
       "    .dataframe tbody tr th {\n",
       "        vertical-align: top;\n",
       "    }\n",
       "\n",
       "    .dataframe thead th {\n",
       "        text-align: right;\n",
       "    }\n",
       "</style>\n",
       "<table border=\"1\" class=\"dataframe\">\n",
       "  <thead>\n",
       "    <tr style=\"text-align: right;\">\n",
       "      <th></th>\n",
       "      <th>Tp</th>\n",
       "      <th>Cl</th>\n",
       "      <th>pH</th>\n",
       "      <th>Redox</th>\n",
       "      <th>Leit</th>\n",
       "      <th>Trueb</th>\n",
       "      <th>Cl_2</th>\n",
       "      <th>Fm</th>\n",
       "      <th>Fm_2</th>\n",
       "      <th>EVENT</th>\n",
       "    </tr>\n",
       "  </thead>\n",
       "  <tbody>\n",
       "    <tr>\n",
       "      <th>0</th>\n",
       "      <td>6.5</td>\n",
       "      <td>0.17</td>\n",
       "      <td>8.36</td>\n",
       "      <td>749.0</td>\n",
       "      <td>211.0</td>\n",
       "      <td>0.011</td>\n",
       "      <td>0.118</td>\n",
       "      <td>1677.0</td>\n",
       "      <td>695.0</td>\n",
       "      <td>0</td>\n",
       "    </tr>\n",
       "    <tr>\n",
       "      <th>1</th>\n",
       "      <td>6.5</td>\n",
       "      <td>0.17</td>\n",
       "      <td>8.36</td>\n",
       "      <td>749.0</td>\n",
       "      <td>211.0</td>\n",
       "      <td>0.011</td>\n",
       "      <td>0.118</td>\n",
       "      <td>1561.0</td>\n",
       "      <td>696.0</td>\n",
       "      <td>0</td>\n",
       "    </tr>\n",
       "    <tr>\n",
       "      <th>2</th>\n",
       "      <td>6.5</td>\n",
       "      <td>0.17</td>\n",
       "      <td>8.35</td>\n",
       "      <td>749.0</td>\n",
       "      <td>211.0</td>\n",
       "      <td>0.011</td>\n",
       "      <td>0.117</td>\n",
       "      <td>1581.0</td>\n",
       "      <td>696.0</td>\n",
       "      <td>0</td>\n",
       "    </tr>\n",
       "    <tr>\n",
       "      <th>3</th>\n",
       "      <td>6.5</td>\n",
       "      <td>0.17</td>\n",
       "      <td>8.35</td>\n",
       "      <td>749.0</td>\n",
       "      <td>211.0</td>\n",
       "      <td>0.011</td>\n",
       "      <td>0.118</td>\n",
       "      <td>1579.0</td>\n",
       "      <td>693.0</td>\n",
       "      <td>0</td>\n",
       "    </tr>\n",
       "    <tr>\n",
       "      <th>4</th>\n",
       "      <td>6.5</td>\n",
       "      <td>0.17</td>\n",
       "      <td>8.35</td>\n",
       "      <td>749.0</td>\n",
       "      <td>211.0</td>\n",
       "      <td>0.011</td>\n",
       "      <td>0.118</td>\n",
       "      <td>1567.0</td>\n",
       "      <td>689.0</td>\n",
       "      <td>0</td>\n",
       "    </tr>\n",
       "  </tbody>\n",
       "</table>\n",
       "</div>"
      ],
      "text/plain": [
       "    Tp    Cl    pH  Redox   Leit  Trueb   Cl_2      Fm   Fm_2  EVENT\n",
       "0  6.5  0.17  8.36  749.0  211.0  0.011  0.118  1677.0  695.0      0\n",
       "1  6.5  0.17  8.36  749.0  211.0  0.011  0.118  1561.0  696.0      0\n",
       "2  6.5  0.17  8.35  749.0  211.0  0.011  0.117  1581.0  696.0      0\n",
       "3  6.5  0.17  8.35  749.0  211.0  0.011  0.118  1579.0  693.0      0\n",
       "4  6.5  0.17  8.35  749.0  211.0  0.011  0.118  1567.0  689.0      0"
      ]
     },
     "execution_count": 16,
     "metadata": {},
     "output_type": "execute_result"
    }
   ],
   "source": [
    "data_all.head()"
   ]
  },
  {
   "cell_type": "markdown",
   "metadata": {},
   "source": [
    "### layer sampling on train"
   ]
  },
  {
   "cell_type": "code",
   "execution_count": 17,
   "metadata": {},
   "outputs": [
    {
     "name": "stdout",
     "output_type": "stream",
     "text": [
      "============ layer sampling ============\n"
     ]
    }
   ],
   "source": [
    "print(\"============ layer sampling ============\")\n",
    "data_layer = Layering(data_all, kf)\n",
    "array = data_layer.values\n",
    "X = array[:, 0:-1] # ndarray\n",
    "y = array[:, -1] # ndarray"
   ]
  },
  {
   "cell_type": "markdown",
   "metadata": {},
   "source": [
    "### train_valid_split"
   ]
  },
  {
   "cell_type": "code",
   "execution_count": 18,
   "metadata": {},
   "outputs": [
    {
     "name": "stdout",
     "output_type": "stream",
     "text": [
      "============ train_valid_split ============\n",
      "train: 92809, valid: 45712\n"
     ]
    }
   ],
   "source": [
    "print(\"============ train_valid_split ============\")\n",
    "\n",
    "X_train, X_valid, y_train, y_valid = train_test_split(X, y, test_size=valid_size, \n",
    "                                       stratify = y, random_state = random_seed)\n",
    "print(\"train: %d, valid: %d\" %(X_train.shape[0], X_valid.shape[0]))"
   ]
  },
  {
   "cell_type": "markdown",
   "metadata": {},
   "source": [
    "### normalize  train data\n",
    "\n",
    "fulfill the Na with median, then standardized the data, output type ndarray"
   ]
  },
  {
   "cell_type": "code",
   "execution_count": 19,
   "metadata": {},
   "outputs": [],
   "source": [
    "clean_pipeline = Pipeline([('imputer', preprocessing.Imputer(missing_values='NaN',strategy=\"median\")),\n",
    "                           ('std_scaler', preprocessing.StandardScaler()),])\n",
    "X_train = clean_pipeline.fit_transform(X_train)\n",
    "X_valid = clean_pipeline.fit_transform(X_valid)\n",
    "X_test = clean_pipeline.fit_transform(X_test)"
   ]
  },
  {
   "cell_type": "markdown",
   "metadata": {},
   "source": [
    "#### Do somte sampling on the train data to solve data imblance problem"
   ]
  },
  {
   "cell_type": "code",
   "execution_count": 20,
   "metadata": {},
   "outputs": [],
   "source": [
    "X_train_oversampled, y_train_oversampled = X_train, y_train\n",
    "# X_train_oversampled, y_train_oversampled = Smoter(X_train, y_train, is_random=True)\n",
    "# print(\"============ SMOTE =Smoter===========\")\n",
    "# print(\"train: %d, contains %.4f of 0 , after SMOTE: train: %d contains %.4f of 1\" %(X_train.shape[0], (y_train == 0).sum()/y_train.shape[0], X_train_oversampled.shape[0], (y_train_oversampled == 0).sum()/y_train_oversampled.shape[0]))"
   ]
  },
  {
   "cell_type": "code",
   "execution_count": 21,
   "metadata": {},
   "outputs": [],
   "source": [
    "X_train_oversampled_batch, y_train_oversampled_batch = Batch(X_train_oversampled, y_train_oversampled, batch_size)\n",
    "X_train_batch, y_train_batch = Batch(X_train, y_train, batch_size)\n",
    "X_valid_batch, y_valid_batch = Batch(X_valid, y_valid, batch_size)\n",
    "X_test_batch, y_test_batch = Batch(X_test, y_test, batch_size)"
   ]
  },
  {
   "cell_type": "markdown",
   "metadata": {},
   "source": [
    "# GcForest\n",
    "\n",
    "## train gc"
   ]
  },
  {
   "cell_type": "markdown",
   "metadata": {},
   "source": [
    "#### 1.train GcForest on oversampled datasets"
   ]
  },
  {
   "cell_type": "code",
   "execution_count": 22,
   "metadata": {},
   "outputs": [
    {
     "name": "stderr",
     "output_type": "stream",
     "text": [
      "[ 2018-10-21 19:58:33,609][cascade_classifier.fit_transform] X_groups_train.shape=[(92809, 9)],y_train.shape=(92809,),X_groups_test.shape=no_test,y_test.shape=no_test\n",
      "[ 2018-10-21 19:58:33,616][cascade_classifier.fit_transform] group_dims=[9]\n",
      "[ 2018-10-21 19:58:33,617][cascade_classifier.fit_transform] group_starts=[0]\n",
      "[ 2018-10-21 19:58:33,618][cascade_classifier.fit_transform] group_ends=[9]\n",
      "[ 2018-10-21 19:58:33,619][cascade_classifier.fit_transform] X_train.shape=(92809, 9),X_test.shape=(0, 9)\n",
      "[ 2018-10-21 19:58:33,629][cascade_classifier.fit_transform] [layer=0] look_indexs=[0], X_cur_train.shape=(92809, 9), X_cur_test.shape=(0, 9)\n",
      "[ 2018-10-21 19:58:34,398][kfold_wrapper.log_eval_metrics] Accuracy(layer_0 - estimator_0 - 5_folds.train_0.predict)=99.95%\n",
      "[ 2018-10-21 19:58:35,043][kfold_wrapper.log_eval_metrics] Accuracy(layer_0 - estimator_0 - 5_folds.train_1.predict)=99.92%\n",
      "[ 2018-10-21 19:58:35,794][kfold_wrapper.log_eval_metrics] Accuracy(layer_0 - estimator_0 - 5_folds.train_2.predict)=99.93%\n",
      "[ 2018-10-21 19:58:36,449][kfold_wrapper.log_eval_metrics] Accuracy(layer_0 - estimator_0 - 5_folds.train_3.predict)=99.91%\n",
      "[ 2018-10-21 19:58:37,096][kfold_wrapper.log_eval_metrics] Accuracy(layer_0 - estimator_0 - 5_folds.train_4.predict)=99.90%\n",
      "[ 2018-10-21 19:58:37,103][kfold_wrapper.log_eval_metrics] Accuracy(layer_0 - estimator_0 - 5_folds.train_cv.predict)=99.92%\n",
      "[ 2018-10-21 19:58:37,580][kfold_wrapper.log_eval_metrics] Accuracy(layer_0 - estimator_1 - 5_folds.train_0.predict)=99.95%\n",
      "[ 2018-10-21 19:58:38,119][kfold_wrapper.log_eval_metrics] Accuracy(layer_0 - estimator_1 - 5_folds.train_1.predict)=99.93%\n",
      "[ 2018-10-21 19:58:38,760][kfold_wrapper.log_eval_metrics] Accuracy(layer_0 - estimator_1 - 5_folds.train_2.predict)=99.96%\n",
      "[ 2018-10-21 19:58:39,295][kfold_wrapper.log_eval_metrics] Accuracy(layer_0 - estimator_1 - 5_folds.train_3.predict)=99.96%\n",
      "[ 2018-10-21 19:58:39,731][kfold_wrapper.log_eval_metrics] Accuracy(layer_0 - estimator_1 - 5_folds.train_4.predict)=99.94%\n",
      "[ 2018-10-21 19:58:39,735][kfold_wrapper.log_eval_metrics] Accuracy(layer_0 - estimator_1 - 5_folds.train_cv.predict)=99.95%\n",
      "[ 2018-10-21 19:58:39,923][kfold_wrapper.log_eval_metrics] Accuracy(layer_0 - estimator_2 - 5_folds.train_0.predict)=99.27%\n",
      "[ 2018-10-21 19:58:40,137][kfold_wrapper.log_eval_metrics] Accuracy(layer_0 - estimator_2 - 5_folds.train_1.predict)=99.26%\n",
      "[ 2018-10-21 19:58:40,358][kfold_wrapper.log_eval_metrics] Accuracy(layer_0 - estimator_2 - 5_folds.train_2.predict)=99.22%\n",
      "[ 2018-10-21 19:58:40,590][kfold_wrapper.log_eval_metrics] Accuracy(layer_0 - estimator_2 - 5_folds.train_3.predict)=99.25%\n",
      "[ 2018-10-21 19:58:40,814][kfold_wrapper.log_eval_metrics] Accuracy(layer_0 - estimator_2 - 5_folds.train_4.predict)=99.28%\n",
      "[ 2018-10-21 19:58:40,817][kfold_wrapper.log_eval_metrics] Accuracy(layer_0 - estimator_2 - 5_folds.train_cv.predict)=99.25%\n",
      "[ 2018-10-21 19:58:40,823][cascade_classifier.calc_accuracy] Accuracy(layer_0 - train.classifier_average)=99.92%\n",
      "[ 2018-10-21 19:58:40,841][cascade_classifier.fit_transform] [layer=1] look_indexs=[0], X_cur_train.shape=(92809, 15), X_cur_test.shape=(0, 15)\n",
      "[ 2018-10-21 19:58:41,318][kfold_wrapper.log_eval_metrics] Accuracy(layer_1 - estimator_0 - 5_folds.train_0.predict)=99.95%\n",
      "[ 2018-10-21 19:58:41,767][kfold_wrapper.log_eval_metrics] Accuracy(layer_1 - estimator_0 - 5_folds.train_1.predict)=99.94%\n",
      "[ 2018-10-21 19:58:42,212][kfold_wrapper.log_eval_metrics] Accuracy(layer_1 - estimator_0 - 5_folds.train_2.predict)=99.95%\n",
      "[ 2018-10-21 19:58:42,658][kfold_wrapper.log_eval_metrics] Accuracy(layer_1 - estimator_0 - 5_folds.train_3.predict)=99.97%\n",
      "[ 2018-10-21 19:58:43,106][kfold_wrapper.log_eval_metrics] Accuracy(layer_1 - estimator_0 - 5_folds.train_4.predict)=99.97%\n",
      "[ 2018-10-21 19:58:43,110][kfold_wrapper.log_eval_metrics] Accuracy(layer_1 - estimator_0 - 5_folds.train_cv.predict)=99.96%\n",
      "[ 2018-10-21 19:58:43,488][kfold_wrapper.log_eval_metrics] Accuracy(layer_1 - estimator_1 - 5_folds.train_0.predict)=99.94%\n",
      "[ 2018-10-21 19:58:43,824][kfold_wrapper.log_eval_metrics] Accuracy(layer_1 - estimator_1 - 5_folds.train_1.predict)=99.95%\n",
      "[ 2018-10-21 19:58:44,162][kfold_wrapper.log_eval_metrics] Accuracy(layer_1 - estimator_1 - 5_folds.train_2.predict)=99.96%\n",
      "[ 2018-10-21 19:58:44,507][kfold_wrapper.log_eval_metrics] Accuracy(layer_1 - estimator_1 - 5_folds.train_3.predict)=99.96%\n",
      "[ 2018-10-21 19:58:44,845][kfold_wrapper.log_eval_metrics] Accuracy(layer_1 - estimator_1 - 5_folds.train_4.predict)=99.96%\n",
      "[ 2018-10-21 19:58:44,849][kfold_wrapper.log_eval_metrics] Accuracy(layer_1 - estimator_1 - 5_folds.train_cv.predict)=99.95%\n",
      "[ 2018-10-21 19:58:45,247][kfold_wrapper.log_eval_metrics] Accuracy(layer_1 - estimator_2 - 5_folds.train_0.predict)=99.95%\n",
      "[ 2018-10-21 19:58:45,676][kfold_wrapper.log_eval_metrics] Accuracy(layer_1 - estimator_2 - 5_folds.train_1.predict)=99.94%\n",
      "[ 2018-10-21 19:58:46,156][kfold_wrapper.log_eval_metrics] Accuracy(layer_1 - estimator_2 - 5_folds.train_2.predict)=99.96%\n",
      "[ 2018-10-21 19:58:46,546][kfold_wrapper.log_eval_metrics] Accuracy(layer_1 - estimator_2 - 5_folds.train_3.predict)=99.95%\n",
      "[ 2018-10-21 19:58:46,937][kfold_wrapper.log_eval_metrics] Accuracy(layer_1 - estimator_2 - 5_folds.train_4.predict)=99.92%\n",
      "[ 2018-10-21 19:58:46,940][kfold_wrapper.log_eval_metrics] Accuracy(layer_1 - estimator_2 - 5_folds.train_cv.predict)=99.94%\n",
      "[ 2018-10-21 19:58:46,944][cascade_classifier.calc_accuracy] Accuracy(layer_1 - train.classifier_average)=99.96%\n",
      "[ 2018-10-21 19:58:46,950][cascade_classifier.fit_transform] [layer=2] look_indexs=[0], X_cur_train.shape=(92809, 15), X_cur_test.shape=(0, 15)\n",
      "[ 2018-10-21 19:58:47,424][kfold_wrapper.log_eval_metrics] Accuracy(layer_2 - estimator_0 - 5_folds.train_0.predict)=99.96%\n",
      "[ 2018-10-21 19:58:47,866][kfold_wrapper.log_eval_metrics] Accuracy(layer_2 - estimator_0 - 5_folds.train_1.predict)=99.95%\n",
      "[ 2018-10-21 19:58:48,202][kfold_wrapper.log_eval_metrics] Accuracy(layer_2 - estimator_0 - 5_folds.train_2.predict)=99.93%\n",
      "[ 2018-10-21 19:58:48,549][kfold_wrapper.log_eval_metrics] Accuracy(layer_2 - estimator_0 - 5_folds.train_3.predict)=99.95%\n",
      "[ 2018-10-21 19:58:48,995][kfold_wrapper.log_eval_metrics] Accuracy(layer_2 - estimator_0 - 5_folds.train_4.predict)=99.97%\n",
      "[ 2018-10-21 19:58:48,998][kfold_wrapper.log_eval_metrics] Accuracy(layer_2 - estimator_0 - 5_folds.train_cv.predict)=99.95%\n",
      "[ 2018-10-21 19:58:49,377][kfold_wrapper.log_eval_metrics] Accuracy(layer_2 - estimator_1 - 5_folds.train_0.predict)=99.96%\n",
      "[ 2018-10-21 19:58:49,716][kfold_wrapper.log_eval_metrics] Accuracy(layer_2 - estimator_1 - 5_folds.train_1.predict)=99.96%\n",
      "[ 2018-10-21 19:58:50,056][kfold_wrapper.log_eval_metrics] Accuracy(layer_2 - estimator_1 - 5_folds.train_2.predict)=99.97%\n",
      "[ 2018-10-21 19:58:50,395][kfold_wrapper.log_eval_metrics] Accuracy(layer_2 - estimator_1 - 5_folds.train_3.predict)=99.96%\n",
      "[ 2018-10-21 19:58:50,739][kfold_wrapper.log_eval_metrics] Accuracy(layer_2 - estimator_1 - 5_folds.train_4.predict)=99.92%\n",
      "[ 2018-10-21 19:58:50,743][kfold_wrapper.log_eval_metrics] Accuracy(layer_2 - estimator_1 - 5_folds.train_cv.predict)=99.95%\n",
      "[ 2018-10-21 19:58:51,105][kfold_wrapper.log_eval_metrics] Accuracy(layer_2 - estimator_2 - 5_folds.train_0.predict)=99.95%\n",
      "[ 2018-10-21 19:58:51,462][kfold_wrapper.log_eval_metrics] Accuracy(layer_2 - estimator_2 - 5_folds.train_1.predict)=99.95%\n",
      "[ 2018-10-21 19:58:51,742][kfold_wrapper.log_eval_metrics] Accuracy(layer_2 - estimator_2 - 5_folds.train_2.predict)=99.95%\n",
      "[ 2018-10-21 19:58:52,073][kfold_wrapper.log_eval_metrics] Accuracy(layer_2 - estimator_2 - 5_folds.train_3.predict)=99.96%\n",
      "[ 2018-10-21 19:58:52,375][kfold_wrapper.log_eval_metrics] Accuracy(layer_2 - estimator_2 - 5_folds.train_4.predict)=99.96%\n",
      "[ 2018-10-21 19:58:52,377][kfold_wrapper.log_eval_metrics] Accuracy(layer_2 - estimator_2 - 5_folds.train_cv.predict)=99.95%\n",
      "[ 2018-10-21 19:58:52,381][cascade_classifier.calc_accuracy] Accuracy(layer_2 - train.classifier_average)=99.96%\n",
      "[ 2018-10-21 19:58:52,387][cascade_classifier.fit_transform] [layer=3] look_indexs=[0], X_cur_train.shape=(92809, 15), X_cur_test.shape=(0, 15)\n",
      "[ 2018-10-21 19:58:52,863][kfold_wrapper.log_eval_metrics] Accuracy(layer_3 - estimator_0 - 5_folds.train_0.predict)=99.96%\n"
     ]
    },
    {
     "name": "stderr",
     "output_type": "stream",
     "text": [
      "[ 2018-10-21 19:58:53,305][kfold_wrapper.log_eval_metrics] Accuracy(layer_3 - estimator_0 - 5_folds.train_1.predict)=99.96%\n",
      "[ 2018-10-21 19:58:53,758][kfold_wrapper.log_eval_metrics] Accuracy(layer_3 - estimator_0 - 5_folds.train_2.predict)=99.96%\n",
      "[ 2018-10-21 19:58:54,208][kfold_wrapper.log_eval_metrics] Accuracy(layer_3 - estimator_0 - 5_folds.train_3.predict)=99.95%\n",
      "[ 2018-10-21 19:58:54,651][kfold_wrapper.log_eval_metrics] Accuracy(layer_3 - estimator_0 - 5_folds.train_4.predict)=99.94%\n",
      "[ 2018-10-21 19:58:54,655][kfold_wrapper.log_eval_metrics] Accuracy(layer_3 - estimator_0 - 5_folds.train_cv.predict)=99.95%\n",
      "[ 2018-10-21 19:58:55,018][kfold_wrapper.log_eval_metrics] Accuracy(layer_3 - estimator_1 - 5_folds.train_0.predict)=99.95%\n",
      "[ 2018-10-21 19:58:55,360][kfold_wrapper.log_eval_metrics] Accuracy(layer_3 - estimator_1 - 5_folds.train_1.predict)=99.96%\n",
      "[ 2018-10-21 19:58:55,701][kfold_wrapper.log_eval_metrics] Accuracy(layer_3 - estimator_1 - 5_folds.train_2.predict)=99.97%\n",
      "[ 2018-10-21 19:58:56,034][kfold_wrapper.log_eval_metrics] Accuracy(layer_3 - estimator_1 - 5_folds.train_3.predict)=99.96%\n",
      "[ 2018-10-21 19:58:56,380][kfold_wrapper.log_eval_metrics] Accuracy(layer_3 - estimator_1 - 5_folds.train_4.predict)=99.95%\n",
      "[ 2018-10-21 19:58:56,383][kfold_wrapper.log_eval_metrics] Accuracy(layer_3 - estimator_1 - 5_folds.train_cv.predict)=99.95%\n",
      "[ 2018-10-21 19:58:56,697][kfold_wrapper.log_eval_metrics] Accuracy(layer_3 - estimator_2 - 5_folds.train_0.predict)=99.96%\n",
      "[ 2018-10-21 19:58:56,976][kfold_wrapper.log_eval_metrics] Accuracy(layer_3 - estimator_2 - 5_folds.train_1.predict)=99.94%\n",
      "[ 2018-10-21 19:58:57,252][kfold_wrapper.log_eval_metrics] Accuracy(layer_3 - estimator_2 - 5_folds.train_2.predict)=99.95%\n",
      "[ 2018-10-21 19:58:57,542][kfold_wrapper.log_eval_metrics] Accuracy(layer_3 - estimator_2 - 5_folds.train_3.predict)=99.95%\n",
      "[ 2018-10-21 19:58:57,818][kfold_wrapper.log_eval_metrics] Accuracy(layer_3 - estimator_2 - 5_folds.train_4.predict)=99.97%\n",
      "[ 2018-10-21 19:58:57,820][kfold_wrapper.log_eval_metrics] Accuracy(layer_3 - estimator_2 - 5_folds.train_cv.predict)=99.95%\n",
      "[ 2018-10-21 19:58:57,824][cascade_classifier.calc_accuracy] Accuracy(layer_3 - train.classifier_average)=99.95%\n",
      "[ 2018-10-21 19:58:57,829][cascade_classifier.fit_transform] [layer=4] look_indexs=[0], X_cur_train.shape=(92809, 15), X_cur_test.shape=(0, 15)\n",
      "[ 2018-10-21 19:58:58,294][kfold_wrapper.log_eval_metrics] Accuracy(layer_4 - estimator_0 - 5_folds.train_0.predict)=99.97%\n",
      "[ 2018-10-21 19:58:58,741][kfold_wrapper.log_eval_metrics] Accuracy(layer_4 - estimator_0 - 5_folds.train_1.predict)=99.97%\n",
      "[ 2018-10-21 19:58:59,175][kfold_wrapper.log_eval_metrics] Accuracy(layer_4 - estimator_0 - 5_folds.train_2.predict)=99.94%\n",
      "[ 2018-10-21 19:58:59,614][kfold_wrapper.log_eval_metrics] Accuracy(layer_4 - estimator_0 - 5_folds.train_3.predict)=99.98%\n",
      "[ 2018-10-21 19:59:00,051][kfold_wrapper.log_eval_metrics] Accuracy(layer_4 - estimator_0 - 5_folds.train_4.predict)=99.92%\n",
      "[ 2018-10-21 19:59:00,055][kfold_wrapper.log_eval_metrics] Accuracy(layer_4 - estimator_0 - 5_folds.train_cv.predict)=99.96%\n",
      "[ 2018-10-21 19:59:00,428][kfold_wrapper.log_eval_metrics] Accuracy(layer_4 - estimator_1 - 5_folds.train_0.predict)=99.96%\n",
      "[ 2018-10-21 19:59:00,773][kfold_wrapper.log_eval_metrics] Accuracy(layer_4 - estimator_1 - 5_folds.train_1.predict)=99.96%\n",
      "[ 2018-10-21 19:59:01,117][kfold_wrapper.log_eval_metrics] Accuracy(layer_4 - estimator_1 - 5_folds.train_2.predict)=99.95%\n",
      "[ 2018-10-21 19:59:01,459][kfold_wrapper.log_eval_metrics] Accuracy(layer_4 - estimator_1 - 5_folds.train_3.predict)=99.91%\n",
      "[ 2018-10-21 19:59:01,800][kfold_wrapper.log_eval_metrics] Accuracy(layer_4 - estimator_1 - 5_folds.train_4.predict)=99.96%\n",
      "[ 2018-10-21 19:59:01,803][kfold_wrapper.log_eval_metrics] Accuracy(layer_4 - estimator_1 - 5_folds.train_cv.predict)=99.95%\n",
      "[ 2018-10-21 19:59:02,116][kfold_wrapper.log_eval_metrics] Accuracy(layer_4 - estimator_2 - 5_folds.train_0.predict)=99.94%\n",
      "[ 2018-10-21 19:59:02,424][kfold_wrapper.log_eval_metrics] Accuracy(layer_4 - estimator_2 - 5_folds.train_1.predict)=99.98%\n",
      "[ 2018-10-21 19:59:02,731][kfold_wrapper.log_eval_metrics] Accuracy(layer_4 - estimator_2 - 5_folds.train_2.predict)=99.96%\n",
      "[ 2018-10-21 19:59:03,023][kfold_wrapper.log_eval_metrics] Accuracy(layer_4 - estimator_2 - 5_folds.train_3.predict)=99.94%\n",
      "[ 2018-10-21 19:59:03,256][kfold_wrapper.log_eval_metrics] Accuracy(layer_4 - estimator_2 - 5_folds.train_4.predict)=99.96%\n",
      "[ 2018-10-21 19:59:03,258][kfold_wrapper.log_eval_metrics] Accuracy(layer_4 - estimator_2 - 5_folds.train_cv.predict)=99.95%\n",
      "[ 2018-10-21 19:59:03,262][cascade_classifier.calc_accuracy] Accuracy(layer_4 - train.classifier_average)=99.95%\n",
      "[ 2018-10-21 19:59:03,267][cascade_classifier.fit_transform] [layer=5] look_indexs=[0], X_cur_train.shape=(92809, 15), X_cur_test.shape=(0, 15)\n",
      "[ 2018-10-21 19:59:03,738][kfold_wrapper.log_eval_metrics] Accuracy(layer_5 - estimator_0 - 5_folds.train_0.predict)=99.96%\n",
      "[ 2018-10-21 19:59:04,176][kfold_wrapper.log_eval_metrics] Accuracy(layer_5 - estimator_0 - 5_folds.train_1.predict)=99.92%\n",
      "[ 2018-10-21 19:59:04,620][kfold_wrapper.log_eval_metrics] Accuracy(layer_5 - estimator_0 - 5_folds.train_2.predict)=99.94%\n",
      "[ 2018-10-21 19:59:05,050][kfold_wrapper.log_eval_metrics] Accuracy(layer_5 - estimator_0 - 5_folds.train_3.predict)=99.95%\n",
      "[ 2018-10-21 19:59:05,492][kfold_wrapper.log_eval_metrics] Accuracy(layer_5 - estimator_0 - 5_folds.train_4.predict)=99.98%\n",
      "[ 2018-10-21 19:59:05,496][kfold_wrapper.log_eval_metrics] Accuracy(layer_5 - estimator_0 - 5_folds.train_cv.predict)=99.95%\n",
      "[ 2018-10-21 19:59:05,871][kfold_wrapper.log_eval_metrics] Accuracy(layer_5 - estimator_1 - 5_folds.train_0.predict)=99.97%\n",
      "[ 2018-10-21 19:59:06,214][kfold_wrapper.log_eval_metrics] Accuracy(layer_5 - estimator_1 - 5_folds.train_1.predict)=99.95%\n",
      "[ 2018-10-21 19:59:06,559][kfold_wrapper.log_eval_metrics] Accuracy(layer_5 - estimator_1 - 5_folds.train_2.predict)=99.94%\n",
      "[ 2018-10-21 19:59:06,903][kfold_wrapper.log_eval_metrics] Accuracy(layer_5 - estimator_1 - 5_folds.train_3.predict)=99.98%\n",
      "[ 2018-10-21 19:59:07,242][kfold_wrapper.log_eval_metrics] Accuracy(layer_5 - estimator_1 - 5_folds.train_4.predict)=99.94%\n",
      "[ 2018-10-21 19:59:07,245][kfold_wrapper.log_eval_metrics] Accuracy(layer_5 - estimator_1 - 5_folds.train_cv.predict)=99.95%\n",
      "[ 2018-10-21 19:59:07,552][kfold_wrapper.log_eval_metrics] Accuracy(layer_5 - estimator_2 - 5_folds.train_0.predict)=99.97%\n",
      "[ 2018-10-21 19:59:07,890][kfold_wrapper.log_eval_metrics] Accuracy(layer_5 - estimator_2 - 5_folds.train_1.predict)=99.93%\n",
      "[ 2018-10-21 19:59:08,195][kfold_wrapper.log_eval_metrics] Accuracy(layer_5 - estimator_2 - 5_folds.train_2.predict)=99.93%\n",
      "[ 2018-10-21 19:59:08,482][kfold_wrapper.log_eval_metrics] Accuracy(layer_5 - estimator_2 - 5_folds.train_3.predict)=99.96%\n",
      "[ 2018-10-21 19:59:08,805][kfold_wrapper.log_eval_metrics] Accuracy(layer_5 - estimator_2 - 5_folds.train_4.predict)=99.98%\n",
      "[ 2018-10-21 19:59:08,807][kfold_wrapper.log_eval_metrics] Accuracy(layer_5 - estimator_2 - 5_folds.train_cv.predict)=99.95%\n",
      "[ 2018-10-21 19:59:08,811][cascade_classifier.calc_accuracy] Accuracy(layer_5 - train.classifier_average)=99.95%\n",
      "[ 2018-10-21 19:59:08,812][cascade_classifier.fit_transform] [Result][Optimal Level Detected] opt_layer_num=3, accuracy_train=99.96%, accuracy_test=0.00%\n"
     ]
    }
   ],
   "source": [
    "config = get_toy_config()\n",
    "gc = GCForest(config)\n",
    "\n",
    "X_train_enc = gc.fit_transform(X_train_oversampled, y_train_oversampled)\n",
    "\n",
    "\n",
    "# dump\n",
    "with open(\"../pkl/2017_test.pkl\", \"wb\") as f:\n",
    "    pickle.dump(gc, f, pickle.HIGHEST_PROTOCOL)\n",
    "# load\n",
    "with open(\"../pkl/2017_test.pkl\", \"rb\") as f:\n",
    "    gc = pickle.load(f)"
   ]
  },
  {
   "cell_type": "markdown",
   "metadata": {},
   "source": [
    "#### test GcForest on valid datasets"
   ]
  },
  {
   "cell_type": "code",
   "execution_count": 23,
   "metadata": {},
   "outputs": [
    {
     "name": "stderr",
     "output_type": "stream",
     "text": [
      "[ 2018-10-21 19:59:08,882][cascade_classifier.transform] X_groups_test.shape=[(45712, 9)]\n",
      "[ 2018-10-21 19:59:08,886][cascade_classifier.transform] group_dims=[9]\n",
      "[ 2018-10-21 19:59:08,887][cascade_classifier.transform] X_test.shape=(45712, 9)\n",
      "[ 2018-10-21 19:59:08,890][cascade_classifier.transform] [layer=0] look_indexs=[0], X_cur_test.shape=(45712, 9)\n",
      "[ 2018-10-21 19:59:09,962][cascade_classifier.transform] [layer=1] look_indexs=[0], X_cur_test.shape=(45712, 15)\n",
      "[ 2018-10-21 19:59:11,047][cascade_classifier.transform] [layer=2] look_indexs=[0], X_cur_test.shape=(45712, 15)\n"
     ]
    },
    {
     "name": "stdout",
     "output_type": "stream",
     "text": [
      "y_valid, 1 contains:  0.012469373468673434\n",
      "y_valid_pred, 1 contains:  0.012206860343017151\n",
      "============= 2017 datasets' results on valid =============\n",
      "TP= 554 FP= 4 TN= 45138 FN= 16\n",
      "precision 0.992831541218638 \n",
      "recall 0.9719298245614035 \n",
      "accuracy 0.9995624781239062\n",
      "F1= 0.9822695035460993\n"
     ]
    }
   ],
   "source": [
    "y_valid_pred = gc.predict(X_valid)\n",
    "y_valid_nonezero = np.count_nonzero(y_valid)\n",
    "y_valid_pred_nonezero = np.count_nonzero(y_valid_pred)\n",
    "\n",
    "print(\"y_valid, 1 contains: \", y_valid_nonezero/len(y_valid))\n",
    "print(\"y_valid_pred, 1 contains: \", y_valid_pred_nonezero/len(y_valid_pred))\n",
    "\n",
    "print(\"============= 2017 datasets' results on valid =============\")\n",
    "gc_f1, gc_accraucy, gc_precision, gc_recall = evaluate(y_valid, y_valid_pred)"
   ]
  },
  {
   "cell_type": "markdown",
   "metadata": {},
   "source": [
    "#### test gcForest on 2017 Test datasets"
   ]
  },
  {
   "cell_type": "code",
   "execution_count": 25,
   "metadata": {},
   "outputs": [
    {
     "name": "stderr",
     "output_type": "stream",
     "text": [
      "[ 2018-10-21 20:00:40,831][cascade_classifier.transform] X_groups_test.shape=[(244668, 9)]\n",
      "[ 2018-10-21 20:00:40,845][cascade_classifier.transform] group_dims=[9]\n",
      "[ 2018-10-21 20:00:40,852][cascade_classifier.transform] X_test.shape=(244668, 9)\n",
      "[ 2018-10-21 20:00:40,860][cascade_classifier.transform] [layer=0] look_indexs=[0], X_cur_test.shape=(244668, 9)\n",
      "[ 2018-10-21 20:00:42,136][cascade_classifier.transform] [layer=1] look_indexs=[0], X_cur_test.shape=(244668, 15)\n",
      "[ 2018-10-21 20:00:43,322][cascade_classifier.transform] [layer=2] look_indexs=[0], X_cur_test.shape=(244668, 15)\n"
     ]
    },
    {
     "name": "stdout",
     "output_type": "stream",
     "text": [
      "y_test_pred: 244668, 1 contains: 0.237849\n",
      "============= 2017 datasets' results on test =============\n",
      "TP= 58194 FP= 0 TN= 183718 FN= 2756\n",
      "precision 1.0 \n",
      "recall 0.9547826086956521 \n",
      "accuracy 0.988735756208413\n",
      "F1= 0.9768683274021353\n"
     ]
    }
   ],
   "source": [
    "y_test_pred = gc.predict(X_test)\n",
    "\n",
    "y_test_pred_nonezero = np.count_nonzero(y_test_pred)\n",
    "print(\"y_test_pred: {:d}, 1 contains: {:6f}\".format(len(y_test_pred), y_test_pred_nonezero/len(y_test_pred)))\n",
    "\n",
    "\n",
    "print(\"============= 2017 datasets' results on test =============\")\n",
    "gc_f1, gc_accraucy, gc_precision, gc_recall = evaluate(y_test, y_test_pred)"
   ]
  },
  {
   "cell_type": "markdown",
   "metadata": {},
   "source": [
    "#### 2. train GcForest on batched datasets"
   ]
  },
  {
   "cell_type": "code",
   "execution_count": 26,
   "metadata": {},
   "outputs": [
    {
     "name": "stderr",
     "output_type": "stream",
     "text": [
      "[ 2018-10-21 20:00:49,674][cascade_classifier.fit_transform] X_groups_train.shape=[(30936, 27)],y_train.shape=(30936,),X_groups_test.shape=no_test,y_test.shape=no_test\n",
      "[ 2018-10-21 20:00:49,679][cascade_classifier.fit_transform] group_dims=[27]\n",
      "[ 2018-10-21 20:00:49,680][cascade_classifier.fit_transform] group_starts=[0]\n",
      "[ 2018-10-21 20:00:49,682][cascade_classifier.fit_transform] group_ends=[27]\n",
      "[ 2018-10-21 20:00:49,683][cascade_classifier.fit_transform] X_train.shape=(30936, 27),X_test.shape=(0, 27)\n",
      "[ 2018-10-21 20:00:49,691][cascade_classifier.fit_transform] [layer=0] look_indexs=[0], X_cur_train.shape=(30936, 27), X_cur_test.shape=(0, 27)\n",
      "[ 2018-10-21 20:00:50,039][kfold_wrapper.log_eval_metrics] Accuracy(layer_0 - estimator_0 - 5_folds.train_0.predict)=99.82%\n",
      "[ 2018-10-21 20:00:50,366][kfold_wrapper.log_eval_metrics] Accuracy(layer_0 - estimator_0 - 5_folds.train_1.predict)=99.85%\n",
      "[ 2018-10-21 20:00:50,697][kfold_wrapper.log_eval_metrics] Accuracy(layer_0 - estimator_0 - 5_folds.train_2.predict)=99.79%\n",
      "[ 2018-10-21 20:00:51,135][kfold_wrapper.log_eval_metrics] Accuracy(layer_0 - estimator_0 - 5_folds.train_3.predict)=99.85%\n",
      "[ 2018-10-21 20:00:51,461][kfold_wrapper.log_eval_metrics] Accuracy(layer_0 - estimator_0 - 5_folds.train_4.predict)=99.85%\n",
      "[ 2018-10-21 20:00:51,464][kfold_wrapper.log_eval_metrics] Accuracy(layer_0 - estimator_0 - 5_folds.train_cv.predict)=99.84%\n",
      "[ 2018-10-21 20:00:51,699][kfold_wrapper.log_eval_metrics] Accuracy(layer_0 - estimator_1 - 5_folds.train_0.predict)=99.79%\n",
      "[ 2018-10-21 20:00:52,034][kfold_wrapper.log_eval_metrics] Accuracy(layer_0 - estimator_1 - 5_folds.train_1.predict)=99.66%\n",
      "[ 2018-10-21 20:00:52,263][kfold_wrapper.log_eval_metrics] Accuracy(layer_0 - estimator_1 - 5_folds.train_2.predict)=99.81%\n",
      "[ 2018-10-21 20:00:52,491][kfold_wrapper.log_eval_metrics] Accuracy(layer_0 - estimator_1 - 5_folds.train_3.predict)=99.77%\n",
      "[ 2018-10-21 20:00:52,718][kfold_wrapper.log_eval_metrics] Accuracy(layer_0 - estimator_1 - 5_folds.train_4.predict)=99.92%\n",
      "[ 2018-10-21 20:00:52,721][kfold_wrapper.log_eval_metrics] Accuracy(layer_0 - estimator_1 - 5_folds.train_cv.predict)=99.79%\n",
      "[ 2018-10-21 20:00:52,886][kfold_wrapper.log_eval_metrics] Accuracy(layer_0 - estimator_2 - 5_folds.train_0.predict)=99.31%\n",
      "[ 2018-10-21 20:00:53,022][kfold_wrapper.log_eval_metrics] Accuracy(layer_0 - estimator_2 - 5_folds.train_1.predict)=99.32%\n",
      "[ 2018-10-21 20:00:53,178][kfold_wrapper.log_eval_metrics] Accuracy(layer_0 - estimator_2 - 5_folds.train_2.predict)=99.34%\n",
      "[ 2018-10-21 20:00:53,328][kfold_wrapper.log_eval_metrics] Accuracy(layer_0 - estimator_2 - 5_folds.train_3.predict)=99.32%\n",
      "[ 2018-10-21 20:00:53,466][kfold_wrapper.log_eval_metrics] Accuracy(layer_0 - estimator_2 - 5_folds.train_4.predict)=99.14%\n",
      "[ 2018-10-21 20:00:53,468][kfold_wrapper.log_eval_metrics] Accuracy(layer_0 - estimator_2 - 5_folds.train_cv.predict)=99.29%\n",
      "[ 2018-10-21 20:00:53,470][cascade_classifier.calc_accuracy] Accuracy(layer_0 - train.classifier_average)=99.80%\n",
      "[ 2018-10-21 20:00:53,477][cascade_classifier.fit_transform] [layer=1] look_indexs=[0], X_cur_train.shape=(30936, 33), X_cur_test.shape=(0, 33)\n",
      "[ 2018-10-21 20:00:53,810][kfold_wrapper.log_eval_metrics] Accuracy(layer_1 - estimator_0 - 5_folds.train_0.predict)=99.94%\n",
      "[ 2018-10-21 20:00:54,143][kfold_wrapper.log_eval_metrics] Accuracy(layer_1 - estimator_0 - 5_folds.train_1.predict)=99.74%\n",
      "[ 2018-10-21 20:00:54,481][kfold_wrapper.log_eval_metrics] Accuracy(layer_1 - estimator_0 - 5_folds.train_2.predict)=99.87%\n",
      "[ 2018-10-21 20:00:54,827][kfold_wrapper.log_eval_metrics] Accuracy(layer_1 - estimator_0 - 5_folds.train_3.predict)=99.87%\n",
      "[ 2018-10-21 20:00:55,161][kfold_wrapper.log_eval_metrics] Accuracy(layer_1 - estimator_0 - 5_folds.train_4.predict)=99.90%\n",
      "[ 2018-10-21 20:00:55,164][kfold_wrapper.log_eval_metrics] Accuracy(layer_1 - estimator_0 - 5_folds.train_cv.predict)=99.86%\n",
      "[ 2018-10-21 20:00:55,400][kfold_wrapper.log_eval_metrics] Accuracy(layer_1 - estimator_1 - 5_folds.train_0.predict)=99.85%\n",
      "[ 2018-10-21 20:00:55,634][kfold_wrapper.log_eval_metrics] Accuracy(layer_1 - estimator_1 - 5_folds.train_1.predict)=99.85%\n",
      "[ 2018-10-21 20:00:55,858][kfold_wrapper.log_eval_metrics] Accuracy(layer_1 - estimator_1 - 5_folds.train_2.predict)=99.87%\n",
      "[ 2018-10-21 20:00:56,091][kfold_wrapper.log_eval_metrics] Accuracy(layer_1 - estimator_1 - 5_folds.train_3.predict)=99.89%\n",
      "[ 2018-10-21 20:00:56,317][kfold_wrapper.log_eval_metrics] Accuracy(layer_1 - estimator_1 - 5_folds.train_4.predict)=99.82%\n",
      "[ 2018-10-21 20:00:56,319][kfold_wrapper.log_eval_metrics] Accuracy(layer_1 - estimator_1 - 5_folds.train_cv.predict)=99.86%\n",
      "[ 2018-10-21 20:00:56,517][kfold_wrapper.log_eval_metrics] Accuracy(layer_1 - estimator_2 - 5_folds.train_0.predict)=99.84%\n",
      "[ 2018-10-21 20:00:56,687][kfold_wrapper.log_eval_metrics] Accuracy(layer_1 - estimator_2 - 5_folds.train_1.predict)=99.87%\n",
      "[ 2018-10-21 20:00:56,863][kfold_wrapper.log_eval_metrics] Accuracy(layer_1 - estimator_2 - 5_folds.train_2.predict)=99.82%\n",
      "[ 2018-10-21 20:00:57,058][kfold_wrapper.log_eval_metrics] Accuracy(layer_1 - estimator_2 - 5_folds.train_3.predict)=99.84%\n",
      "[ 2018-10-21 20:00:57,249][kfold_wrapper.log_eval_metrics] Accuracy(layer_1 - estimator_2 - 5_folds.train_4.predict)=99.82%\n",
      "[ 2018-10-21 20:00:57,250][kfold_wrapper.log_eval_metrics] Accuracy(layer_1 - estimator_2 - 5_folds.train_cv.predict)=99.84%\n",
      "[ 2018-10-21 20:00:57,253][cascade_classifier.calc_accuracy] Accuracy(layer_1 - train.classifier_average)=99.86%\n",
      "[ 2018-10-21 20:00:57,257][cascade_classifier.fit_transform] [layer=2] look_indexs=[0], X_cur_train.shape=(30936, 33), X_cur_test.shape=(0, 33)\n",
      "[ 2018-10-21 20:00:57,591][kfold_wrapper.log_eval_metrics] Accuracy(layer_2 - estimator_0 - 5_folds.train_0.predict)=99.90%\n",
      "[ 2018-10-21 20:00:57,921][kfold_wrapper.log_eval_metrics] Accuracy(layer_2 - estimator_0 - 5_folds.train_1.predict)=99.79%\n",
      "[ 2018-10-21 20:00:58,251][kfold_wrapper.log_eval_metrics] Accuracy(layer_2 - estimator_0 - 5_folds.train_2.predict)=99.89%\n",
      "[ 2018-10-21 20:00:58,583][kfold_wrapper.log_eval_metrics] Accuracy(layer_2 - estimator_0 - 5_folds.train_3.predict)=99.87%\n",
      "[ 2018-10-21 20:00:58,911][kfold_wrapper.log_eval_metrics] Accuracy(layer_2 - estimator_0 - 5_folds.train_4.predict)=99.90%\n",
      "[ 2018-10-21 20:00:58,913][kfold_wrapper.log_eval_metrics] Accuracy(layer_2 - estimator_0 - 5_folds.train_cv.predict)=99.87%\n",
      "[ 2018-10-21 20:00:59,150][kfold_wrapper.log_eval_metrics] Accuracy(layer_2 - estimator_1 - 5_folds.train_0.predict)=99.82%\n",
      "[ 2018-10-21 20:00:59,376][kfold_wrapper.log_eval_metrics] Accuracy(layer_2 - estimator_1 - 5_folds.train_1.predict)=99.92%\n",
      "[ 2018-10-21 20:00:59,608][kfold_wrapper.log_eval_metrics] Accuracy(layer_2 - estimator_1 - 5_folds.train_2.predict)=99.94%\n",
      "[ 2018-10-21 20:00:59,840][kfold_wrapper.log_eval_metrics] Accuracy(layer_2 - estimator_1 - 5_folds.train_3.predict)=99.85%\n",
      "[ 2018-10-21 20:01:00,066][kfold_wrapper.log_eval_metrics] Accuracy(layer_2 - estimator_1 - 5_folds.train_4.predict)=99.81%\n",
      "[ 2018-10-21 20:01:00,069][kfold_wrapper.log_eval_metrics] Accuracy(layer_2 - estimator_1 - 5_folds.train_cv.predict)=99.87%\n",
      "[ 2018-10-21 20:01:00,274][kfold_wrapper.log_eval_metrics] Accuracy(layer_2 - estimator_2 - 5_folds.train_0.predict)=99.94%\n",
      "[ 2018-10-21 20:01:00,516][kfold_wrapper.log_eval_metrics] Accuracy(layer_2 - estimator_2 - 5_folds.train_1.predict)=99.87%\n",
      "[ 2018-10-21 20:01:00,699][kfold_wrapper.log_eval_metrics] Accuracy(layer_2 - estimator_2 - 5_folds.train_2.predict)=99.77%\n",
      "[ 2018-10-21 20:01:00,882][kfold_wrapper.log_eval_metrics] Accuracy(layer_2 - estimator_2 - 5_folds.train_3.predict)=99.77%\n",
      "[ 2018-10-21 20:01:01,049][kfold_wrapper.log_eval_metrics] Accuracy(layer_2 - estimator_2 - 5_folds.train_4.predict)=99.87%\n",
      "[ 2018-10-21 20:01:01,051][kfold_wrapper.log_eval_metrics] Accuracy(layer_2 - estimator_2 - 5_folds.train_cv.predict)=99.84%\n",
      "[ 2018-10-21 20:01:01,053][cascade_classifier.calc_accuracy] Accuracy(layer_2 - train.classifier_average)=99.86%\n",
      "[ 2018-10-21 20:01:01,057][cascade_classifier.fit_transform] [layer=3] look_indexs=[0], X_cur_train.shape=(30936, 33), X_cur_test.shape=(0, 33)\n",
      "[ 2018-10-21 20:01:01,288][kfold_wrapper.log_eval_metrics] Accuracy(layer_3 - estimator_0 - 5_folds.train_0.predict)=99.76%\n"
     ]
    },
    {
     "name": "stderr",
     "output_type": "stream",
     "text": [
      "[ 2018-10-21 20:01:01,621][kfold_wrapper.log_eval_metrics] Accuracy(layer_3 - estimator_0 - 5_folds.train_1.predict)=99.90%\n",
      "[ 2018-10-21 20:01:01,948][kfold_wrapper.log_eval_metrics] Accuracy(layer_3 - estimator_0 - 5_folds.train_2.predict)=99.89%\n",
      "[ 2018-10-21 20:01:02,281][kfold_wrapper.log_eval_metrics] Accuracy(layer_3 - estimator_0 - 5_folds.train_3.predict)=99.92%\n",
      "[ 2018-10-21 20:01:02,614][kfold_wrapper.log_eval_metrics] Accuracy(layer_3 - estimator_0 - 5_folds.train_4.predict)=99.90%\n",
      "[ 2018-10-21 20:01:02,616][kfold_wrapper.log_eval_metrics] Accuracy(layer_3 - estimator_0 - 5_folds.train_cv.predict)=99.87%\n",
      "[ 2018-10-21 20:01:02,849][kfold_wrapper.log_eval_metrics] Accuracy(layer_3 - estimator_1 - 5_folds.train_0.predict)=99.89%\n",
      "[ 2018-10-21 20:01:03,080][kfold_wrapper.log_eval_metrics] Accuracy(layer_3 - estimator_1 - 5_folds.train_1.predict)=99.84%\n",
      "[ 2018-10-21 20:01:03,313][kfold_wrapper.log_eval_metrics] Accuracy(layer_3 - estimator_1 - 5_folds.train_2.predict)=99.89%\n",
      "[ 2018-10-21 20:01:03,538][kfold_wrapper.log_eval_metrics] Accuracy(layer_3 - estimator_1 - 5_folds.train_3.predict)=99.82%\n",
      "[ 2018-10-21 20:01:03,759][kfold_wrapper.log_eval_metrics] Accuracy(layer_3 - estimator_1 - 5_folds.train_4.predict)=99.90%\n",
      "[ 2018-10-21 20:01:03,761][kfold_wrapper.log_eval_metrics] Accuracy(layer_3 - estimator_1 - 5_folds.train_cv.predict)=99.87%\n",
      "[ 2018-10-21 20:01:03,971][kfold_wrapper.log_eval_metrics] Accuracy(layer_3 - estimator_2 - 5_folds.train_0.predict)=99.79%\n",
      "[ 2018-10-21 20:01:04,161][kfold_wrapper.log_eval_metrics] Accuracy(layer_3 - estimator_2 - 5_folds.train_1.predict)=99.89%\n",
      "[ 2018-10-21 20:01:04,353][kfold_wrapper.log_eval_metrics] Accuracy(layer_3 - estimator_2 - 5_folds.train_2.predict)=99.84%\n",
      "[ 2018-10-21 20:01:04,542][kfold_wrapper.log_eval_metrics] Accuracy(layer_3 - estimator_2 - 5_folds.train_3.predict)=99.85%\n",
      "[ 2018-10-21 20:01:04,724][kfold_wrapper.log_eval_metrics] Accuracy(layer_3 - estimator_2 - 5_folds.train_4.predict)=99.84%\n",
      "[ 2018-10-21 20:01:04,726][kfold_wrapper.log_eval_metrics] Accuracy(layer_3 - estimator_2 - 5_folds.train_cv.predict)=99.84%\n",
      "[ 2018-10-21 20:01:04,728][cascade_classifier.calc_accuracy] Accuracy(layer_3 - train.classifier_average)=99.86%\n",
      "[ 2018-10-21 20:01:04,732][cascade_classifier.fit_transform] [layer=4] look_indexs=[0], X_cur_train.shape=(30936, 33), X_cur_test.shape=(0, 33)\n",
      "[ 2018-10-21 20:01:04,963][kfold_wrapper.log_eval_metrics] Accuracy(layer_4 - estimator_0 - 5_folds.train_0.predict)=99.84%\n",
      "[ 2018-10-21 20:01:05,288][kfold_wrapper.log_eval_metrics] Accuracy(layer_4 - estimator_0 - 5_folds.train_1.predict)=99.87%\n",
      "[ 2018-10-21 20:01:05,620][kfold_wrapper.log_eval_metrics] Accuracy(layer_4 - estimator_0 - 5_folds.train_2.predict)=99.82%\n",
      "[ 2018-10-21 20:01:05,947][kfold_wrapper.log_eval_metrics] Accuracy(layer_4 - estimator_0 - 5_folds.train_3.predict)=99.85%\n",
      "[ 2018-10-21 20:01:06,274][kfold_wrapper.log_eval_metrics] Accuracy(layer_4 - estimator_0 - 5_folds.train_4.predict)=99.79%\n",
      "[ 2018-10-21 20:01:06,277][kfold_wrapper.log_eval_metrics] Accuracy(layer_4 - estimator_0 - 5_folds.train_cv.predict)=99.84%\n",
      "[ 2018-10-21 20:01:06,518][kfold_wrapper.log_eval_metrics] Accuracy(layer_4 - estimator_1 - 5_folds.train_0.predict)=99.89%\n",
      "[ 2018-10-21 20:01:06,749][kfold_wrapper.log_eval_metrics] Accuracy(layer_4 - estimator_1 - 5_folds.train_1.predict)=99.81%\n",
      "[ 2018-10-21 20:01:06,978][kfold_wrapper.log_eval_metrics] Accuracy(layer_4 - estimator_1 - 5_folds.train_2.predict)=99.89%\n",
      "[ 2018-10-21 20:01:07,212][kfold_wrapper.log_eval_metrics] Accuracy(layer_4 - estimator_1 - 5_folds.train_3.predict)=99.79%\n",
      "[ 2018-10-21 20:01:07,445][kfold_wrapper.log_eval_metrics] Accuracy(layer_4 - estimator_1 - 5_folds.train_4.predict)=99.89%\n",
      "[ 2018-10-21 20:01:07,447][kfold_wrapper.log_eval_metrics] Accuracy(layer_4 - estimator_1 - 5_folds.train_cv.predict)=99.85%\n",
      "[ 2018-10-21 20:01:07,688][kfold_wrapper.log_eval_metrics] Accuracy(layer_4 - estimator_2 - 5_folds.train_0.predict)=99.82%\n",
      "[ 2018-10-21 20:01:07,923][kfold_wrapper.log_eval_metrics] Accuracy(layer_4 - estimator_2 - 5_folds.train_1.predict)=99.82%\n",
      "[ 2018-10-21 20:01:08,120][kfold_wrapper.log_eval_metrics] Accuracy(layer_4 - estimator_2 - 5_folds.train_2.predict)=99.82%\n",
      "[ 2018-10-21 20:01:08,286][kfold_wrapper.log_eval_metrics] Accuracy(layer_4 - estimator_2 - 5_folds.train_3.predict)=99.87%\n",
      "[ 2018-10-21 20:01:08,527][kfold_wrapper.log_eval_metrics] Accuracy(layer_4 - estimator_2 - 5_folds.train_4.predict)=99.74%\n",
      "[ 2018-10-21 20:01:08,528][kfold_wrapper.log_eval_metrics] Accuracy(layer_4 - estimator_2 - 5_folds.train_cv.predict)=99.82%\n",
      "[ 2018-10-21 20:01:08,530][cascade_classifier.calc_accuracy] Accuracy(layer_4 - train.classifier_average)=99.84%\n",
      "[ 2018-10-21 20:01:08,531][cascade_classifier.fit_transform] [Result][Optimal Level Detected] opt_layer_num=2, accuracy_train=99.86%, accuracy_test=0.00%\n"
     ]
    }
   ],
   "source": [
    "X_train_batch_enc = gc.fit_transform(X_train_batch, y_train_batch)\n",
    "\n",
    "# dump\n",
    "with open(\"../pkl/2017_test_batch.pkl\", \"wb\") as f:\n",
    "    pickle.dump(gc, f, pickle.HIGHEST_PROTOCOL)\n",
    "# load\n",
    "with open(\"../pkl/2017_test_batch.pkl\", \"rb\") as f:\n",
    "    gc = pickle.load(f)"
   ]
  },
  {
   "cell_type": "markdown",
   "metadata": {},
   "source": [
    "#### test GcForest on batched valid datasets"
   ]
  },
  {
   "cell_type": "code",
   "execution_count": 27,
   "metadata": {},
   "outputs": [
    {
     "name": "stderr",
     "output_type": "stream",
     "text": [
      "[ 2018-10-21 20:01:08,573][cascade_classifier.transform] X_groups_test.shape=[(15237, 27)]\n",
      "[ 2018-10-21 20:01:08,577][cascade_classifier.transform] group_dims=[27]\n",
      "[ 2018-10-21 20:01:08,578][cascade_classifier.transform] X_test.shape=(15237, 27)\n",
      "[ 2018-10-21 20:01:08,584][cascade_classifier.transform] [layer=0] look_indexs=[0], X_cur_test.shape=(15237, 27)\n",
      "[ 2018-10-21 20:01:09,653][cascade_classifier.transform] [layer=1] look_indexs=[0], X_cur_test.shape=(15237, 33)\n"
     ]
    },
    {
     "name": "stdout",
     "output_type": "stream",
     "text": [
      "y_valid_batch, 1 contains:  0.01161645993305769\n",
      "y_valid_batch_pred, 1 contains:  0.011157051913106255\n",
      "============= 2017 datasets' results on 3 batched valid =============\n",
      "TP= 168 FP= 2 TN= 15058 FN= 9\n",
      "precision 0.9882352941176471 \n",
      "recall 0.9491525423728814 \n",
      "accuracy 0.9992780731115048\n",
      "F1= 0.968299711815562\n"
     ]
    }
   ],
   "source": [
    "y_valid_batch_pred = gc.predict(X_valid_batch)    \n",
    "y_valid_batch_nonezero = np.count_nonzero(y_valid_batch)\n",
    "y_valid_batch_pred_nonezero = np.count_nonzero(y_valid_batch_pred)\n",
    "\n",
    "print(\"y_valid_batch, 1 contains: \", y_valid_batch_nonezero/len(y_valid_batch))\n",
    "print(\"y_valid_batch_pred, 1 contains: \", y_valid_batch_pred_nonezero/len(y_valid_batch_pred))\n",
    "\n",
    "\n",
    "\n",
    "print(\"============= 2017 datasets' results on %d batched valid =============\" %(batch_size))\n",
    "gc_f1, gc_accraucy, gc_precision, gc_recall = evaluate(y_valid_batch, y_valid_batch_pred)"
   ]
  },
  {
   "cell_type": "markdown",
   "metadata": {},
   "source": [
    "#### test gcForest on 2017 batched Test datasets"
   ]
  },
  {
   "cell_type": "code",
   "execution_count": 28,
   "metadata": {},
   "outputs": [
    {
     "name": "stderr",
     "output_type": "stream",
     "text": [
      "[ 2018-10-21 20:01:10,813][cascade_classifier.transform] X_groups_test.shape=[(81556, 27)]\n",
      "[ 2018-10-21 20:01:10,831][cascade_classifier.transform] group_dims=[27]\n",
      "[ 2018-10-21 20:01:10,834][cascade_classifier.transform] X_test.shape=(81556, 27)\n",
      "[ 2018-10-21 20:01:10,862][cascade_classifier.transform] [layer=0] look_indexs=[0], X_cur_test.shape=(81556, 27)\n",
      "[ 2018-10-21 20:01:12,027][cascade_classifier.transform] [layer=1] look_indexs=[0], X_cur_test.shape=(81556, 33)\n"
     ]
    },
    {
     "name": "stdout",
     "output_type": "stream",
     "text": [
      "y_test_pred: 81556, 1 contains: 0.713547\n",
      "============= 2017 datasets' results on 3 batched test =============\n",
      "TP= 19394 FP= 0 TN= 61238 FN= 924\n",
      "precision 1.0 \n",
      "recall 0.9545230829806083 \n",
      "accuracy 0.9886703614694198\n",
      "F1= 0.9767324738114425\n"
     ]
    }
   ],
   "source": [
    "y_test_batch_pred = gc.predict(X_test_batch)\n",
    "\n",
    "y_test_batch_pred_nonezero = np.count_nonzero(y_test_batch_pred)\n",
    "print(\"y_test_pred: {:d}, 1 contains: {:6f}\".format(len(y_test_batch_pred), y_test_pred_nonezero/len(y_test_batch_pred)))\n",
    "\n",
    "print(\"============= 2017 datasets' results on %d batched test =============\" %(batch_size))\n",
    "gc_f1, gc_accraucy, gc_precision, gc_recall = evaluate(y_test_batch, y_test_batch_pred)\n"
   ]
  }
 ],
 "metadata": {
  "kernelspec": {
   "display_name": "Python [conda env:gc]",
   "language": "python",
   "name": "conda-env-gc-py"
  },
  "language_info": {
   "codemirror_mode": {
    "name": "ipython",
    "version": 3
   },
   "file_extension": ".py",
   "mimetype": "text/x-python",
   "name": "python",
   "nbconvert_exporter": "python",
   "pygments_lexer": "ipython3",
   "version": "3.6.3"
  }
 },
 "nbformat": 4,
 "nbformat_minor": 2
}
