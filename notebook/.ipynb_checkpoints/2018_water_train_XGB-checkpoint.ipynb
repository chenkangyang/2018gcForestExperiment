{
 "cells": [
  {
   "cell_type": "code",
   "execution_count": 1,
   "metadata": {},
   "outputs": [
    {
     "name": "stderr",
     "output_type": "stream",
     "text": [
      "/Users/alex/anaconda3/envs/gc/lib/python3.6/site-packages/sklearn/cross_validation.py:41: DeprecationWarning: This module was deprecated in version 0.18 in favor of the model_selection module into which all the refactored classes and functions are moved. Also note that the interface of the new CV iterators are different from that of this module. This module will be removed in 0.20.\n",
      "  \"This module will be removed in 0.20.\", DeprecationWarning)\n",
      "/Users/alex/anaconda3/envs/gc/lib/python3.6/site-packages/sklearn/grid_search.py:42: DeprecationWarning: This module was deprecated in version 0.18 in favor of the model_selection module into which all the refactored classes and functions are moved. This module will be removed in 0.20.\n",
      "  DeprecationWarning)\n"
     ]
    }
   ],
   "source": [
    "import os\n",
    "import pandas as pd\n",
    "import numpy as np\n",
    "\n",
    "from imblearn.over_sampling import SMOTE\n",
    "from xgboost import XGBClassifier\n",
    "from xgboost import plot_importance\n",
    "\n",
    "from sklearn import preprocessing\n",
    "from sklearn.pipeline import Pipeline\n",
    "\n",
    "from sklearn.naive_bayes import GaussianNB\n",
    "from sklearn.ensemble import RandomForestClassifier\n",
    "from sklearn.ensemble import ExtraTreesClassifier\n",
    "from sklearn.ensemble import GradientBoostingClassifier\n",
    "\n",
    "from sklearn.model_selection import train_test_split\n",
    "from sklearn.model_selection import cross_validate\n",
    "from sklearn.model_selection import StratifiedKFold\n",
    "\n",
    "from sklearn.grid_search import GridSearchCV\n",
    "\n",
    "from sklearn.metrics import classification_report\n",
    "from sklearn.metrics import f1_score\n",
    "from sklearn.metrics import precision_score\n",
    "from sklearn.metrics import recall_score\n",
    "from sklearn.metrics import accuracy_score"
   ]
  },
  {
   "cell_type": "markdown",
   "metadata": {},
   "source": [
    "#### somte sampling"
   ]
  },
  {
   "cell_type": "code",
   "execution_count": 2,
   "metadata": {},
   "outputs": [],
   "source": [
    "def Smoter(X, y, is_random=False):\n",
    "    if is_random == True:\n",
    "        sm = SMOTE(random_state=random_seed)\n",
    "    elif is_random == False:\n",
    "        sm = SMOTE(random_state=0)\n",
    "    X_smote, y_smote = sm.fit_sample(X, y)\n",
    "\n",
    "    return X_smote, y_smote"
   ]
  },
  {
   "cell_type": "markdown",
   "metadata": {},
   "source": [
    "#### evaluate function"
   ]
  },
  {
   "cell_type": "code",
   "execution_count": 3,
   "metadata": {},
   "outputs": [],
   "source": [
    "def evaluate(true, pred):\n",
    "    # compute accuracy, precision and recall\n",
    "    TP, FP, TN, FN = 0, 0, 0, 0\n",
    "\n",
    "    for i in range(0, len(pred)):\n",
    "        if pred[i] == true[i] and true[i] == 1:\n",
    "            TP += 1\n",
    "        elif pred[i] == true[i] and true[i] == 0:\n",
    "            TN += 1\n",
    "        elif pred[i] != true[i] and true[i] == 0:\n",
    "            FP += 1\n",
    "        elif pred[i] != true[i] and true[i] == 1:\n",
    "            FN += 1\n",
    "\n",
    "    precision = TP/(TP + FP)\n",
    "    recall = TP/(TP + FN)\n",
    "    accuracy = (TP+TN)/(TP+TN+FN+FP)\n",
    "    \n",
    "    print('TP=',TP,'FP=',FP,'TN=',TN,'FN=',FN)\n",
    "    F1 = 2*precision*recall / (precision + recall)\n",
    "    print(\"precision\", precision,\"\\nrecall\", recall,\"\\naccuracy\", accuracy)\n",
    "    print('F1=',F1)\n",
    "    return F1, accuracy, precision, recall"
   ]
  },
  {
   "cell_type": "markdown",
   "metadata": {},
   "source": [
    "### HyperParameter"
   ]
  },
  {
   "cell_type": "code",
   "execution_count": 4,
   "metadata": {},
   "outputs": [],
   "source": [
    "batch_size = 3\n",
    "test_size = 0.33\n",
    "random_seed = 42\n",
    "cv = 5"
   ]
  },
  {
   "cell_type": "markdown",
   "metadata": {},
   "source": [
    "# Load 2018 Train Set"
   ]
  },
  {
   "cell_type": "code",
   "execution_count": 5,
   "metadata": {},
   "outputs": [],
   "source": [
    "data_all = pd.read_csv(\"../data/water/csv/train2018.csv\")\n",
    "\n",
    "X = data_all.values[:, 0:-1]\n",
    "y = data_all.values[:, -1]"
   ]
  },
  {
   "cell_type": "markdown",
   "metadata": {},
   "source": [
    "### clean the data\n",
    "\n",
    "fulfill the Na with median, then standardized the data, output type ndarray"
   ]
  },
  {
   "cell_type": "code",
   "execution_count": 6,
   "metadata": {},
   "outputs": [],
   "source": [
    "clean_pipeline = Pipeline([('imputer', preprocessing.Imputer(missing_values='NaN',strategy=\"median\")),\n",
    "                               ('std_scaler', preprocessing.StandardScaler()),])"
   ]
  },
  {
   "cell_type": "markdown",
   "metadata": {},
   "source": [
    "# Load 2018 Test Set"
   ]
  },
  {
   "cell_type": "code",
   "execution_count": 7,
   "metadata": {},
   "outputs": [],
   "source": [
    "test = pd.read_csv(\"../data/water/csv/test2018.csv\")\n",
    "\n",
    "X_test = test.values[:, 0:-1]\n",
    "y_test = test.values[:, -1]\n",
    "\n",
    "X_test = clean_pipeline.fit_transform(X_test)"
   ]
  },
  {
   "cell_type": "code",
   "execution_count": 8,
   "metadata": {},
   "outputs": [
    {
     "name": "stdout",
     "output_type": "stream",
     "text": [
      "样本不平衡 0.012460\n"
     ]
    }
   ],
   "source": [
    "print(\"样本不平衡 %f\" %(np.sum(y==1)/len(y)))"
   ]
  },
  {
   "cell_type": "code",
   "execution_count": 9,
   "metadata": {},
   "outputs": [
    {
     "name": "stdout",
     "output_type": "stream",
     "text": [
      "[0]\tvalidation_0-error:0.009168\n",
      "Will train until validation_0-error hasn't improved in 50 rounds.\n",
      "[1]\tvalidation_0-error:0.008049\n",
      "[2]\tvalidation_0-error:0.008049\n",
      "[3]\tvalidation_0-error:0.007796\n",
      "[4]\tvalidation_0-error:0.007796\n",
      "[5]\tvalidation_0-error:0.007616\n",
      "[6]\tvalidation_0-error:0.007147\n",
      "[7]\tvalidation_0-error:0.007652\n",
      "[8]\tvalidation_0-error:0.007796\n",
      "[9]\tvalidation_0-error:0.007291\n",
      "[10]\tvalidation_0-error:0.007652\n",
      "[11]\tvalidation_0-error:0.007219\n",
      "[12]\tvalidation_0-error:0.007219\n",
      "[13]\tvalidation_0-error:0.007183\n",
      "[14]\tvalidation_0-error:0.006714\n",
      "[15]\tvalidation_0-error:0.006677\n",
      "[16]\tvalidation_0-error:0.006677\n",
      "[17]\tvalidation_0-error:0.006317\n",
      "[18]\tvalidation_0-error:0.006461\n",
      "[19]\tvalidation_0-error:0.006317\n",
      "[20]\tvalidation_0-error:0.006317\n",
      "[21]\tvalidation_0-error:0.006461\n",
      "[22]\tvalidation_0-error:0.006244\n",
      "[23]\tvalidation_0-error:0.005847\n",
      "[24]\tvalidation_0-error:0.00592\n",
      "[25]\tvalidation_0-error:0.00592\n",
      "[26]\tvalidation_0-error:0.005739\n",
      "[27]\tvalidation_0-error:0.005595\n",
      "[28]\tvalidation_0-error:0.005486\n",
      "[29]\tvalidation_0-error:0.005631\n",
      "[30]\tvalidation_0-error:0.00545\n",
      "[31]\tvalidation_0-error:0.005414\n",
      "[32]\tvalidation_0-error:0.005342\n",
      "[33]\tvalidation_0-error:0.005486\n",
      "[34]\tvalidation_0-error:0.005342\n",
      "[35]\tvalidation_0-error:0.005486\n",
      "[36]\tvalidation_0-error:0.005595\n",
      "[37]\tvalidation_0-error:0.005631\n",
      "[38]\tvalidation_0-error:0.005811\n",
      "[39]\tvalidation_0-error:0.005414\n",
      "[40]\tvalidation_0-error:0.005162\n",
      "[41]\tvalidation_0-error:0.005595\n",
      "[42]\tvalidation_0-error:0.00527\n",
      "[43]\tvalidation_0-error:0.00592\n",
      "[44]\tvalidation_0-error:0.005847\n",
      "[45]\tvalidation_0-error:0.005811\n",
      "[46]\tvalidation_0-error:0.005631\n",
      "[47]\tvalidation_0-error:0.005667\n",
      "[48]\tvalidation_0-error:0.005631\n",
      "[49]\tvalidation_0-error:0.004801\n",
      "[50]\tvalidation_0-error:0.004764\n",
      "[51]\tvalidation_0-error:0.004728\n",
      "[52]\tvalidation_0-error:0.005017\n",
      "[53]\tvalidation_0-error:0.004801\n",
      "[54]\tvalidation_0-error:0.005234\n",
      "[55]\tvalidation_0-error:0.004981\n",
      "[56]\tvalidation_0-error:0.004801\n",
      "[57]\tvalidation_0-error:0.004801\n",
      "[58]\tvalidation_0-error:0.004837\n",
      "[59]\tvalidation_0-error:0.004801\n",
      "[60]\tvalidation_0-error:0.004981\n",
      "[61]\tvalidation_0-error:0.005162\n",
      "[62]\tvalidation_0-error:0.005125\n",
      "[63]\tvalidation_0-error:0.004981\n",
      "[64]\tvalidation_0-error:0.005053\n",
      "[65]\tvalidation_0-error:0.005053\n",
      "[66]\tvalidation_0-error:0.005198\n",
      "[67]\tvalidation_0-error:0.005198\n",
      "[68]\tvalidation_0-error:0.005306\n",
      "[69]\tvalidation_0-error:0.005198\n",
      "[70]\tvalidation_0-error:0.005089\n",
      "[71]\tvalidation_0-error:0.005125\n",
      "[72]\tvalidation_0-error:0.005089\n",
      "[73]\tvalidation_0-error:0.005053\n",
      "[74]\tvalidation_0-error:0.005125\n",
      "[75]\tvalidation_0-error:0.005125\n",
      "[76]\tvalidation_0-error:0.00545\n",
      "[77]\tvalidation_0-error:0.00545\n",
      "[78]\tvalidation_0-error:0.00545\n",
      "[79]\tvalidation_0-error:0.00545\n",
      "[80]\tvalidation_0-error:0.00545\n",
      "[81]\tvalidation_0-error:0.00545\n",
      "[82]\tvalidation_0-error:0.00545\n",
      "[83]\tvalidation_0-error:0.00545\n",
      "[84]\tvalidation_0-error:0.00545\n",
      "[85]\tvalidation_0-error:0.00545\n",
      "[86]\tvalidation_0-error:0.00545\n",
      "[87]\tvalidation_0-error:0.00545\n",
      "[88]\tvalidation_0-error:0.00545\n",
      "[89]\tvalidation_0-error:0.005522\n",
      "[90]\tvalidation_0-error:0.005559\n",
      "[91]\tvalidation_0-error:0.005595\n",
      "[92]\tvalidation_0-error:0.005595\n",
      "[93]\tvalidation_0-error:0.005595\n",
      "[94]\tvalidation_0-error:0.005631\n",
      "[95]\tvalidation_0-error:0.005631\n",
      "[96]\tvalidation_0-error:0.005631\n",
      "[97]\tvalidation_0-error:0.005631\n",
      "[98]\tvalidation_0-error:0.005631\n",
      "[99]\tvalidation_0-error:0.005739\n",
      "[100]\tvalidation_0-error:0.005739\n",
      "[101]\tvalidation_0-error:0.005883\n",
      "Stopping. Best iteration:\n",
      "[51]\tvalidation_0-error:0.004728\n",
      "\n"
     ]
    },
    {
     "name": "stderr",
     "output_type": "stream",
     "text": [
      "/Users/alex/anaconda3/envs/gc/lib/python3.6/site-packages/sklearn/preprocessing/label.py:151: DeprecationWarning: The truth value of an empty array is ambiguous. Returning False, but in future this will result in an error. Use `array.size > 0` to check that an array is not empty.\n",
      "  if diff:\n"
     ]
    },
    {
     "name": "stdout",
     "output_type": "stream",
     "text": [
      "[0]\tvalidation_0-error:0.019961\n",
      "Will train until validation_0-error hasn't improved in 50 rounds.\n",
      "[1]\tvalidation_0-error:0.017723\n",
      "[2]\tvalidation_0-error:0.004584\n",
      "[3]\tvalidation_0-error:0.00444\n",
      "[4]\tvalidation_0-error:0.006064\n",
      "[5]\tvalidation_0-error:0.005234\n",
      "[6]\tvalidation_0-error:0.0061\n",
      "[7]\tvalidation_0-error:0.00527\n",
      "[8]\tvalidation_0-error:0.005378\n",
      "[9]\tvalidation_0-error:0.005378\n",
      "[10]\tvalidation_0-error:0.005378\n",
      "[11]\tvalidation_0-error:0.005378\n",
      "[12]\tvalidation_0-error:0.005378\n",
      "[13]\tvalidation_0-error:0.005378\n",
      "[14]\tvalidation_0-error:0.005487\n",
      "[15]\tvalidation_0-error:0.005487\n",
      "[16]\tvalidation_0-error:0.006461\n",
      "[17]\tvalidation_0-error:0.00527\n",
      "[18]\tvalidation_0-error:0.005559\n",
      "[19]\tvalidation_0-error:0.005198\n",
      "[20]\tvalidation_0-error:0.004656\n",
      "[21]\tvalidation_0-error:0.004584\n",
      "[22]\tvalidation_0-error:0.00462\n",
      "[23]\tvalidation_0-error:0.00462\n",
      "[24]\tvalidation_0-error:0.006822\n",
      "[25]\tvalidation_0-error:0.006858\n",
      "[26]\tvalidation_0-error:0.006822\n",
      "[27]\tvalidation_0-error:0.006786\n",
      "[28]\tvalidation_0-error:0.006894\n",
      "[29]\tvalidation_0-error:0.00693\n",
      "[30]\tvalidation_0-error:0.006894\n",
      "[31]\tvalidation_0-error:0.006858\n",
      "[32]\tvalidation_0-error:0.006858\n",
      "[33]\tvalidation_0-error:0.006822\n",
      "[34]\tvalidation_0-error:0.006894\n",
      "[35]\tvalidation_0-error:0.006858\n",
      "[36]\tvalidation_0-error:0.006894\n",
      "[37]\tvalidation_0-error:0.006714\n",
      "[38]\tvalidation_0-error:0.00693\n",
      "[39]\tvalidation_0-error:0.00675\n",
      "[40]\tvalidation_0-error:0.00693\n",
      "[41]\tvalidation_0-error:0.006967\n",
      "[42]\tvalidation_0-error:0.00675\n",
      "[43]\tvalidation_0-error:0.00675\n",
      "[44]\tvalidation_0-error:0.007327\n",
      "[45]\tvalidation_0-error:0.007327\n",
      "[46]\tvalidation_0-error:0.00758\n",
      "[47]\tvalidation_0-error:0.007833\n",
      "[48]\tvalidation_0-error:0.007833\n",
      "[49]\tvalidation_0-error:0.007869\n",
      "[50]\tvalidation_0-error:0.012417\n",
      "[51]\tvalidation_0-error:0.007869\n",
      "[52]\tvalidation_0-error:0.007905\n",
      "[53]\tvalidation_0-error:0.012417\n",
      "Stopping. Best iteration:\n",
      "[3]\tvalidation_0-error:0.00444\n",
      "\n"
     ]
    },
    {
     "name": "stderr",
     "output_type": "stream",
     "text": [
      "/Users/alex/anaconda3/envs/gc/lib/python3.6/site-packages/sklearn/preprocessing/label.py:151: DeprecationWarning: The truth value of an empty array is ambiguous. Returning False, but in future this will result in an error. Use `array.size > 0` to check that an array is not empty.\n",
      "  if diff:\n"
     ]
    },
    {
     "name": "stdout",
     "output_type": "stream",
     "text": [
      "[0]\tvalidation_0-error:0.014655\n",
      "Will train until validation_0-error hasn't improved in 50 rounds.\n",
      "[1]\tvalidation_0-error:0.014655\n",
      "[2]\tvalidation_0-error:0.01729\n",
      "[3]\tvalidation_0-error:0.021008\n",
      "[4]\tvalidation_0-error:0.018553\n",
      "[5]\tvalidation_0-error:0.018156\n",
      "[6]\tvalidation_0-error:0.021405\n",
      "[7]\tvalidation_0-error:0.024653\n",
      "[8]\tvalidation_0-error:0.021405\n",
      "[9]\tvalidation_0-error:0.023895\n",
      "[10]\tvalidation_0-error:0.024653\n",
      "[11]\tvalidation_0-error:0.023895\n",
      "[12]\tvalidation_0-error:0.023895\n",
      "[13]\tvalidation_0-error:0.020611\n",
      "[14]\tvalidation_0-error:0.022849\n",
      "[15]\tvalidation_0-error:0.021585\n",
      "[16]\tvalidation_0-error:0.021621\n",
      "[17]\tvalidation_0-error:0.019311\n",
      "[18]\tvalidation_0-error:0.021549\n",
      "[19]\tvalidation_0-error:0.019059\n",
      "[20]\tvalidation_0-error:0.019023\n",
      "[21]\tvalidation_0-error:0.019059\n",
      "[22]\tvalidation_0-error:0.019311\n",
      "[23]\tvalidation_0-error:0.019528\n",
      "[24]\tvalidation_0-error:0.018986\n",
      "[25]\tvalidation_0-error:0.019275\n",
      "[26]\tvalidation_0-error:0.019889\n",
      "[27]\tvalidation_0-error:0.019961\n",
      "[28]\tvalidation_0-error:0.019095\n",
      "[29]\tvalidation_0-error:0.020791\n",
      "[30]\tvalidation_0-error:0.019059\n",
      "[31]\tvalidation_0-error:0.02025\n",
      "[32]\tvalidation_0-error:0.02025\n",
      "[33]\tvalidation_0-error:0.020755\n",
      "[34]\tvalidation_0-error:0.019961\n",
      "[35]\tvalidation_0-error:0.021188\n",
      "[36]\tvalidation_0-error:0.020575\n",
      "[37]\tvalidation_0-error:0.019889\n",
      "[38]\tvalidation_0-error:0.020466\n",
      "[39]\tvalidation_0-error:0.020178\n",
      "[40]\tvalidation_0-error:0.020322\n",
      "[41]\tvalidation_0-error:0.020286\n",
      "[42]\tvalidation_0-error:0.02025\n",
      "[43]\tvalidation_0-error:0.02025\n",
      "[44]\tvalidation_0-error:0.020539\n",
      "[45]\tvalidation_0-error:0.020214\n",
      "[46]\tvalidation_0-error:0.020611\n",
      "[47]\tvalidation_0-error:0.021188\n",
      "[48]\tvalidation_0-error:0.021116\n",
      "[49]\tvalidation_0-error:0.020936\n",
      "[50]\tvalidation_0-error:0.021297\n",
      "Stopping. Best iteration:\n",
      "[0]\tvalidation_0-error:0.014655\n",
      "\n"
     ]
    },
    {
     "name": "stderr",
     "output_type": "stream",
     "text": [
      "/Users/alex/anaconda3/envs/gc/lib/python3.6/site-packages/sklearn/preprocessing/label.py:151: DeprecationWarning: The truth value of an empty array is ambiguous. Returning False, but in future this will result in an error. Use `array.size > 0` to check that an array is not empty.\n",
      "  if diff:\n"
     ]
    },
    {
     "name": "stdout",
     "output_type": "stream",
     "text": [
      "[0]\tvalidation_0-error:0.002779\n",
      "Will train until validation_0-error hasn't improved in 50 rounds.\n",
      "[1]\tvalidation_0-error:0.001263\n",
      "[2]\tvalidation_0-error:0.001263\n",
      "[3]\tvalidation_0-error:0.001263\n",
      "[4]\tvalidation_0-error:0.001263\n",
      "[5]\tvalidation_0-error:0.001263\n",
      "[6]\tvalidation_0-error:0.001263\n",
      "[7]\tvalidation_0-error:0.001263\n",
      "[8]\tvalidation_0-error:0.001263\n",
      "[9]\tvalidation_0-error:0.001263\n",
      "[10]\tvalidation_0-error:0.001263\n",
      "[11]\tvalidation_0-error:0.001263\n",
      "[12]\tvalidation_0-error:0.001263\n",
      "[13]\tvalidation_0-error:0.001263\n",
      "[14]\tvalidation_0-error:0.001263\n",
      "[15]\tvalidation_0-error:0.001263\n",
      "[16]\tvalidation_0-error:0.001263\n",
      "[17]\tvalidation_0-error:0.001263\n",
      "[18]\tvalidation_0-error:0.001263\n",
      "[19]\tvalidation_0-error:0.001263\n",
      "[20]\tvalidation_0-error:0.001263\n",
      "[21]\tvalidation_0-error:0.001263\n",
      "[22]\tvalidation_0-error:0.001263\n",
      "[23]\tvalidation_0-error:0.001263\n",
      "[24]\tvalidation_0-error:0.001263\n",
      "[25]\tvalidation_0-error:0.001263\n",
      "[26]\tvalidation_0-error:0.001263\n",
      "[27]\tvalidation_0-error:0.001263\n",
      "[28]\tvalidation_0-error:0.001299\n",
      "[29]\tvalidation_0-error:0.001263\n",
      "[30]\tvalidation_0-error:0.001263\n",
      "[31]\tvalidation_0-error:0.001263\n",
      "[32]\tvalidation_0-error:0.001263\n",
      "[33]\tvalidation_0-error:0.001336\n",
      "[34]\tvalidation_0-error:0.001372\n",
      "[35]\tvalidation_0-error:0.001372\n",
      "[36]\tvalidation_0-error:0.001372\n",
      "[37]\tvalidation_0-error:0.001444\n",
      "[38]\tvalidation_0-error:0.001444\n",
      "[39]\tvalidation_0-error:0.001444\n",
      "[40]\tvalidation_0-error:0.001444\n",
      "[41]\tvalidation_0-error:0.001444\n",
      "[42]\tvalidation_0-error:0.001444\n",
      "[43]\tvalidation_0-error:0.001444\n",
      "[44]\tvalidation_0-error:0.001444\n",
      "[45]\tvalidation_0-error:0.001444\n",
      "[46]\tvalidation_0-error:0.001444\n",
      "[47]\tvalidation_0-error:0.001444\n",
      "[48]\tvalidation_0-error:0.001444\n",
      "[49]\tvalidation_0-error:0.001263\n",
      "[50]\tvalidation_0-error:0.001408\n",
      "[51]\tvalidation_0-error:0.001408\n",
      "Stopping. Best iteration:\n",
      "[1]\tvalidation_0-error:0.001263\n",
      "\n"
     ]
    },
    {
     "name": "stderr",
     "output_type": "stream",
     "text": [
      "/Users/alex/anaconda3/envs/gc/lib/python3.6/site-packages/sklearn/preprocessing/label.py:151: DeprecationWarning: The truth value of an empty array is ambiguous. Returning False, but in future this will result in an error. Use `array.size > 0` to check that an array is not empty.\n",
      "  if diff:\n"
     ]
    },
    {
     "name": "stdout",
     "output_type": "stream",
     "text": [
      "[0]\tvalidation_0-error:0.006642\n",
      "Will train until validation_0-error hasn't improved in 50 rounds.\n",
      "[1]\tvalidation_0-error:0.011226\n",
      "[2]\tvalidation_0-error:0.009999\n",
      "[3]\tvalidation_0-error:0.009999\n",
      "[4]\tvalidation_0-error:0.009999\n",
      "[5]\tvalidation_0-error:0.009999\n",
      "[6]\tvalidation_0-error:0.009999\n",
      "[7]\tvalidation_0-error:0.009999\n",
      "[8]\tvalidation_0-error:0.009999\n",
      "[9]\tvalidation_0-error:0.009999\n",
      "[10]\tvalidation_0-error:0.009999\n",
      "[11]\tvalidation_0-error:0.009999\n",
      "[12]\tvalidation_0-error:0.009999\n",
      "[13]\tvalidation_0-error:0.009999\n",
      "[14]\tvalidation_0-error:0.009999\n",
      "[15]\tvalidation_0-error:0.009999\n",
      "[16]\tvalidation_0-error:0.009999\n",
      "[17]\tvalidation_0-error:0.009999\n",
      "[18]\tvalidation_0-error:0.009999\n",
      "[19]\tvalidation_0-error:0.009999\n",
      "[20]\tvalidation_0-error:0.009999\n",
      "[21]\tvalidation_0-error:0.009999\n",
      "[22]\tvalidation_0-error:0.009999\n",
      "[23]\tvalidation_0-error:0.009999\n",
      "[24]\tvalidation_0-error:0.009999\n",
      "[25]\tvalidation_0-error:0.009999\n",
      "[26]\tvalidation_0-error:0.009999\n",
      "[27]\tvalidation_0-error:0.009999\n",
      "[28]\tvalidation_0-error:0.009999\n",
      "[29]\tvalidation_0-error:0.009999\n",
      "[30]\tvalidation_0-error:0.009999\n",
      "[31]\tvalidation_0-error:0.009999\n",
      "[32]\tvalidation_0-error:0.009999\n",
      "[33]\tvalidation_0-error:0.009999\n",
      "[34]\tvalidation_0-error:0.009999\n",
      "[35]\tvalidation_0-error:0.009999\n",
      "[36]\tvalidation_0-error:0.009999\n",
      "[37]\tvalidation_0-error:0.009999\n",
      "[38]\tvalidation_0-error:0.009999\n",
      "[39]\tvalidation_0-error:0.009999\n",
      "[40]\tvalidation_0-error:0.009999\n",
      "[41]\tvalidation_0-error:0.009999\n",
      "[42]\tvalidation_0-error:0.009999\n",
      "[43]\tvalidation_0-error:0.009999\n",
      "[44]\tvalidation_0-error:0.009999\n",
      "[45]\tvalidation_0-error:0.009999\n",
      "[46]\tvalidation_0-error:0.009999\n",
      "[47]\tvalidation_0-error:0.009999\n",
      "[48]\tvalidation_0-error:0.009999\n",
      "[49]\tvalidation_0-error:0.009999\n",
      "[50]\tvalidation_0-error:0.009999\n",
      "Stopping. Best iteration:\n",
      "[0]\tvalidation_0-error:0.006642\n",
      "\n"
     ]
    },
    {
     "name": "stderr",
     "output_type": "stream",
     "text": [
      "/Users/alex/anaconda3/envs/gc/lib/python3.6/site-packages/sklearn/preprocessing/label.py:151: DeprecationWarning: The truth value of an empty array is ambiguous. Returning False, but in future this will result in an error. Use `array.size > 0` to check that an array is not empty.\n",
      "  if diff:\n"
     ]
    }
   ],
   "source": [
    "# model = XGBClassifier(learning_rate=0.1,\n",
    "#                       n_estimators=100,         # 树的个数--1000棵树建立xgboost\n",
    "#                       max_depth=6,               # 树的深度\n",
    "#                       min_child_weight = 1,      # 叶子节点最小权重\n",
    "#                       gamma=0.,                  # 惩罚项中叶子结点个数前的参数\n",
    "#                       subsample=0.8,             # 随机选择80%样本建立决策树\n",
    "#                       colsample_btree=0.8,       # 随机选择80%特征建立决策树\n",
    "#                       objective='binary:logistic', # 指定损失函数\n",
    "#                       scale_pos_weight=90,        # 解决样本个数不平衡的问题\n",
    "#                       random_state=random_seed            # 随机数\n",
    "#                       )\n",
    "\n",
    "model = XGBClassifier(base_score=0.5, booster='gbtree', colsample_bylevel=1,\n",
    "       colsample_bytree=0.8, gamma=0, learning_rate=0.1, max_delta_step=0,\n",
    "       max_depth=4, min_child_weight=1, missing=None, n_estimators=1000,\n",
    "       n_jobs=1, nthread=None, objective='binary:logistic', random_state=0,\n",
    "       reg_alpha=0, reg_lambda=1, scale_pos_weight=1, seed=42, silent=True,\n",
    "       subsample=0.8)\n",
    "xgb_acc_valid = []\n",
    "xgb_precision_valid = []\n",
    "xgb_recall_valid = []\n",
    "xgb_f1_valid = []\n",
    "entries = []\n",
    "\n",
    "skf = StratifiedKFold(n_splits=cv, random_state=random_seed)\n",
    "skf.get_n_splits(X, y)\n",
    "for train_index, valid_index in skf.split(X, y):\n",
    "    X_train, X_valid = X[train_index], X[valid_index]\n",
    "    y_train, y_valid = y[train_index], y[valid_index]\n",
    "    X_train = clean_pipeline.fit_transform(X_train)\n",
    "    X_valid = clean_pipeline.fit_transform(X_valid)\n",
    "    # X_train_smote, y_train_smote = Smoter(X_train, y_train, is_random = True)\n",
    "    model.fit(X_train,\n",
    "              y_train,\n",
    "              eval_set = [(X_valid, y_valid)],\n",
    "              early_stopping_rounds = 50,\n",
    "              )\n",
    "    y_valid_pred = model.predict(X_valid)\n",
    "    xgb_acc_valid.append(accuracy_score(y_valid, y_valid_pred))\n",
    "    xgb_precision_valid.append(precision_score(y_valid, y_valid_pred))\n",
    "    xgb_recall_valid.append(recall_score(y_valid, y_valid_pred))\n",
    "    xgb_f1_valid.append(f1_score(y_valid, y_valid_pred))\n",
    "entries.append((np.mean(xgb_acc_valid), np.mean(xgb_precision_valid), np.mean(xgb_recall_valid), np.mean(xgb_f1_valid)))\n",
    "xgb_df = pd.DataFrame(entries, columns=['valid_accuracy', 'valid_precision', 'valid_recall', 'valid_f1'])"
   ]
  },
  {
   "cell_type": "code",
   "execution_count": null,
   "metadata": {},
   "outputs": [
    {
     "data": {
      "text/html": [
       "<div>\n",
       "<style scoped>\n",
       "    .dataframe tbody tr th:only-of-type {\n",
       "        vertical-align: middle;\n",
       "    }\n",
       "\n",
       "    .dataframe tbody tr th {\n",
       "        vertical-align: top;\n",
       "    }\n",
       "\n",
       "    .dataframe thead th {\n",
       "        text-align: right;\n",
       "    }\n",
       "</style>\n",
       "<table border=\"1\" class=\"dataframe\">\n",
       "  <thead>\n",
       "    <tr style=\"text-align: right;\">\n",
       "      <th></th>\n",
       "      <th>valid_accuracy</th>\n",
       "      <th>valid_precision</th>\n",
       "      <th>valid_recall</th>\n",
       "      <th>valid_f1</th>\n",
       "    </tr>\n",
       "  </thead>\n",
       "  <tbody>\n",
       "    <tr>\n",
       "      <th>0</th>\n",
       "      <td>0.989799</td>\n",
       "      <td>0.737498</td>\n",
       "      <td>0.491867</td>\n",
       "      <td>0.544718</td>\n",
       "    </tr>\n",
       "  </tbody>\n",
       "</table>\n",
       "</div>"
      ],
      "text/plain": [
       "   valid_accuracy  valid_precision  valid_recall  valid_f1\n",
       "0        0.989799         0.737498      0.491867  0.544718"
      ]
     },
     "execution_count": 10,
     "metadata": {},
     "output_type": "execute_result"
    }
   ],
   "source": [
    "xgb_df"
   ]
  },
  {
   "cell_type": "code",
   "execution_count": null,
   "metadata": {},
   "outputs": [
    {
     "name": "stderr",
     "output_type": "stream",
     "text": [
      "/Users/alex/anaconda3/envs/gc/lib/python3.6/site-packages/sklearn/preprocessing/label.py:151: DeprecationWarning: The truth value of an empty array is ambiguous. Returning False, but in future this will result in an error. Use `array.size > 0` to check that an array is not empty.\n",
      "  if diff:\n",
      "/Users/alex/anaconda3/envs/gc/lib/python3.6/site-packages/sklearn/preprocessing/label.py:151: DeprecationWarning: The truth value of an empty array is ambiguous. Returning False, but in future this will result in an error. Use `array.size > 0` to check that an array is not empty.\n",
      "  if diff:\n",
      "/Users/alex/anaconda3/envs/gc/lib/python3.6/site-packages/sklearn/preprocessing/label.py:151: DeprecationWarning: The truth value of an empty array is ambiguous. Returning False, but in future this will result in an error. Use `array.size > 0` to check that an array is not empty.\n",
      "  if diff:\n",
      "/Users/alex/anaconda3/envs/gc/lib/python3.6/site-packages/sklearn/preprocessing/label.py:151: DeprecationWarning: The truth value of an empty array is ambiguous. Returning False, but in future this will result in an error. Use `array.size > 0` to check that an array is not empty.\n",
      "  if diff:\n"
     ]
    }
   ],
   "source": [
    "param_test1 = {\n",
    "    'max_depth':np.arange(2,6,2),\n",
    "}\n",
    "\n",
    "gsearch1 = GridSearchCV(estimator = XGBClassifier(learning_rate =0.1, \n",
    "                                                  n_estimators=1000, \n",
    "                                                  gamma=0, \n",
    "                                                  subsample=0.8, \n",
    "                                                  colsample_bytree=0.8,\n",
    "                                                  objective= 'binary:logistic', \n",
    "                                                  scale_pos_weight=1, \n",
    "                                                  seed=random_seed), \n",
    "                                                 param_grid = param_test1, scoring=\"f1\", n_jobs=-1, cv=cv)\n",
    "X_train, X_valid, y_train, y_valid = train_test_split(X, y, test_size=test_size, stratify = y, random_state = random_seed)\n",
    "gsearch1.fit(X_train, y_train)\n",
    "\n",
    "gsearch1.grid_scores_, gsearch1.best_params_, gsearch1.best_score_"
   ]
  },
  {
   "cell_type": "code",
   "execution_count": null,
   "metadata": {},
   "outputs": [],
   "source": [
    "best_clf = gsearch1.best_estimator_\n",
    "best_clf.fit(X_train, y_train)\n",
    "\n",
    "y_valid_pred = best_clf.predict(X_valid)\n",
    "\n",
    "print(\"Valid f1: %f\" %(f1_score(y_valid, y_valid_pred)))"
   ]
  },
  {
   "cell_type": "code",
   "execution_count": null,
   "metadata": {},
   "outputs": [],
   "source": [
    "print(gsearch1.best_estimator_)"
   ]
  },
  {
   "cell_type": "code",
   "execution_count": null,
   "metadata": {},
   "outputs": [],
   "source": [
    "y_test_pred = best_clf.predict(X_test)\n",
    "\n",
    "print(\"Test f1: %f\" %(f1_score(y_test, y_test_pred)))"
   ]
  },
  {
   "cell_type": "code",
   "execution_count": null,
   "metadata": {},
   "outputs": [],
   "source": [
    "y_valid_pred = best_clf.predict(X_valid)\n",
    "\n",
    "print(\"Valid f1: %f\" %(f1_score(y_valid, y_valid_pred)))"
   ]
  },
  {
   "cell_type": "code",
   "execution_count": null,
   "metadata": {},
   "outputs": [],
   "source": []
  }
 ],
 "metadata": {
  "kernelspec": {
   "display_name": "Python [conda env:gc]",
   "language": "python",
   "name": "conda-env-gc-py"
  },
  "language_info": {
   "codemirror_mode": {
    "name": "ipython",
    "version": 3
   },
   "file_extension": ".py",
   "mimetype": "text/x-python",
   "name": "python",
   "nbconvert_exporter": "python",
   "pygments_lexer": "ipython3",
   "version": "3.6.3"
  }
 },
 "nbformat": 4,
 "nbformat_minor": 2
}
