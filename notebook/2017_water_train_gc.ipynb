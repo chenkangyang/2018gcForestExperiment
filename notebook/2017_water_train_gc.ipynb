{
 "cells": [
  {
   "cell_type": "code",
   "execution_count": 1,
   "metadata": {
    "collapsed": true
   },
   "outputs": [],
   "source": [
    "import pandas as pd\n",
    "import numpy as np\n",
    "\n",
    "from sklearn.model_selection import train_test_split\n",
    "from sklearn import preprocessing\n",
    "from sklearn.pipeline import Pipeline\n",
    "from sklearn.metrics import f1_score\n",
    "from sklearn.model_selection import StratifiedKFold\n",
    "\n",
    "import pickle\n",
    "\n",
    "import sys\n",
    "sys.path.append(\"..\") \n",
    "from gcforest.gcforest import GCForest\n",
    "from gcforest.utils.config_utils import load_json"
   ]
  },
  {
   "cell_type": "markdown",
   "metadata": {},
   "source": [
    "#### somte sampling"
   ]
  },
  {
   "cell_type": "code",
   "execution_count": 2,
   "metadata": {
    "collapsed": true
   },
   "outputs": [],
   "source": [
    "def Smoter(X, y, is_random=False):\n",
    "    if is_random == True:\n",
    "        # random_lst = list(np.random.randint(0, 1000, 4))\n",
    "        sm = SMOTE(random_state=random_seed)\n",
    "    elif is_random == False:\n",
    "        sm = SMOTE(random_state=0)\n",
    "\n",
    "    # sm = SMOTE(random_state=random_lst[2])\n",
    "    X_smote, y_smote = sm.fit_sample(X, y)\n",
    "\n",
    "    return X_smote, y_smote"
   ]
  },
  {
   "cell_type": "markdown",
   "metadata": {},
   "source": [
    "#### evaluate function"
   ]
  },
  {
   "cell_type": "code",
   "execution_count": 3,
   "metadata": {
    "collapsed": true
   },
   "outputs": [],
   "source": [
    "def evaluate(true, pred):\n",
    "    # compute accuracy, precision and recall\n",
    "    TP, FP, TN, FN = 0, 0, 0, 0\n",
    "\n",
    "    for i in range(0, len(pred)):\n",
    "        if pred[i] == true[i] and true[i] == 1:\n",
    "            TP += 1\n",
    "        elif pred[i] == true[i] and true[i] == 0:\n",
    "            TN += 1\n",
    "        elif pred[i] != true[i] and true[i] == 0:\n",
    "            FP += 1\n",
    "        elif pred[i] != true[i] and true[i] == 1:\n",
    "            FN += 1\n",
    "\n",
    "    precision = TP/(TP + FP)\n",
    "    recall = TP/(TP + FN)\n",
    "    accuracy = (TP+TN)/(TP+TN+FN+FP)\n",
    "    \n",
    "    print('TP=',TP,'FP=',FP,'TN=',TN,'FN=',FN)\n",
    "    F1 = 2*precision*recall / (precision + recall)\n",
    "    print(\"precision\", precision,\"\\nrecall\", recall,\"\\naccuracy\", accuracy)\n",
    "    print('F1=',F1)\n",
    "    return F1, accuracy, precision, recall"
   ]
  },
  {
   "cell_type": "markdown",
   "metadata": {},
   "source": [
    "#### Batch\n",
    "\n",
    "combine serveral datas‘ features together"
   ]
  },
  {
   "cell_type": "code",
   "execution_count": 4,
   "metadata": {
    "collapsed": true
   },
   "outputs": [],
   "source": [
    "def Batch(X, y, size):\n",
    "    batch_size = size\n",
    "\n",
    "    X_trim = X\n",
    "    y_trim = y\n",
    "\n",
    "    if len(X) % batch_size != 0:\n",
    "        extra_num = len(X) % batch_size\n",
    "        X_trim = np.delete(X, range(len(X) - extra_num, len(X)), axis = 0)\n",
    "        y_trim = np.delete(y, range(len(y) - extra_num, len(y)), axis = 0)\n",
    "\n",
    "    X_batch = np.split(X_trim, len(X_trim)/batch_size)\n",
    "    y_batch = np.split(y_trim, len(y_trim)/batch_size)\n",
    "\n",
    "    num_batch = 0\n",
    "\n",
    "    for each_batch in X_batch:\n",
    "        X_batch[num_batch] = np.reshape(X_batch[num_batch], (9*batch_size))\n",
    "        y_batch[num_batch] = y_batch[num_batch][-1]\n",
    "        num_batch += 1\n",
    "\n",
    "    X_batch = np.array(X_batch)\n",
    "    y_batch = np.array(y_batch)\n",
    "    return X_batch, y_batch"
   ]
  },
  {
   "cell_type": "markdown",
   "metadata": {},
   "source": [
    "#### gc_config"
   ]
  },
  {
   "cell_type": "code",
   "execution_count": 5,
   "metadata": {
    "collapsed": true
   },
   "outputs": [],
   "source": [
    "def get_toy_config():\n",
    "    config = {}\n",
    "    ca_config = {}\n",
    "    ca_config[\"random_state\"] = random_seed\n",
    "    ca_config[\"max_layers\"] = 10\n",
    "    ca_config[\"early_stopping_rounds\"] = 3\n",
    "    ca_config[\"n_classes\"] = 2\n",
    "    ca_config[\"estimators\"] = []\n",
    "    ca_config[\"estimators\"].append({\"n_folds\": 5, \"type\": \"RandomForestClassifier\", \"n_estimators\": 10, \"max_depth\": None, \"n_jobs\": -1})\n",
    "    ca_config[\"estimators\"].append({\"n_folds\": 5, \n",
    "                                    \"type\": \"XGBClassifier\", \n",
    "                                    \"n_estimators\": 1150, \n",
    "                                    \"learning_rate\": 0.1,\n",
    "                                    \"max_depth\":4,\n",
    "                                    \"gamma\":0,\n",
    "                                    \"subsample\":0.8,\n",
    "                                    \"colsample_bytree\":0.8,\n",
    "                                    \"objective\":'binary:logistic',\n",
    "                                    \"scale_pos_weight\":0.7999,\n",
    "                                    \"seed\":random_seed,\n",
    "                                    \"n_jobs\": -1})\n",
    "    ca_config[\"estimators\"].append({\"n_folds\": 5, \n",
    "                                    \"type\": \"XGBClassifier\", \n",
    "                                    \"n_estimators\": 1000, \n",
    "                                    \"max_depth\":4,\n",
    "                                    \"learning_rate\": 0.1,\n",
    "                                    \"gamma\":0,\n",
    "                                    \"subsample\":0.8,\n",
    "                                    \"colsample_bytree\":0.8,\n",
    "                                    \"objective\":'binary:logistic',\n",
    "                                    \"scale_pos_weight\":1,\n",
    "                                    \"seed\":random_seed,\n",
    "                                    \"n_jobs\": -1})\n",
    "    config[\"cascade\"] = ca_config\n",
    "    return config"
   ]
  },
  {
   "cell_type": "markdown",
   "metadata": {},
   "source": [
    "### HyperParameter"
   ]
  },
  {
   "cell_type": "code",
   "execution_count": 6,
   "metadata": {
    "collapsed": true
   },
   "outputs": [],
   "source": [
    "batch_size = 3\n",
    "test_size = 0.33\n",
    "random_seed = 42\n",
    "cv = 5"
   ]
  },
  {
   "cell_type": "markdown",
   "metadata": {},
   "source": [
    "# load train"
   ]
  },
  {
   "cell_type": "code",
   "execution_count": 7,
   "metadata": {
    "collapsed": true
   },
   "outputs": [],
   "source": [
    "data_all = pd.read_csv(\"../data/water/csv/train2017.csv\")\n",
    "\n",
    "X_train = data_all.values[:, 0:-1]\n",
    "y_train = data_all.values[:, -1]"
   ]
  },
  {
   "cell_type": "markdown",
   "metadata": {},
   "source": [
    "#### train_valid_split"
   ]
  },
  {
   "cell_type": "code",
   "execution_count": 8,
   "metadata": {
    "collapsed": true
   },
   "outputs": [],
   "source": [
    "# print(\"============ train_valid_split ============\")\n",
    "# X_train, X_valid, y_train, y_valid = train_test_split(X, y,test_size=test_size, stratify=y, random_state=random_seed)\n",
    "# print(\"train: %d, valid: %d\" %(X_train.shape[0], X_valid.shape[0]))"
   ]
  },
  {
   "cell_type": "markdown",
   "metadata": {},
   "source": [
    "### clean the data before somte\n",
    "\n",
    "fulfill the Na with median, then standardized the data, output type ndarray"
   ]
  },
  {
   "cell_type": "code",
   "execution_count": 9,
   "metadata": {},
   "outputs": [
    {
     "name": "stderr",
     "output_type": "stream",
     "text": [
      "C:\\Users\\80743\\AppData\\Roaming\\Python\\Python36\\site-packages\\sklearn\\utils\\deprecation.py:58: DeprecationWarning: Class Imputer is deprecated; Imputer was deprecated in version 0.20 and will be removed in 0.22. Import impute.SimpleImputer from sklearn instead.\n",
      "  warnings.warn(msg, category=DeprecationWarning)\n"
     ]
    }
   ],
   "source": [
    "clean_pipeline = Pipeline([('imputer', preprocessing.Imputer(missing_values='NaN',strategy=\"median\")),\n",
    "                           ('std_scaler', preprocessing.StandardScaler()),])\n",
    "X_train = clean_pipeline.fit_transform(X_train)\n",
    "# X_valid = clean_pipeline.fit_transform(X_valid)"
   ]
  },
  {
   "cell_type": "markdown",
   "metadata": {},
   "source": [
    "#### Do somte sampling on the train data to solve data imblance problem"
   ]
  },
  {
   "cell_type": "code",
   "execution_count": 10,
   "metadata": {
    "collapsed": true
   },
   "outputs": [],
   "source": [
    "# X_train_oversampled, y_train_oversampled = Smoter(X_train, y_train, is_random=True)\n",
    "# print(\"============ SMOTE ============\")\n",
    "# print(\"train: %d, contains %.4f of 0 , after SMOTE: train: %d contains %.4f of 1\" %(X_train.shape[0], (y_train == 0).sum()/y_train.shape[0], X_train_oversampled.shape[0], (y_train_oversampled == 0).sum()/y_train_oversampled.shape[0]))"
   ]
  },
  {
   "cell_type": "code",
   "execution_count": 11,
   "metadata": {
    "collapsed": true
   },
   "outputs": [],
   "source": [
    "# X_train_oversampled_batch, y_train_oversampled_batch = Batch(X_train_oversampled, y_train_oversampled, batch_size)\n",
    "# X_train_batch, y_train_batch = Batch(X_train, y_train, batch_size)\n",
    "# X_valid_batch, y_valid_batch = Batch(X_valid, y_valid, batch_size)"
   ]
  },
  {
   "cell_type": "markdown",
   "metadata": {},
   "source": [
    "# GcForest\n",
    "\n",
    "## test gc"
   ]
  },
  {
   "cell_type": "markdown",
   "metadata": {},
   "source": [
    "# load 2017 Test datasets"
   ]
  },
  {
   "cell_type": "code",
   "execution_count": 12,
   "metadata": {
    "collapsed": true
   },
   "outputs": [],
   "source": [
    "test = pd.read_csv(\"../data/water/csv/test2017.csv\")\n",
    "\n",
    "X_test = test.values[:, 0:-1]\n",
    "y_test = test.values[:, -1]\n",
    "\n",
    "X_test = clean_pipeline.fit_transform(X_test)"
   ]
  },
  {
   "cell_type": "code",
   "execution_count": 13,
   "metadata": {},
   "outputs": [
    {
     "name": "stderr",
     "output_type": "stream",
     "text": [
      "[ 2019-03-10 23:56:25,327][cascade_classifier.fit_transform] X_groups_train.shape=[(110812, 9)],y_train.shape=(110812,),X_groups_test.shape=[(244668, 9)],y_test.shape=(244668,)\n",
      "[ 2019-03-10 23:56:25,374][cascade_classifier.fit_transform] group_dims=[9]\n",
      "[ 2019-03-10 23:56:25,374][cascade_classifier.fit_transform] group_starts=[0]\n",
      "[ 2019-03-10 23:56:25,390][cascade_classifier.fit_transform] group_ends=[9]\n",
      "[ 2019-03-10 23:56:25,390][cascade_classifier.fit_transform] X_train.shape=(110812, 9),X_test.shape=(244668, 9)\n",
      "[ 2019-03-10 23:56:25,421][cascade_classifier.fit_transform] [layer=0] look_indexs=[0], X_cur_train.shape=(110812, 9), X_cur_test.shape=(244668, 9)\n",
      "[ 2019-03-10 23:56:27,015][kfold_wrapper.log_eval_metrics] F1 (layer_0 - estimator_0 - 5_folds.train_0.predict)=99.13%\n",
      "[ 2019-03-10 23:56:28,124][kfold_wrapper.log_eval_metrics] F1 (layer_0 - estimator_0 - 5_folds.train_1.predict)=99.42%\n",
      "[ 2019-03-10 23:56:29,358][kfold_wrapper.log_eval_metrics] F1 (layer_0 - estimator_0 - 5_folds.train_2.predict)=98.98%\n",
      "[ 2019-03-10 23:56:30,499][kfold_wrapper.log_eval_metrics] F1 (layer_0 - estimator_0 - 5_folds.train_3.predict)=99.42%\n",
      "[ 2019-03-10 23:56:32,186][kfold_wrapper.log_eval_metrics] F1 (layer_0 - estimator_0 - 5_folds.train_4.predict)=99.28%\n",
      "[ 2019-03-10 23:56:32,499][kfold_wrapper.log_eval_metrics] F1 (layer_0 - estimator_0 - 5_folds.train_cv.predict)=99.25%\n",
      "[ 2019-03-10 23:56:32,624][kfold_wrapper.log_eval_metrics] F1 (layer_0 - estimator_0 - 5_folds.test.predict)=97.68%\n",
      "[ 2019-03-10 23:57:46,259][kfold_wrapper.log_eval_metrics] F1 (layer_0 - estimator_1 - 5_folds.train_0.predict)=98.98%\n",
      "[ 2019-03-10 23:59:13,847][kfold_wrapper.log_eval_metrics] F1 (layer_0 - estimator_1 - 5_folds.train_1.predict)=99.71%\n",
      "[ 2019-03-11 00:00:38,107][kfold_wrapper.log_eval_metrics] F1 (layer_0 - estimator_1 - 5_folds.train_2.predict)=99.13%\n",
      "[ 2019-03-11 00:01:45,728][kfold_wrapper.log_eval_metrics] F1 (layer_0 - estimator_1 - 5_folds.train_3.predict)=99.28%\n",
      "[ 2019-03-11 00:02:56,707][kfold_wrapper.log_eval_metrics] F1 (layer_0 - estimator_1 - 5_folds.train_4.predict)=99.71%\n",
      "[ 2019-03-11 00:03:00,473][kfold_wrapper.log_eval_metrics] F1 (layer_0 - estimator_1 - 5_folds.train_cv.predict)=99.37%\n",
      "[ 2019-03-11 00:03:00,660][kfold_wrapper.log_eval_metrics] F1 (layer_0 - estimator_1 - 5_folds.test.predict)=97.69%\n",
      "[ 2019-03-11 00:03:53,422][kfold_wrapper.log_eval_metrics] F1 (layer_0 - estimator_2 - 5_folds.train_0.predict)=99.71%\n",
      "[ 2019-03-11 00:04:49,387][kfold_wrapper.log_eval_metrics] F1 (layer_0 - estimator_2 - 5_folds.train_1.predict)=99.42%\n",
      "[ 2019-03-11 00:05:44,884][kfold_wrapper.log_eval_metrics] F1 (layer_0 - estimator_2 - 5_folds.train_2.predict)=99.28%\n",
      "[ 2019-03-11 00:06:40,927][kfold_wrapper.log_eval_metrics] F1 (layer_0 - estimator_2 - 5_folds.train_3.predict)=99.42%\n",
      "[ 2019-03-11 00:07:37,985][kfold_wrapper.log_eval_metrics] F1 (layer_0 - estimator_2 - 5_folds.train_4.predict)=99.13%\n",
      "[ 2019-03-11 00:07:41,079][kfold_wrapper.log_eval_metrics] F1 (layer_0 - estimator_2 - 5_folds.train_cv.predict)=99.39%\n",
      "[ 2019-03-11 00:07:41,251][kfold_wrapper.log_eval_metrics] F1 (layer_0 - estimator_2 - 5_folds.test.predict)=97.82%\n",
      "[ 2019-03-11 00:07:41,329][cascade_classifier.calc_f1] F1 (layer_0 - train.classifier_average)=99.36%\n",
      "[ 2019-03-11 00:07:41,516][cascade_classifier.calc_f1] F1 (layer_0 - test.classifier_average)=97.70%\n",
      "[ 2019-03-11 00:07:41,594][cascade_classifier.fit_transform] [layer=1] look_indexs=[0], X_cur_train.shape=(110812, 15), X_cur_test.shape=(244668, 15)\n",
      "[ 2019-03-11 00:07:42,282][kfold_wrapper.log_eval_metrics] F1 (layer_1 - estimator_0 - 5_folds.train_0.predict)=99.57%\n",
      "[ 2019-03-11 00:07:43,282][kfold_wrapper.log_eval_metrics] F1 (layer_1 - estimator_0 - 5_folds.train_1.predict)=99.28%\n",
      "[ 2019-03-11 00:07:44,157][kfold_wrapper.log_eval_metrics] F1 (layer_1 - estimator_0 - 5_folds.train_2.predict)=99.13%\n",
      "[ 2019-03-11 00:07:45,157][kfold_wrapper.log_eval_metrics] F1 (layer_1 - estimator_0 - 5_folds.train_3.predict)=99.28%\n",
      "[ 2019-03-11 00:07:46,047][kfold_wrapper.log_eval_metrics] F1 (layer_1 - estimator_0 - 5_folds.train_4.predict)=99.71%\n",
      "[ 2019-03-11 00:07:46,375][kfold_wrapper.log_eval_metrics] F1 (layer_1 - estimator_0 - 5_folds.train_cv.predict)=99.39%\n",
      "[ 2019-03-11 00:07:48,719][kfold_wrapper.log_eval_metrics] F1 (layer_1 - estimator_0 - 5_folds.test.predict)=97.82%\n",
      "[ 2019-03-11 00:08:47,106][kfold_wrapper.log_eval_metrics] F1 (layer_1 - estimator_1 - 5_folds.train_0.predict)=99.57%\n",
      "[ 2019-03-11 00:09:53,789][kfold_wrapper.log_eval_metrics] F1 (layer_1 - estimator_1 - 5_folds.train_1.predict)=99.28%\n",
      "[ 2019-03-11 00:10:59,784][kfold_wrapper.log_eval_metrics] F1 (layer_1 - estimator_1 - 5_folds.train_2.predict)=99.57%\n",
      "[ 2019-03-11 00:12:04,436][kfold_wrapper.log_eval_metrics] F1 (layer_1 - estimator_1 - 5_folds.train_3.predict)=98.98%\n",
      "[ 2019-03-11 00:13:10,541][kfold_wrapper.log_eval_metrics] F1 (layer_1 - estimator_1 - 5_folds.train_4.predict)=99.28%\n",
      "[ 2019-03-11 00:13:12,932][kfold_wrapper.log_eval_metrics] F1 (layer_1 - estimator_1 - 5_folds.train_cv.predict)=99.34%\n",
      "[ 2019-03-11 00:13:13,119][kfold_wrapper.log_eval_metrics] F1 (layer_1 - estimator_1 - 5_folds.test.predict)=97.68%\n",
      "[ 2019-03-11 00:14:10,896][kfold_wrapper.log_eval_metrics] F1 (layer_1 - estimator_2 - 5_folds.train_0.predict)=99.42%\n",
      "[ 2019-03-11 00:15:08,814][kfold_wrapper.log_eval_metrics] F1 (layer_1 - estimator_2 - 5_folds.train_1.predict)=99.57%\n",
      "[ 2019-03-11 00:16:09,248][kfold_wrapper.log_eval_metrics] F1 (layer_1 - estimator_2 - 5_folds.train_2.predict)=99.57%\n",
      "[ 2019-03-11 00:17:08,791][kfold_wrapper.log_eval_metrics] F1 (layer_1 - estimator_2 - 5_folds.train_3.predict)=98.99%\n",
      "[ 2019-03-11 00:18:02,772][kfold_wrapper.log_eval_metrics] F1 (layer_1 - estimator_2 - 5_folds.train_4.predict)=98.99%\n",
      "[ 2019-03-11 00:18:04,615][kfold_wrapper.log_eval_metrics] F1 (layer_1 - estimator_2 - 5_folds.train_cv.predict)=99.31%\n",
      "[ 2019-03-11 00:18:04,803][kfold_wrapper.log_eval_metrics] F1 (layer_1 - estimator_2 - 5_folds.test.predict)=97.68%\n",
      "[ 2019-03-11 00:18:04,881][cascade_classifier.calc_f1] F1 (layer_1 - train.classifier_average)=99.37%\n",
      "[ 2019-03-11 00:18:05,053][cascade_classifier.calc_f1] F1 (layer_1 - test.classifier_average)=97.68%\n",
      "[ 2019-03-11 00:18:05,131][cascade_classifier.fit_transform] [layer=2] look_indexs=[0], X_cur_train.shape=(110812, 15), X_cur_test.shape=(244668, 15)\n",
      "[ 2019-03-11 00:18:05,834][kfold_wrapper.log_eval_metrics] F1 (layer_2 - estimator_0 - 5_folds.train_0.predict)=99.28%\n",
      "[ 2019-03-11 00:18:06,693][kfold_wrapper.log_eval_metrics] F1 (layer_2 - estimator_0 - 5_folds.train_1.predict)=99.42%\n",
      "[ 2019-03-11 00:18:07,584][kfold_wrapper.log_eval_metrics] F1 (layer_2 - estimator_0 - 5_folds.train_2.predict)=99.28%\n",
      "[ 2019-03-11 00:18:08,490][kfold_wrapper.log_eval_metrics] F1 (layer_2 - estimator_0 - 5_folds.train_3.predict)=99.28%\n",
      "[ 2019-03-11 00:18:09,380][kfold_wrapper.log_eval_metrics] F1 (layer_2 - estimator_0 - 5_folds.train_4.predict)=99.28%\n",
      "[ 2019-03-11 00:18:09,615][kfold_wrapper.log_eval_metrics] F1 (layer_2 - estimator_0 - 5_folds.train_cv.predict)=99.31%\n",
      "[ 2019-03-11 00:18:09,802][kfold_wrapper.log_eval_metrics] F1 (layer_2 - estimator_0 - 5_folds.test.predict)=97.72%\n",
      "[ 2019-03-11 00:19:15,704][kfold_wrapper.log_eval_metrics] F1 (layer_2 - estimator_1 - 5_folds.train_0.predict)=99.28%\n",
      "[ 2019-03-11 00:20:18,372][kfold_wrapper.log_eval_metrics] F1 (layer_2 - estimator_1 - 5_folds.train_1.predict)=98.55%\n",
      "[ 2019-03-11 00:21:26,617][kfold_wrapper.log_eval_metrics] F1 (layer_2 - estimator_1 - 5_folds.train_2.predict)=99.13%\n",
      "[ 2019-03-11 00:22:36,831][kfold_wrapper.log_eval_metrics] F1 (layer_2 - estimator_1 - 5_folds.train_3.predict)=99.71%\n",
      "[ 2019-03-11 00:23:50,045][kfold_wrapper.log_eval_metrics] F1 (layer_2 - estimator_1 - 5_folds.train_4.predict)=99.42%\n",
      "[ 2019-03-11 00:23:52,686][kfold_wrapper.log_eval_metrics] F1 (layer_2 - estimator_1 - 5_folds.train_cv.predict)=99.22%\n",
      "[ 2019-03-11 00:23:52,889][kfold_wrapper.log_eval_metrics] F1 (layer_2 - estimator_1 - 5_folds.test.predict)=97.76%\n",
      "[ 2019-03-11 00:24:48,244][kfold_wrapper.log_eval_metrics] F1 (layer_2 - estimator_2 - 5_folds.train_0.predict)=99.13%\n",
      "[ 2019-03-11 00:25:47,209][kfold_wrapper.log_eval_metrics] F1 (layer_2 - estimator_2 - 5_folds.train_1.predict)=99.13%\n"
     ]
    },
    {
     "name": "stderr",
     "output_type": "stream",
     "text": [
      "[ 2019-03-11 00:26:48,361][kfold_wrapper.log_eval_metrics] F1 (layer_2 - estimator_2 - 5_folds.train_2.predict)=99.28%\n",
      "[ 2019-03-11 00:27:48,842][kfold_wrapper.log_eval_metrics] F1 (layer_2 - estimator_2 - 5_folds.train_3.predict)=99.14%\n",
      "[ 2019-03-11 00:28:51,415][kfold_wrapper.log_eval_metrics] F1 (layer_2 - estimator_2 - 5_folds.train_4.predict)=99.57%\n",
      "[ 2019-03-11 00:28:53,806][kfold_wrapper.log_eval_metrics] F1 (layer_2 - estimator_2 - 5_folds.train_cv.predict)=99.25%\n",
      "[ 2019-03-11 00:28:53,993][kfold_wrapper.log_eval_metrics] F1 (layer_2 - estimator_2 - 5_folds.test.predict)=97.76%\n",
      "[ 2019-03-11 00:28:54,056][cascade_classifier.calc_f1] F1 (layer_2 - train.classifier_average)=99.25%\n",
      "[ 2019-03-11 00:28:54,228][cascade_classifier.calc_f1] F1 (layer_2 - test.classifier_average)=97.76%\n",
      "[ 2019-03-11 00:28:54,322][cascade_classifier.fit_transform] [layer=3] look_indexs=[0], X_cur_train.shape=(110812, 15), X_cur_test.shape=(244668, 15)\n",
      "[ 2019-03-11 00:28:54,993][kfold_wrapper.log_eval_metrics] F1 (layer_3 - estimator_0 - 5_folds.train_0.predict)=99.28%\n",
      "[ 2019-03-11 00:28:55,884][kfold_wrapper.log_eval_metrics] F1 (layer_3 - estimator_0 - 5_folds.train_1.predict)=99.57%\n",
      "[ 2019-03-11 00:28:56,821][kfold_wrapper.log_eval_metrics] F1 (layer_3 - estimator_0 - 5_folds.train_2.predict)=99.13%\n",
      "[ 2019-03-11 00:28:57,743][kfold_wrapper.log_eval_metrics] F1 (layer_3 - estimator_0 - 5_folds.train_3.predict)=99.28%\n",
      "[ 2019-03-11 00:28:58,634][kfold_wrapper.log_eval_metrics] F1 (layer_3 - estimator_0 - 5_folds.train_4.predict)=98.71%\n",
      "[ 2019-03-11 00:28:58,977][kfold_wrapper.log_eval_metrics] F1 (layer_3 - estimator_0 - 5_folds.train_cv.predict)=99.19%\n",
      "[ 2019-03-11 00:28:59,165][kfold_wrapper.log_eval_metrics] F1 (layer_3 - estimator_0 - 5_folds.test.predict)=97.68%\n",
      "[ 2019-03-11 00:30:07,067][kfold_wrapper.log_eval_metrics] F1 (layer_3 - estimator_1 - 5_folds.train_0.predict)=99.13%\n",
      "[ 2019-03-11 00:31:18,890][kfold_wrapper.log_eval_metrics] F1 (layer_3 - estimator_1 - 5_folds.train_1.predict)=99.28%\n",
      "[ 2019-03-11 00:32:30,198][kfold_wrapper.log_eval_metrics] F1 (layer_3 - estimator_1 - 5_folds.train_2.predict)=99.14%\n",
      "[ 2019-03-11 00:33:33,912][kfold_wrapper.log_eval_metrics] F1 (layer_3 - estimator_1 - 5_folds.train_3.predict)=98.84%\n",
      "[ 2019-03-11 00:34:45,470][kfold_wrapper.log_eval_metrics] F1 (layer_3 - estimator_1 - 5_folds.train_4.predict)=99.57%\n",
      "[ 2019-03-11 00:34:48,360][kfold_wrapper.log_eval_metrics] F1 (layer_3 - estimator_1 - 5_folds.train_cv.predict)=99.19%\n",
      "[ 2019-03-11 00:34:48,548][kfold_wrapper.log_eval_metrics] F1 (layer_3 - estimator_1 - 5_folds.test.predict)=97.68%\n",
      "[ 2019-03-11 00:35:46,841][kfold_wrapper.log_eval_metrics] F1 (layer_3 - estimator_2 - 5_folds.train_0.predict)=99.14%\n",
      "[ 2019-03-11 00:36:49,336][kfold_wrapper.log_eval_metrics] F1 (layer_3 - estimator_2 - 5_folds.train_1.predict)=99.57%\n",
      "[ 2019-03-11 00:37:55,238][kfold_wrapper.log_eval_metrics] F1 (layer_3 - estimator_2 - 5_folds.train_2.predict)=99.13%\n",
      "[ 2019-03-11 00:38:54,578][kfold_wrapper.log_eval_metrics] F1 (layer_3 - estimator_2 - 5_folds.train_3.predict)=98.99%\n",
      "[ 2019-03-11 00:39:57,621][kfold_wrapper.log_eval_metrics] F1 (layer_3 - estimator_2 - 5_folds.train_4.predict)=99.57%\n",
      "[ 2019-03-11 00:40:00,199][kfold_wrapper.log_eval_metrics] F1 (layer_3 - estimator_2 - 5_folds.train_cv.predict)=99.28%\n",
      "[ 2019-03-11 00:40:00,386][kfold_wrapper.log_eval_metrics] F1 (layer_3 - estimator_2 - 5_folds.test.predict)=97.68%\n",
      "[ 2019-03-11 00:40:00,464][cascade_classifier.calc_f1] F1 (layer_3 - train.classifier_average)=99.16%\n",
      "[ 2019-03-11 00:40:00,652][cascade_classifier.calc_f1] F1 (layer_3 - test.classifier_average)=97.68%\n",
      "[ 2019-03-11 00:40:00,730][cascade_classifier.fit_transform] [layer=4] look_indexs=[0], X_cur_train.shape=(110812, 15), X_cur_test.shape=(244668, 15)\n",
      "[ 2019-03-11 00:40:01,589][kfold_wrapper.log_eval_metrics] F1 (layer_4 - estimator_0 - 5_folds.train_0.predict)=99.14%\n",
      "[ 2019-03-11 00:40:02,558][kfold_wrapper.log_eval_metrics] F1 (layer_4 - estimator_0 - 5_folds.train_1.predict)=98.70%\n",
      "[ 2019-03-11 00:40:03,464][kfold_wrapper.log_eval_metrics] F1 (layer_4 - estimator_0 - 5_folds.train_2.predict)=98.99%\n",
      "[ 2019-03-11 00:40:04,355][kfold_wrapper.log_eval_metrics] F1 (layer_4 - estimator_0 - 5_folds.train_3.predict)=99.42%\n",
      "[ 2019-03-11 00:40:05,355][kfold_wrapper.log_eval_metrics] F1 (layer_4 - estimator_0 - 5_folds.train_4.predict)=99.57%\n",
      "[ 2019-03-11 00:40:05,667][kfold_wrapper.log_eval_metrics] F1 (layer_4 - estimator_0 - 5_folds.train_cv.predict)=99.16%\n",
      "[ 2019-03-11 00:40:05,855][kfold_wrapper.log_eval_metrics] F1 (layer_4 - estimator_0 - 5_folds.test.predict)=97.68%\n",
      "[ 2019-03-11 00:41:14,225][kfold_wrapper.log_eval_metrics] F1 (layer_4 - estimator_1 - 5_folds.train_0.predict)=99.42%\n",
      "[ 2019-03-11 00:42:21,095][kfold_wrapper.log_eval_metrics] F1 (layer_4 - estimator_1 - 5_folds.train_1.predict)=98.84%\n",
      "[ 2019-03-11 00:43:32,669][kfold_wrapper.log_eval_metrics] F1 (layer_4 - estimator_1 - 5_folds.train_2.predict)=99.43%\n",
      "[ 2019-03-11 00:44:41,102][kfold_wrapper.log_eval_metrics] F1 (layer_4 - estimator_1 - 5_folds.train_3.predict)=98.84%\n",
      "[ 2019-03-11 00:45:51,472][kfold_wrapper.log_eval_metrics] F1 (layer_4 - estimator_1 - 5_folds.train_4.predict)=98.99%\n",
      "[ 2019-03-11 00:45:54,112][kfold_wrapper.log_eval_metrics] F1 (layer_4 - estimator_1 - 5_folds.train_cv.predict)=99.11%\n",
      "[ 2019-03-11 00:45:54,300][kfold_wrapper.log_eval_metrics] F1 (layer_4 - estimator_1 - 5_folds.test.predict)=97.68%\n",
      "[ 2019-03-11 00:46:55,686][kfold_wrapper.log_eval_metrics] F1 (layer_4 - estimator_2 - 5_folds.train_0.predict)=99.43%\n",
      "[ 2019-03-11 00:47:55,370][kfold_wrapper.log_eval_metrics] F1 (layer_4 - estimator_2 - 5_folds.train_1.predict)=98.84%\n",
      "[ 2019-03-11 00:48:57,506][kfold_wrapper.log_eval_metrics] F1 (layer_4 - estimator_2 - 5_folds.train_2.predict)=99.42%\n",
      "[ 2019-03-11 00:49:59,221][kfold_wrapper.log_eval_metrics] F1 (layer_4 - estimator_2 - 5_folds.train_3.predict)=98.99%\n",
      "[ 2019-03-11 00:51:00,186][kfold_wrapper.log_eval_metrics] F1 (layer_4 - estimator_2 - 5_folds.train_4.predict)=98.99%\n",
      "[ 2019-03-11 00:51:02,560][kfold_wrapper.log_eval_metrics] F1 (layer_4 - estimator_2 - 5_folds.train_cv.predict)=99.13%\n",
      "[ 2019-03-11 00:51:02,732][kfold_wrapper.log_eval_metrics] F1 (layer_4 - estimator_2 - 5_folds.test.predict)=97.68%\n",
      "[ 2019-03-11 00:51:02,795][cascade_classifier.calc_f1] F1 (layer_4 - train.classifier_average)=99.13%\n",
      "[ 2019-03-11 00:51:02,982][cascade_classifier.calc_f1] F1 (layer_4 - test.classifier_average)=97.68%\n",
      "[ 2019-03-11 00:51:02,982][cascade_classifier.fit_transform] [Result][Optimal Level Detected] opt_layer_num=2, f1_train=99.37%, f1_test=97.68%\n"
     ]
    },
    {
     "data": {
      "text/plain": [
       "(array([[1.00000000e+00, 0.00000000e+00, 9.99999940e-01, 7.14665163e-08,\n",
       "         9.99999642e-01, 3.66661766e-07],\n",
       "        [1.00000000e+00, 0.00000000e+00, 9.99999762e-01, 2.21722630e-07,\n",
       "         9.99999881e-01, 1.12284525e-07],\n",
       "        [1.00000000e+00, 0.00000000e+00, 9.99999762e-01, 2.56806175e-07,\n",
       "         9.99999940e-01, 5.28441682e-08],\n",
       "        ...,\n",
       "        [1.00000000e+00, 0.00000000e+00, 9.99988973e-01, 1.10513101e-05,\n",
       "         9.99999642e-01, 3.68262533e-07],\n",
       "        [1.00000000e+00, 0.00000000e+00, 9.99986649e-01, 1.33611438e-05,\n",
       "         9.99998987e-01, 1.01579201e-06],\n",
       "        [1.00000000e+00, 0.00000000e+00, 9.99999344e-01, 6.51435812e-07,\n",
       "         9.99998271e-01, 1.69875523e-06]], dtype=float32),\n",
       " array([[1.0000000e+00, 0.0000000e+00, 9.9999934e-01, 6.8365074e-07,\n",
       "         9.9999934e-01, 6.0428459e-07],\n",
       "        [1.0000000e+00, 0.0000000e+00, 9.9999952e-01, 4.4241665e-07,\n",
       "         9.9999964e-01, 3.5148148e-07],\n",
       "        [1.0000000e+00, 0.0000000e+00, 9.9999917e-01, 9.0596177e-07,\n",
       "         9.9999923e-01, 8.3422253e-07],\n",
       "        ...,\n",
       "        [0.0000000e+00, 1.0000000e+00, 1.8739700e-04, 9.9981260e-01,\n",
       "         7.4172021e-05, 9.9992579e-01],\n",
       "        [0.0000000e+00, 1.0000000e+00, 1.8739700e-04, 9.9981260e-01,\n",
       "         7.4172021e-05, 9.9992579e-01],\n",
       "        [0.0000000e+00, 1.0000000e+00, 1.8739700e-04, 9.9981260e-01,\n",
       "         7.4172021e-05, 9.9992579e-01]], dtype=float32))"
      ]
     },
     "execution_count": 13,
     "metadata": {},
     "output_type": "execute_result"
    }
   ],
   "source": [
    "# X_train, X_valid, y_train, y_valid = train_test_split(X, y, test_size=test_size, stratify = y, random_state = random_seed)\n",
    "\n",
    "# X_train_oversampled, y_train_oversampled = Smoter(X_train, y_train, is_random=True)\n",
    "config = get_toy_config()\n",
    "gc = GCForest(config)\n",
    "\n",
    "gc.fit_transform(X_train, y_train, X_test, y_test)\n",
    "# y_valid_pred = gc.predict(X_valid)"
   ]
  },
  {
   "cell_type": "code",
   "execution_count": 14,
   "metadata": {
    "collapsed": true
   },
   "outputs": [],
   "source": [
    "# dump\n",
    "with open(\"../pkl/2017_gc.pkl\", \"wb\") as f:\n",
    "    pickle.dump(gc, f, pickle.HIGHEST_PROTOCOL)\n",
    "    \n",
    "# # load\n",
    "# with open(\"../pkl/2018_gc.pkl\", \"rb\") as f:\n",
    "#     gc = pickle.load(f)"
   ]
  },
  {
   "cell_type": "code",
   "execution_count": null,
   "metadata": {
    "collapsed": true
   },
   "outputs": [],
   "source": []
  }
 ],
 "metadata": {
  "kernelspec": {
   "display_name": "Python [default]",
   "language": "python",
   "name": "python3"
  },
  "language_info": {
   "codemirror_mode": {
    "name": "ipython",
    "version": 3
   },
   "file_extension": ".py",
   "mimetype": "text/x-python",
   "name": "python",
   "nbconvert_exporter": "python",
   "pygments_lexer": "ipython3",
   "version": "3.6.2"
  }
 },
 "nbformat": 4,
 "nbformat_minor": 2
}
